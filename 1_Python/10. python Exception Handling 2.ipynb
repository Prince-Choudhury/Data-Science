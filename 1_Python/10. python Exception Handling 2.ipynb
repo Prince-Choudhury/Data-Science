{
 "cells": [
  {
   "cell_type": "markdown",
   "id": "2dd34198",
   "metadata": {},
   "source": [
    "# List Of General Use Exceptions"
   ]
  },
  {
   "cell_type": "code",
   "execution_count": 1,
   "id": "76365134",
   "metadata": {},
   "outputs": [
    {
     "name": "stdout",
     "output_type": "stream",
     "text": [
      "division by zero\n"
     ]
    }
   ],
   "source": [
    "try :\n",
    "     a = 10/0\n",
    "except ZeroDivisionError as e :\n",
    "    print(e)"
   ]
  },
  {
   "cell_type": "code",
   "execution_count": 3,
   "id": "ed0e606c",
   "metadata": {},
   "outputs": [
    {
     "name": "stdout",
     "output_type": "stream",
     "text": [
      "invalid literal for int() with base 10: 'prince'\n"
     ]
    }
   ],
   "source": [
    "try :\n",
    "    int(\"prince\")\n",
    "except(ValueError, TypeError) as e :\n",
    "    print(e)"
   ]
  },
  {
   "cell_type": "code",
   "execution_count": 4,
   "id": "e2460c82",
   "metadata": {},
   "outputs": [
    {
     "name": "stdout",
     "output_type": "stream",
     "text": [
      "This will catch an error\n"
     ]
    }
   ],
   "source": [
    "try :\n",
    "    int(\"prince\")\n",
    "except :\n",
    "    print(\"This will catch an error\")"
   ]
  },
  {
   "cell_type": "code",
   "execution_count": 5,
   "id": "b213bce1",
   "metadata": {},
   "outputs": [
    {
     "name": "stdout",
     "output_type": "stream",
     "text": [
      "No module named 'prince'\n"
     ]
    },
    {
     "data": {
      "text/plain": [
       "2.5"
      ]
     },
     "execution_count": 5,
     "metadata": {},
     "output_type": "execute_result"
    }
   ],
   "source": [
    "try :\n",
    "    import prince\n",
    "except ImportError as e :\n",
    "    print(e)\n",
    "10/4\n",
    "    "
   ]
  },
  {
   "cell_type": "code",
   "execution_count": 7,
   "id": "b148efca",
   "metadata": {},
   "outputs": [
    {
     "name": "stdout",
     "output_type": "stream",
     "text": [
      "'key2'\n"
     ]
    }
   ],
   "source": [
    "try :\n",
    "    d = {\"key\" : \"prince\", 1 : [2,3,4,5]}\n",
    "    print(d[\"key2\"])\n",
    "except KeyError as e :\n",
    "    print(e)"
   ]
  },
  {
   "cell_type": "code",
   "execution_count": 9,
   "id": "f82189ea",
   "metadata": {},
   "outputs": [
    {
     "name": "stdout",
     "output_type": "stream",
     "text": [
      "'str' object has no attribute 'test'\n"
     ]
    }
   ],
   "source": [
    "try :\n",
    "    \"prince\".test()\n",
    "except AttributeError as e :\n",
    "    print(e)"
   ]
  },
  {
   "cell_type": "code",
   "execution_count": 10,
   "id": "76ca8fb0",
   "metadata": {},
   "outputs": [
    {
     "name": "stdout",
     "output_type": "stream",
     "text": [
      "list index out of range\n"
     ]
    }
   ],
   "source": [
    "try :\n",
    "    l = [2,3,4,5]\n",
    "    print(l[6])\n",
    "except IndexError as e :\n",
    "    print(e)\n",
    "    "
   ]
  },
  {
   "cell_type": "code",
   "execution_count": 11,
   "id": "f09a473e",
   "metadata": {},
   "outputs": [
    {
     "name": "stdout",
     "output_type": "stream",
     "text": [
      "unsupported operand type(s) for +: 'int' and 'str'\n"
     ]
    }
   ],
   "source": [
    "try :\n",
    "    123 + \"prince\"\n",
    "except TypeError as e :\n",
    "    print(e)"
   ]
  },
  {
   "cell_type": "code",
   "execution_count": 13,
   "id": "c580be63",
   "metadata": {},
   "outputs": [
    {
     "name": "stdout",
     "output_type": "stream",
     "text": [
      "[Errno 2] No such file or directory: 'test20.txt'\n"
     ]
    }
   ],
   "source": [
    "try :\n",
    "    with open(\"test20.txt\", 'r') as f :\n",
    "        f.read()\n",
    "except FileNotFoundError as e :\n",
    "    print(e)"
   ]
  },
  {
   "cell_type": "code",
   "execution_count": 14,
   "id": "c25d6850",
   "metadata": {},
   "outputs": [
    {
     "data": {
      "text/plain": [
       "['__cause__',\n",
       " '__class__',\n",
       " '__context__',\n",
       " '__delattr__',\n",
       " '__dict__',\n",
       " '__dir__',\n",
       " '__doc__',\n",
       " '__eq__',\n",
       " '__format__',\n",
       " '__ge__',\n",
       " '__getattribute__',\n",
       " '__gt__',\n",
       " '__hash__',\n",
       " '__init__',\n",
       " '__init_subclass__',\n",
       " '__le__',\n",
       " '__lt__',\n",
       " '__ne__',\n",
       " '__new__',\n",
       " '__reduce__',\n",
       " '__reduce_ex__',\n",
       " '__repr__',\n",
       " '__setattr__',\n",
       " '__setstate__',\n",
       " '__sizeof__',\n",
       " '__str__',\n",
       " '__subclasshook__',\n",
       " '__suppress_context__',\n",
       " '__traceback__',\n",
       " 'args',\n",
       " 'with_traceback']"
      ]
     },
     "execution_count": 14,
     "metadata": {},
     "output_type": "execute_result"
    }
   ],
   "source": [
    "dir(Exception)"
   ]
  },
  {
   "cell_type": "code",
   "execution_count": 16,
   "id": "290c3f04",
   "metadata": {},
   "outputs": [
    {
     "name": "stdout",
     "output_type": "stream",
     "text": [
      "[Errno 2] No such file or directory: 'test20.txt'\n"
     ]
    }
   ],
   "source": [
    "try :\n",
    "    with open(\"test20.txt\", 'r') as f :\n",
    "        test = f.read()\n",
    "except Exception as e :\n",
    "    print(e)\n",
    "except FileNotFoundError as e :\n",
    "    print(\"test\", e)"
   ]
  },
  {
   "cell_type": "code",
   "execution_count": null,
   "id": "9ab7399f",
   "metadata": {},
   "outputs": [],
   "source": []
  },
  {
   "cell_type": "markdown",
   "id": "2c131fb0",
   "metadata": {},
   "source": [
    "# Best Practice Exception Handling"
   ]
  },
  {
   "cell_type": "code",
   "execution_count": 17,
   "id": "792fb1aa",
   "metadata": {},
   "outputs": [
    {
     "name": "stdout",
     "output_type": "stream",
     "text": [
      "division by zero\n"
     ]
    }
   ],
   "source": [
    "#Use always a specific exception\n",
    "\n",
    "try :\n",
    "    10/0\n",
    "    \n",
    "except Exception as e :\n",
    "    print(e)"
   ]
  },
  {
   "cell_type": "code",
   "execution_count": 18,
   "id": "618e7aa5",
   "metadata": {},
   "outputs": [
    {
     "name": "stdout",
     "output_type": "stream",
     "text": [
      "division by zero\n"
     ]
    }
   ],
   "source": [
    "#Use always a specific exception\n",
    "\n",
    "try :\n",
    "    10/0\n",
    "    \n",
    "except ZeroDivisionError as e :  #this is good practice, always use a specific exception \n",
    "                                #In this case we have used ZeroDivisionError\n",
    "    print(e)"
   ]
  },
  {
   "cell_type": "code",
   "execution_count": 19,
   "id": "bac85ca7",
   "metadata": {},
   "outputs": [
    {
     "name": "stdout",
     "output_type": "stream",
     "text": [
      "I am trying to handling a zeroivision error division by zero\n"
     ]
    }
   ],
   "source": [
    "#Print always a proper message\n",
    "\n",
    "try :\n",
    "    10/0\n",
    "    \n",
    "except ZeroDivisionError as e :\n",
    "    print(\"I am trying to handling a zeroivision error\", e)\n",
    "    "
   ]
  },
  {
   "cell_type": "code",
   "execution_count": 20,
   "id": "bd693e57",
   "metadata": {},
   "outputs": [],
   "source": [
    "#Always try to log your error\n",
    "\n",
    "import logging\n",
    "logging.basicConfig(filename = \"error.log\", level = logging.ERROR)\n",
    "try :\n",
    "    10/0\n",
    "except ZeroDivisionError as e :\n",
    "    logging.error(\"I am trying to handle a zerodivision error {}\".format(e))"
   ]
  },
  {
   "cell_type": "code",
   "execution_count": 6,
   "id": "0c7f78af",
   "metadata": {},
   "outputs": [],
   "source": [
    "import logging"
   ]
  },
  {
   "cell_type": "code",
   "execution_count": 7,
   "id": "3a5e0e4c",
   "metadata": {},
   "outputs": [
    {
     "name": "stderr",
     "output_type": "stream",
     "text": [
      "ERROR:root:I am trying to handle a zerodivision error division by zero\n"
     ]
    }
   ],
   "source": [
    "#Always avoid to write a multiple exception handling\n",
    "try :\n",
    "    10/0\n",
    "except FileNotFoundError as e :\n",
    "        logging.error(\"I am handling file not found {}\".format(e))\n",
    "except AttributeError as e :\n",
    "        logging.error(\"I am handling attribute error {}\".format(e))\n",
    "except ZeroDivisionError as e :\n",
    "    logging.error(\"I am trying to handle a zerodivision error {}\".format(e))"
   ]
  },
  {
   "cell_type": "code",
   "execution_count": 4,
   "id": "4deb1cc9",
   "metadata": {},
   "outputs": [],
   "source": [
    "#Document all the error\n",
    "#cleanup all the resources\n",
    "\n",
    "try :\n",
    "    with open(\"test19.txt\", 'w') as f :\n",
    "        f.write(\"This is my data to file\")\n",
    "except FileNotFoundError as e :\n",
    "        logging.error(\"I am handling file not found {}\".format(e))\n",
    "finally :\n",
    "    f.close()"
   ]
  },
  {
   "cell_type": "code",
   "execution_count": null,
   "id": "7765e1bf",
   "metadata": {},
   "outputs": [],
   "source": []
  },
  {
   "cell_type": "code",
   "execution_count": null,
   "id": "177d435a",
   "metadata": {},
   "outputs": [],
   "source": []
  },
  {
   "cell_type": "code",
   "execution_count": null,
   "id": "5fbbc08a",
   "metadata": {},
   "outputs": [],
   "source": []
  },
  {
   "cell_type": "code",
   "execution_count": null,
   "id": "7b7b68e9",
   "metadata": {},
   "outputs": [],
   "source": []
  },
  {
   "cell_type": "code",
   "execution_count": null,
   "id": "2a01a50a",
   "metadata": {},
   "outputs": [],
   "source": []
  }
 ],
 "metadata": {
  "kernelspec": {
   "display_name": "Python 3 (ipykernel)",
   "language": "python",
   "name": "python3"
  },
  "language_info": {
   "codemirror_mode": {
    "name": "ipython",
    "version": 3
   },
   "file_extension": ".py",
   "mimetype": "text/x-python",
   "name": "python",
   "nbconvert_exporter": "python",
   "pygments_lexer": "ipython3",
   "version": "3.9.13"
  }
 },
 "nbformat": 4,
 "nbformat_minor": 5
}
