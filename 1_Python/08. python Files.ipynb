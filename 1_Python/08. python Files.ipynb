{
 "cells": [
  {
   "cell_type": "markdown",
   "id": "4b9b1b5a",
   "metadata": {},
   "source": [
    "# Working with files"
   ]
  },
  {
   "cell_type": "code",
   "execution_count": 12,
   "id": "35433957",
   "metadata": {},
   "outputs": [],
   "source": [
    "f = open(\"test.txt\", 'w')"
   ]
  },
  {
   "cell_type": "code",
   "execution_count": 13,
   "id": "d5eb0a0d",
   "metadata": {},
   "outputs": [
    {
     "data": {
      "text/plain": [
       "'C:\\\\Users\\\\Prince'"
      ]
     },
     "execution_count": 13,
     "metadata": {},
     "output_type": "execute_result"
    }
   ],
   "source": [
    "pwd"
   ]
  },
  {
   "cell_type": "code",
   "execution_count": null,
   "id": "5881a8b5",
   "metadata": {},
   "outputs": [],
   "source": []
  },
  {
   "cell_type": "code",
   "execution_count": 14,
   "id": "4f47b86a",
   "metadata": {},
   "outputs": [
    {
     "name": "stdout",
     "output_type": "stream",
     "text": [
      " Volume in drive C is SSD\n",
      " Volume Serial Number is FA82-8CE4\n",
      "\n",
      " Directory of C:\\Users\\Prince\n",
      "\n",
      "15/02/2023  16:21    <DIR>          .\n",
      "15/02/2023  16:21    <DIR>          ..\n",
      "26/11/2021  16:54    <DIR>          .android\n",
      "29/08/2022  19:39             2,067 .bash_history\n",
      "28/10/2022  14:19    <DIR>          .conda\n",
      "28/10/2022  14:13                25 .condarc\n",
      "28/10/2022  14:12    <DIR>          .continuum\n",
      "29/08/2022  19:25               218 .gitconfig\n",
      "05/04/2019  16:03    <DIR>          .idlerc\n",
      "14/02/2023  14:23    <DIR>          .ipynb_checkpoints\n",
      "28/10/2022  16:22    <DIR>          .ipython\n",
      "28/10/2022  14:10    <DIR>          .jupyter\n",
      "30/01/2022  12:04                20 .lesshst\n",
      "30/12/2022  16:28    <DIR>          .matplotlib\n",
      "19/12/2021  10:25                 0 .node_repl_history\n",
      "04/01/2022  07:17    <DIR>          .openshot_qt\n",
      "19/11/2022  15:29               178 .packettracer\n",
      "12/02/2022  15:58    <DIR>          .ssh\n",
      "30/01/2022  10:11               894 .viminfo\n",
      "05/10/2021  12:08    <DIR>          .vscode\n",
      "25/02/2022  09:26             6,876 -1.14-windows.xml\n",
      "23/02/2022  22:26    <DIR>          3D Objects\n",
      "30/12/2022  16:26    <DIR>          anaconda3\n",
      "23/01/2022  07:00             1,319 C  Programming Language - Shortcut.lnk\n",
      "23/01/2022  06:57             1,314 C Language Programming - Shortcut.lnk\n",
      "11/11/2022  10:54    <DIR>          Cisco Packet Tracer 7.3.1\n",
      "23/02/2022  22:26    <DIR>          Contacts\n",
      "11/02/2023  09:41    <DIR>          Desktop\n",
      "15/02/2023  12:25    <DIR>          Documents\n",
      "15/02/2023  12:37    <DIR>          Downloads\n",
      "10/12/2022  08:54             3,778 employees.csv\n",
      "17/07/2022  11:42    <DIR>          fathers sign\n",
      "23/02/2022  22:26    <DIR>          Favorites\n",
      "08/02/2023  16:53            23,245 Generator Function.ipynb\n",
      "16/01/2023  18:14            11,903 glass.data\n",
      "19/12/2021  09:52    <DIR>          jss\n",
      "23/02/2022  22:26    <DIR>          Links\n",
      "28/09/2021  06:40            19,381 macmol.cml\n",
      "01/10/2021  20:41            19,656 molecule.cml\n",
      "14/08/2022  01:47    <DIR>          Music\n",
      "05/10/2021  12:21    <DIR>          New folder\n",
      "31/01/2023  16:27             1,671 New Python Basics 1.ipynb\n",
      "15/02/2023  16:21             9,293 New Python Files.ipynb\n",
      "06/02/2023  15:10            30,451 New Python while loop, function.ipynb\n",
      "10/12/2022  07:03    <DIR>          OneDrive\n",
      "18/12/2022  09:11    <DIR>          OneDrive - vitbhopal.ac.in\n",
      "13/08/2022  21:19    <DIR>          partion 1\n",
      "07/11/2022  23:07    <DIR>          Pictures\n",
      "06/01/2023  15:00               589 Pycharm, vscode, mysql, mongodb, cassandra insstallation.ipynb\n",
      "29/09/2021  06:03    <DIR>          PycharmProjects\n",
      "31/10/2022  22:36             6,567 Python 1.ipynb\n",
      "03/11/2022  22:39            36,484 Python 2.ipynb\n",
      "08/11/2022  22:13            11,535 Python 3.ipynb\n",
      "24/11/2022  09:53            28,545 Python 4 (List and string).ipynb\n",
      "26/11/2022  08:27            31,748 Python 5(Tuples and dictonary).ipynb\n",
      "27/11/2022  09:58            30,456 Python 6(Functions).ipynb\n",
      "08/12/2022  07:56            37,315 Python Exception Handling.ipynb\n",
      "03/02/2023  17:27            16,512 python for loop(2nd Feb).ipynb\n",
      "10/01/2023  14:51            70,640 Python Mongodb.ipynb\n",
      "31/01/2023  17:05            52,028 Python Numpy.ipynb\n",
      "31/01/2023  17:59             7,165 Python OOPs 1.ipynb\n",
      "10/02/2023  13:27            10,946 Python OOPs Basics.ipynb\n",
      "14/02/2023  14:21            37,322 Python OOPs Decorators, class methods, static method, Property Decorators- Getters, Setters, Delete.ipynb\n",
      "12/02/2023  13:04            17,453 Python OOPs Polymorphism, Encapsulation, Inheritance.ipynb\n",
      "30/12/2022  16:23           216,658 Python Pandas.ipynb\n",
      "04/01/2023  17:53           349,071 Python Pandas2.ipynb\n",
      "19/01/2023  17:05           138,422 Python Pandas3.ipynb\n",
      "16/01/2023  18:20            53,690 Python SQL 1.ipynb\n",
      "12/01/2023  15:52            13,835 Python SQL.ipynb\n",
      "31/03/2019  19:21    <DIR>          Sample csv file\n",
      "23/02/2022  22:26    <DIR>          Saved Games\n",
      "23/02/2022  22:26    <DIR>          Searches\n",
      "06/09/2022  18:41    <DIR>          source\n",
      "15/02/2023  16:21                 0 test.txt\n",
      "06/07/2022  12:58    <DIR>          Videos\n",
      "              39 File(s)      1,299,270 bytes\n",
      "              36 Dir(s)  142,399,840,256 bytes free\n"
     ]
    }
   ],
   "source": [
    "ls"
   ]
  },
  {
   "cell_type": "code",
   "execution_count": 15,
   "id": "bd906052",
   "metadata": {},
   "outputs": [
    {
     "data": {
      "text/plain": [
       "30"
      ]
     },
     "execution_count": 15,
     "metadata": {},
     "output_type": "execute_result"
    }
   ],
   "source": [
    "f.write(\"This is my first file to write\")"
   ]
  },
  {
   "cell_type": "code",
   "execution_count": 16,
   "id": "9084ed6e",
   "metadata": {},
   "outputs": [],
   "source": [
    "f.close()"
   ]
  },
  {
   "cell_type": "code",
   "execution_count": 17,
   "id": "0ac5f33f",
   "metadata": {},
   "outputs": [],
   "source": [
    "f = open(\"test.txt\", 'w')"
   ]
  },
  {
   "cell_type": "code",
   "execution_count": 18,
   "id": "4bb1df44",
   "metadata": {},
   "outputs": [
    {
     "data": {
      "text/plain": [
       "15"
      ]
     },
     "execution_count": 18,
     "metadata": {},
     "output_type": "execute_result"
    }
   ],
   "source": [
    "f.write(\"This is my file\")"
   ]
  },
  {
   "cell_type": "code",
   "execution_count": 19,
   "id": "167ef44c",
   "metadata": {},
   "outputs": [],
   "source": [
    "f.close()"
   ]
  },
  {
   "cell_type": "code",
   "execution_count": 20,
   "id": "ca5727a0",
   "metadata": {},
   "outputs": [],
   "source": [
    "f = open(\"test.txt\", 'a')    #a mode means append data "
   ]
  },
  {
   "cell_type": "code",
   "execution_count": 21,
   "id": "ccf07dad",
   "metadata": {},
   "outputs": [
    {
     "data": {
      "text/plain": [
       "765"
      ]
     },
     "execution_count": 21,
     "metadata": {},
     "output_type": "execute_result"
    }
   ],
   "source": [
    "f.write(\"Data Science Masters course is highly curated and uniquely designed according to the latest industry standards. This program instills students the skills essential to knowledge discovery efforts to identify standard, novel, and truly differentiated solutions and decision-making, including skills in managing, querying, analyzing, visualizing, and extracting meaning from extremely large data sets. This trending program provides students with the statistical, mathematical and computational skills needed to meet the large-scale data science challenges of today's professional world. You will learn all the stack required to work in data science industry including cloud infrastructure and real-time industry projects. This course will be taught in Hindi language.\")"
   ]
  },
  {
   "cell_type": "code",
   "execution_count": 22,
   "id": "6640c229",
   "metadata": {},
   "outputs": [],
   "source": [
    "f.close()"
   ]
  },
  {
   "cell_type": "code",
   "execution_count": 23,
   "id": "872b955b",
   "metadata": {},
   "outputs": [],
   "source": [
    "f = open(\"test.txt\", 'r')"
   ]
  },
  {
   "cell_type": "code",
   "execution_count": 24,
   "id": "6850ce12",
   "metadata": {},
   "outputs": [],
   "source": [
    "data = f.read()"
   ]
  },
  {
   "cell_type": "code",
   "execution_count": 25,
   "id": "21e2e103",
   "metadata": {},
   "outputs": [
    {
     "data": {
      "text/plain": [
       "\"This is my fileData Science Masters course is highly curated and uniquely designed according to the latest industry standards. This program instills students the skills essential to knowledge discovery efforts to identify standard, novel, and truly differentiated solutions and decision-making, including skills in managing, querying, analyzing, visualizing, and extracting meaning from extremely large data sets. This trending program provides students with the statistical, mathematical and computational skills needed to meet the large-scale data science challenges of today's professional world. You will learn all the stack required to work in data science industry including cloud infrastructure and real-time industry projects. This course will be taught in Hindi language.\""
      ]
     },
     "execution_count": 25,
     "metadata": {},
     "output_type": "execute_result"
    }
   ],
   "source": [
    "data"
   ]
  },
  {
   "cell_type": "code",
   "execution_count": 26,
   "id": "5f11195d",
   "metadata": {},
   "outputs": [],
   "source": [
    "data = open(\"test.txt\", 'r')"
   ]
  },
  {
   "cell_type": "code",
   "execution_count": 27,
   "id": "9c849de6",
   "metadata": {},
   "outputs": [
    {
     "data": {
      "text/plain": [
       "<_io.TextIOWrapper name='test.txt' mode='r' encoding='cp1252'>"
      ]
     },
     "execution_count": 27,
     "metadata": {},
     "output_type": "execute_result"
    }
   ],
   "source": [
    "data"
   ]
  },
  {
   "cell_type": "code",
   "execution_count": 28,
   "id": "11c2bb0d",
   "metadata": {},
   "outputs": [
    {
     "data": {
      "text/plain": [
       "\"This is my fileData Science Masters course is highly curated and uniquely designed according to the latest industry standards. This program instills students the skills essential to knowledge discovery efforts to identify standard, novel, and truly differentiated solutions and decision-making, including skills in managing, querying, analyzing, visualizing, and extracting meaning from extremely large data sets. This trending program provides students with the statistical, mathematical and computational skills needed to meet the large-scale data science challenges of today's professional world. You will learn all the stack required to work in data science industry including cloud infrastructure and real-time industry projects. This course will be taught in Hindi language.\""
      ]
     },
     "execution_count": 28,
     "metadata": {},
     "output_type": "execute_result"
    }
   ],
   "source": [
    "data.read()"
   ]
  },
  {
   "cell_type": "code",
   "execution_count": 29,
   "id": "754b4ece",
   "metadata": {},
   "outputs": [
    {
     "data": {
      "text/plain": [
       "''"
      ]
     },
     "execution_count": 29,
     "metadata": {},
     "output_type": "execute_result"
    }
   ],
   "source": [
    "data.readline()"
   ]
  },
  {
   "cell_type": "code",
   "execution_count": 30,
   "id": "f846ba25",
   "metadata": {},
   "outputs": [
    {
     "data": {
      "text/plain": [
       "0"
      ]
     },
     "execution_count": 30,
     "metadata": {},
     "output_type": "execute_result"
    }
   ],
   "source": [
    "data.seek(0)"
   ]
  },
  {
   "cell_type": "code",
   "execution_count": 31,
   "id": "13178bd0",
   "metadata": {},
   "outputs": [
    {
     "data": {
      "text/plain": [
       "\"This is my fileData Science Masters course is highly curated and uniquely designed according to the latest industry standards. This program instills students the skills essential to knowledge discovery efforts to identify standard, novel, and truly differentiated solutions and decision-making, including skills in managing, querying, analyzing, visualizing, and extracting meaning from extremely large data sets. This trending program provides students with the statistical, mathematical and computational skills needed to meet the large-scale data science challenges of today's professional world. You will learn all the stack required to work in data science industry including cloud infrastructure and real-time industry projects. This course will be taught in Hindi language.\""
      ]
     },
     "execution_count": 31,
     "metadata": {},
     "output_type": "execute_result"
    }
   ],
   "source": [
    "data.readline()"
   ]
  },
  {
   "cell_type": "code",
   "execution_count": 32,
   "id": "89f707a9",
   "metadata": {},
   "outputs": [
    {
     "data": {
      "text/plain": [
       "''"
      ]
     },
     "execution_count": 32,
     "metadata": {},
     "output_type": "execute_result"
    }
   ],
   "source": [
    "data.readline()"
   ]
  },
  {
   "cell_type": "code",
   "execution_count": 36,
   "id": "3ca478fd",
   "metadata": {},
   "outputs": [
    {
     "data": {
      "text/plain": [
       "10"
      ]
     },
     "execution_count": 36,
     "metadata": {},
     "output_type": "execute_result"
    }
   ],
   "source": [
    "data.seek(10)    #It will start from 10th position. Using seek fun we can set our cursor or pointer"
   ]
  },
  {
   "cell_type": "code",
   "execution_count": 37,
   "id": "15083533",
   "metadata": {},
   "outputs": [
    {
     "data": {
      "text/plain": [
       "\" fileData Science Masters course is highly curated and uniquely designed according to the latest industry standards. This program instills students the skills essential to knowledge discovery efforts to identify standard, novel, and truly differentiated solutions and decision-making, including skills in managing, querying, analyzing, visualizing, and extracting meaning from extremely large data sets. This trending program provides students with the statistical, mathematical and computational skills needed to meet the large-scale data science challenges of today's professional world. You will learn all the stack required to work in data science industry including cloud infrastructure and real-time industry projects. This course will be taught in Hindi language.\""
      ]
     },
     "execution_count": 37,
     "metadata": {},
     "output_type": "execute_result"
    }
   ],
   "source": [
    "data.read()"
   ]
  },
  {
   "cell_type": "code",
   "execution_count": 38,
   "id": "76f887d1",
   "metadata": {},
   "outputs": [],
   "source": [
    "data1 = open(\"test.txt\", 'r')"
   ]
  },
  {
   "cell_type": "code",
   "execution_count": 39,
   "id": "35a6a6c0",
   "metadata": {},
   "outputs": [
    {
     "name": "stdout",
     "output_type": "stream",
     "text": [
      "This is my fileData Science Masters course is highly curated and uniquely designed according to the latest industry standards. This program instills students the skills essential to knowledge discovery efforts to identify standard, novel, and truly differentiated solutions and decision-making, including skills in managing, querying, analyzing, visualizing, and extracting meaning from extremely large data sets. This trending program provides students with the statistical, mathematical and computational skills needed to meet the large-scale data science challenges of today's professional world. You will learn all the stack required to work in data science industry including cloud infrastructure and real-time industry projects. This course will be taught in Hindi language.\n"
     ]
    }
   ],
   "source": [
    "for i in data1:\n",
    "    print(i)"
   ]
  },
  {
   "cell_type": "code",
   "execution_count": 40,
   "id": "dcaa94a4",
   "metadata": {},
   "outputs": [],
   "source": [
    "import os"
   ]
  },
  {
   "cell_type": "code",
   "execution_count": 41,
   "id": "3e1faa36",
   "metadata": {},
   "outputs": [
    {
     "data": {
      "text/plain": [
       "780"
      ]
     },
     "execution_count": 41,
     "metadata": {},
     "output_type": "execute_result"
    }
   ],
   "source": [
    "os.path.getsize(\"test.txt\")"
   ]
  },
  {
   "cell_type": "code",
   "execution_count": 42,
   "id": "4f7b1294",
   "metadata": {},
   "outputs": [
    {
     "ename": "PermissionError",
     "evalue": "[WinError 32] The process cannot access the file because it is being used by another process: 'test.txt'",
     "output_type": "error",
     "traceback": [
      "\u001b[1;31m---------------------------------------------------------------------------\u001b[0m",
      "\u001b[1;31mPermissionError\u001b[0m                           Traceback (most recent call last)",
      "\u001b[1;32m~\\AppData\\Local\\Temp\\ipykernel_4556\\2404772022.py\u001b[0m in \u001b[0;36m<module>\u001b[1;34m\u001b[0m\n\u001b[1;32m----> 1\u001b[1;33m \u001b[0mos\u001b[0m\u001b[1;33m.\u001b[0m\u001b[0mremove\u001b[0m\u001b[1;33m(\u001b[0m\u001b[1;34m\"test.txt\"\u001b[0m\u001b[1;33m)\u001b[0m\u001b[1;33m\u001b[0m\u001b[1;33m\u001b[0m\u001b[0m\n\u001b[0m",
      "\u001b[1;31mPermissionError\u001b[0m: [WinError 32] The process cannot access the file because it is being used by another process: 'test.txt'"
     ]
    }
   ],
   "source": [
    "os.remove(\"test.txt\")      #We can delete our file using this command"
   ]
  },
  {
   "cell_type": "code",
   "execution_count": 45,
   "id": "d1ad9c9a",
   "metadata": {},
   "outputs": [
    {
     "ename": "PermissionError",
     "evalue": "[WinError 32] The process cannot access the file because it is being used by another process: 'test.txt' -> 'new_test.txt'",
     "output_type": "error",
     "traceback": [
      "\u001b[1;31m---------------------------------------------------------------------------\u001b[0m",
      "\u001b[1;31mPermissionError\u001b[0m                           Traceback (most recent call last)",
      "\u001b[1;32m~\\AppData\\Local\\Temp\\ipykernel_4556\\319401362.py\u001b[0m in \u001b[0;36m<module>\u001b[1;34m\u001b[0m\n\u001b[1;32m----> 1\u001b[1;33m \u001b[0mos\u001b[0m\u001b[1;33m.\u001b[0m\u001b[0mrename\u001b[0m\u001b[1;33m(\u001b[0m\u001b[1;34m\"test.txt\"\u001b[0m\u001b[1;33m,\u001b[0m \u001b[1;34m\"new_test.txt\"\u001b[0m\u001b[1;33m)\u001b[0m\u001b[1;33m\u001b[0m\u001b[1;33m\u001b[0m\u001b[0m\n\u001b[0m",
      "\u001b[1;31mPermissionError\u001b[0m: [WinError 32] The process cannot access the file because it is being used by another process: 'test.txt' -> 'new_test.txt'"
     ]
    }
   ],
   "source": [
    "os.rename(\"test.txt\", \"new_test.txt\")     #We can rename our file name using this command"
   ]
  },
  {
   "cell_type": "code",
   "execution_count": 46,
   "id": "5d582841",
   "metadata": {},
   "outputs": [],
   "source": [
    "import shutil"
   ]
  },
  {
   "cell_type": "code",
   "execution_count": 47,
   "id": "866d816b",
   "metadata": {},
   "outputs": [
    {
     "data": {
      "text/plain": [
       "'copy_new.txt'"
      ]
     },
     "execution_count": 47,
     "metadata": {},
     "output_type": "execute_result"
    }
   ],
   "source": [
    "shutil.copy(\"test.txt\", \"copy_new.txt\")    #Using this command we can create copy of the file"
   ]
  },
  {
   "cell_type": "code",
   "execution_count": 49,
   "id": "79e79ba1",
   "metadata": {},
   "outputs": [
    {
     "name": "stdout",
     "output_type": "stream",
     "text": [
      "This is my fileData Science Masters course is highly curated and uniquely designed according to the latest industry standards. This program instills students the skills essential to knowledge discovery efforts to identify standard, novel, and truly differentiated solutions and decision-making, including skills in managing, querying, analyzing, visualizing, and extracting meaning from extremely large data sets. This trending program provides students with the statistical, mathematical and computational skills needed to meet the large-scale data science challenges of today's professional world. You will learn all the stack required to work in data science industry including cloud infrastructure and real-time industry projects. This course will be taught in Hindi language.\n"
     ]
    }
   ],
   "source": [
    "with open(\"copy_new.txt\", 'r') as f :\n",
    "    print(f.read())\n",
    "    "
   ]
  },
  {
   "cell_type": "code",
   "execution_count": null,
   "id": "251f0bb0",
   "metadata": {},
   "outputs": [],
   "source": []
  },
  {
   "cell_type": "code",
   "execution_count": null,
   "id": "dbba5c24",
   "metadata": {},
   "outputs": [],
   "source": []
  },
  {
   "cell_type": "markdown",
   "id": "fbfbe587",
   "metadata": {},
   "source": [
    "# Reading and Writing Files"
   ]
  },
  {
   "cell_type": "code",
   "execution_count": 50,
   "id": "1399f396",
   "metadata": {},
   "outputs": [],
   "source": [
    "data = {\n",
    "    \"name\": \"prince\",\n",
    "    \"mail_id\" : \"prince@gmail.com\",\n",
    "    \"phone_number\": 7795759374,\n",
    "    \"subject\" : [\"data science\", \"big data\",  \"data analytics\"]\n",
    "}"
   ]
  },
  {
   "cell_type": "code",
   "execution_count": 51,
   "id": "9110003c",
   "metadata": {},
   "outputs": [],
   "source": [
    "import json"
   ]
  },
  {
   "cell_type": "code",
   "execution_count": 52,
   "id": "f4fc39d7",
   "metadata": {},
   "outputs": [],
   "source": [
    "with open(\"data.json\", 'w') as f:   #We use json.dump for write operation\n",
    "    json.dump(data, f)"
   ]
  },
  {
   "cell_type": "code",
   "execution_count": 53,
   "id": "1e7b1f56",
   "metadata": {},
   "outputs": [],
   "source": [
    "with open(\"data.json\", 'r') as f :    #json.load for read operation\n",
    "    data1 = json.load(f)"
   ]
  },
  {
   "cell_type": "code",
   "execution_count": 54,
   "id": "76610d48",
   "metadata": {},
   "outputs": [
    {
     "data": {
      "text/plain": [
       "{'name': 'prince',\n",
       " 'mail_id': 'prince@gmail.com',\n",
       " 'phone_number': 7795759374,\n",
       " 'subject': ['data science', 'big data', 'data analytics']}"
      ]
     },
     "execution_count": 54,
     "metadata": {},
     "output_type": "execute_result"
    }
   ],
   "source": [
    "data1"
   ]
  },
  {
   "cell_type": "code",
   "execution_count": 55,
   "id": "7335f78e",
   "metadata": {},
   "outputs": [
    {
     "data": {
      "text/plain": [
       "'big data'"
      ]
     },
     "execution_count": 55,
     "metadata": {},
     "output_type": "execute_result"
    }
   ],
   "source": [
    "data1['subject'][1]"
   ]
  },
  {
   "cell_type": "code",
   "execution_count": 56,
   "id": "0eb01e4c",
   "metadata": {},
   "outputs": [],
   "source": [
    "import csv"
   ]
  },
  {
   "cell_type": "code",
   "execution_count": 66,
   "id": "0adcce79",
   "metadata": {},
   "outputs": [],
   "source": [
    "data = [[\"name\", \"email_id\", \"phone_number\"],\n",
    "        [\"prince\", \"prince@gmail.com\", 45793759397],\n",
    "        [\"Sai\", \"sai@gmail.com\", 57847467365]]"
   ]
  },
  {
   "cell_type": "code",
   "execution_count": 67,
   "id": "11c1dcde",
   "metadata": {},
   "outputs": [],
   "source": [
    "with open(\"data.csv\", 'w') as f :\n",
    "    writer = csv.writer(f)\n",
    "    \n",
    "    for i in data:\n",
    "        writer.writerow(i)    #It will create one csv file that is data.csv"
   ]
  },
  {
   "cell_type": "code",
   "execution_count": 68,
   "id": "86a47d74",
   "metadata": {},
   "outputs": [
    {
     "name": "stdout",
     "output_type": "stream",
     "text": [
      "['name', 'email_id', 'phone_number']\n",
      "[]\n",
      "['prince', 'prince@gmail.com', '45793759397']\n",
      "[]\n",
      "['Sai', 'sai@gmail.com', '57847467365']\n",
      "[]\n"
     ]
    }
   ],
   "source": [
    "with open(\"data.csv\", 'r') as f:\n",
    "    read_data = csv.reader(f)\n",
    "    \n",
    "    for i in read_data:\n",
    "        print(i)"
   ]
  },
  {
   "cell_type": "code",
   "execution_count": 69,
   "id": "9a2a0ebf",
   "metadata": {},
   "outputs": [],
   "source": [
    "#Binary Data\n",
    "#Write mode\n",
    "\n",
    "with open(\"test.bin\", 'wb') as f :\n",
    "    f.write(b\"\\x01\\x02\\x03\")"
   ]
  },
  {
   "cell_type": "code",
   "execution_count": 70,
   "id": "bd7f5179",
   "metadata": {},
   "outputs": [
    {
     "name": "stdout",
     "output_type": "stream",
     "text": [
      "b' \\x01\\x02\\x03'\n"
     ]
    }
   ],
   "source": [
    "#read mode\n",
    "with open(\"test.bin\", \"rb\") as f :\n",
    "    print(f.read())"
   ]
  },
  {
   "cell_type": "code",
   "execution_count": null,
   "id": "f131bbcb",
   "metadata": {},
   "outputs": [],
   "source": []
  },
  {
   "cell_type": "markdown",
   "id": "528f78e9",
   "metadata": {},
   "source": [
    "# Buffered Read And Write Other File Methods"
   ]
  },
  {
   "cell_type": "code",
   "execution_count": 71,
   "id": "f4c7077c",
   "metadata": {},
   "outputs": [],
   "source": [
    "import io   #input output "
   ]
  },
  {
   "cell_type": "code",
   "execution_count": 74,
   "id": "1d05720e",
   "metadata": {},
   "outputs": [],
   "source": [
    "with open(\"test1.txt\", \"wb\") as f :     #wb : write binary\n",
    "    file = io.BufferedWriter(f)\n",
    "    \n",
    "    file.write(b\"this is my first line\\n\")\n",
    "    file.write(b\"this is my second line\\n\")\n",
    "    file.flush()     #In case of Buffered we use flush to close the file\n",
    "    \n",
    "    "
   ]
  },
  {
   "cell_type": "code",
   "execution_count": 79,
   "id": "bf6084f2",
   "metadata": {},
   "outputs": [],
   "source": [
    "with open(\"test1.txt\", 'rb') as f:\n",
    "    \n",
    "    file = io.BufferedReader(f)\n",
    "    data = file.read(10)         #10  We can read data as per our requirment"
   ]
  },
  {
   "cell_type": "code",
   "execution_count": 80,
   "id": "0a86b89a",
   "metadata": {},
   "outputs": [
    {
     "data": {
      "text/plain": [
       "b'this is my'"
      ]
     },
     "execution_count": 80,
     "metadata": {},
     "output_type": "execute_result"
    }
   ],
   "source": [
    "data"
   ]
  },
  {
   "cell_type": "code",
   "execution_count": null,
   "id": "9662b35b",
   "metadata": {},
   "outputs": [],
   "source": []
  },
  {
   "cell_type": "code",
   "execution_count": null,
   "id": "6183e7aa",
   "metadata": {},
   "outputs": [],
   "source": []
  },
  {
   "cell_type": "markdown",
   "id": "757c9d73",
   "metadata": {},
   "source": [
    "# Logging Debugger"
   ]
  },
  {
   "cell_type": "code",
   "execution_count": 1,
   "id": "eebaa460",
   "metadata": {},
   "outputs": [
    {
     "name": "stdout",
     "output_type": "stream",
     "text": [
      "This is my print\n"
     ]
    }
   ],
   "source": [
    "print(\"This is my print\")"
   ]
  },
  {
   "cell_type": "code",
   "execution_count": 2,
   "id": "6aee930e",
   "metadata": {},
   "outputs": [],
   "source": [
    "import logging"
   ]
  },
  {
   "cell_type": "code",
   "execution_count": 3,
   "id": "b2a453b2",
   "metadata": {},
   "outputs": [],
   "source": [
    "logging.basicConfig(filename = \"test.log\", level = logging.INFO)"
   ]
  },
  {
   "cell_type": "code",
   "execution_count": 4,
   "id": "7b3766ef",
   "metadata": {},
   "outputs": [],
   "source": [
    "logging.info(\"log this line of execution\")"
   ]
  },
  {
   "cell_type": "code",
   "execution_count": 5,
   "id": "e5cc544c",
   "metadata": {},
   "outputs": [],
   "source": [
    "logging.info(\"This is my print\")"
   ]
  },
  {
   "cell_type": "code",
   "execution_count": 6,
   "id": "cbb870d5",
   "metadata": {},
   "outputs": [],
   "source": [
    "logging.debug(\"this is my msg\")"
   ]
  },
  {
   "cell_type": "code",
   "execution_count": 7,
   "id": "50a03680",
   "metadata": {},
   "outputs": [],
   "source": [
    "logging.warning(\"This is my warning msg\")"
   ]
  },
  {
   "cell_type": "code",
   "execution_count": 8,
   "id": "09a522da",
   "metadata": {},
   "outputs": [],
   "source": [
    "logging.error(\"This is my error\")"
   ]
  },
  {
   "cell_type": "code",
   "execution_count": 9,
   "id": "c6e292e5",
   "metadata": {},
   "outputs": [],
   "source": [
    "logging.critical(\"This is my critical msg\")"
   ]
  },
  {
   "cell_type": "code",
   "execution_count": 18,
   "id": "d26a5f7c",
   "metadata": {},
   "outputs": [],
   "source": [
    "logging.shutdown()"
   ]
  },
  {
   "cell_type": "code",
   "execution_count": null,
   "id": "aeda19df",
   "metadata": {},
   "outputs": [],
   "source": [
    "1. NOTSET\n",
    "2. DEBUG\n",
    "3. INFO\n",
    "4. WARNING\n",
    "5. ERROR\n",
    "6.CRITICAL"
   ]
  },
  {
   "cell_type": "code",
   "execution_count": 19,
   "id": "7b69012e",
   "metadata": {},
   "outputs": [],
   "source": [
    "logging.basicConfig(filename = \"test1.log\", level = logging.debug, format = '%(asctime)s %(message)s')"
   ]
  },
  {
   "cell_type": "code",
   "execution_count": 20,
   "id": "194703f2",
   "metadata": {},
   "outputs": [],
   "source": [
    "logging.info(\"This is my info logging\")\n",
    "logging.error(\"This is my error msg\")\n",
    "logging.critical(\"This is my critical\")"
   ]
  },
  {
   "cell_type": "code",
   "execution_count": 21,
   "id": "c9733aa2",
   "metadata": {},
   "outputs": [],
   "source": [
    "logging.shutdown()"
   ]
  },
  {
   "cell_type": "code",
   "execution_count": 22,
   "id": "b6b154dc",
   "metadata": {},
   "outputs": [],
   "source": [
    "logging.basicConfig(filename = \"test2.log\", level = logging.DEBUG, format =  '%(asctime)s %(name)s %(levelname)s %(message)s' )  #Here s means string"
   ]
  },
  {
   "cell_type": "code",
   "execution_count": 23,
   "id": "f0072019",
   "metadata": {},
   "outputs": [],
   "source": [
    "logging.info(\"This is my info logging\")\n",
    "logging.error(\"This is my error msg\")\n",
    "logging.critical(\"This is my critical\")"
   ]
  },
  {
   "cell_type": "code",
   "execution_count": 24,
   "id": "15716204",
   "metadata": {},
   "outputs": [],
   "source": [
    "l = [1,2,3,4,5,[2,3,4], \"prince\", \"Choudhury\" ]"
   ]
  },
  {
   "cell_type": "code",
   "execution_count": 35,
   "id": "1112eb17",
   "metadata": {},
   "outputs": [],
   "source": [
    "l1_int = []\n",
    "l2_str = []\n",
    "for i in l:\n",
    "    logging.info(\"We are iterating through our list and our local var is {}\".format(l))\n",
    "    if type(i) == list:\n",
    "        logging.info(\"I am inside if stat. and I am trying to check list type\" + str(i))\n",
    "        for j in i :\n",
    "            logging.info(\"I am in another for loop for list inside list element\" + str(j))\n",
    "            if type(j) == int :\n",
    "                logging.info(\"I am inside if statement\")\n",
    "                l1_int.append(j)\n",
    "                \n",
    "    elif type(i) == int:\n",
    "        l1_int.append(i)\n",
    "    else:\n",
    "        if type(i) == str:\n",
    "            l2_str.append(i)\n",
    "            \n",
    "logging.info(\"my final result for int is {l1} and str is {l2}\".format(l1 = l1_int, l2 = l2_str))\n",
    "            \n",
    "            "
   ]
  },
  {
   "cell_type": "code",
   "execution_count": 30,
   "id": "7e1ad1b1",
   "metadata": {},
   "outputs": [
    {
     "data": {
      "text/plain": [
       "[1, 2, 3, 4, 5, 2, 3, 4]"
      ]
     },
     "execution_count": 30,
     "metadata": {},
     "output_type": "execute_result"
    }
   ],
   "source": [
    "l1_int"
   ]
  },
  {
   "cell_type": "code",
   "execution_count": 31,
   "id": "d6a329e8",
   "metadata": {},
   "outputs": [
    {
     "data": {
      "text/plain": [
       "['prince', 'Choudhury']"
      ]
     },
     "execution_count": 31,
     "metadata": {},
     "output_type": "execute_result"
    }
   ],
   "source": [
    "l2_str"
   ]
  },
  {
   "cell_type": "code",
   "execution_count": null,
   "id": "9aa67cc8",
   "metadata": {},
   "outputs": [],
   "source": []
  },
  {
   "cell_type": "code",
   "execution_count": null,
   "id": "f221bf5e",
   "metadata": {},
   "outputs": [],
   "source": []
  },
  {
   "cell_type": "markdown",
   "id": "18a87e62",
   "metadata": {},
   "source": [
    "# Modules And Import Statements"
   ]
  },
  {
   "cell_type": "code",
   "execution_count": null,
   "id": "a45b34cf",
   "metadata": {},
   "outputs": [],
   "source": []
  },
  {
   "cell_type": "code",
   "execution_count": null,
   "id": "234d9751",
   "metadata": {},
   "outputs": [],
   "source": []
  },
  {
   "cell_type": "code",
   "execution_count": null,
   "id": "ee92e6ad",
   "metadata": {},
   "outputs": [],
   "source": []
  },
  {
   "cell_type": "code",
   "execution_count": null,
   "id": "0e0efc40",
   "metadata": {},
   "outputs": [],
   "source": []
  },
  {
   "cell_type": "code",
   "execution_count": null,
   "id": "e5a21dbb",
   "metadata": {},
   "outputs": [],
   "source": []
  },
  {
   "cell_type": "code",
   "execution_count": null,
   "id": "17fd5d98",
   "metadata": {},
   "outputs": [],
   "source": []
  },
  {
   "cell_type": "code",
   "execution_count": null,
   "id": "4fa58f9e",
   "metadata": {},
   "outputs": [],
   "source": []
  },
  {
   "cell_type": "code",
   "execution_count": null,
   "id": "78374e9d",
   "metadata": {},
   "outputs": [],
   "source": []
  },
  {
   "cell_type": "code",
   "execution_count": null,
   "id": "8ab97a6c",
   "metadata": {},
   "outputs": [],
   "source": []
  },
  {
   "cell_type": "code",
   "execution_count": null,
   "id": "0e1a0e9b",
   "metadata": {},
   "outputs": [],
   "source": []
  },
  {
   "cell_type": "code",
   "execution_count": null,
   "id": "92d19df6",
   "metadata": {},
   "outputs": [],
   "source": []
  },
  {
   "cell_type": "code",
   "execution_count": null,
   "id": "792701c5",
   "metadata": {},
   "outputs": [],
   "source": []
  }
 ],
 "metadata": {
  "kernelspec": {
   "display_name": "Python 3 (ipykernel)",
   "language": "python",
   "name": "python3"
  },
  "language_info": {
   "codemirror_mode": {
    "name": "ipython",
    "version": 3
   },
   "file_extension": ".py",
   "mimetype": "text/x-python",
   "name": "python",
   "nbconvert_exporter": "python",
   "pygments_lexer": "ipython3",
   "version": "3.9.13"
  }
 },
 "nbformat": 4,
 "nbformat_minor": 5
}
