{
 "cells": [
  {
   "cell_type": "code",
   "execution_count": 1,
   "id": "74eb94bc",
   "metadata": {},
   "outputs": [],
   "source": [
    "import threading"
   ]
  },
  {
   "cell_type": "code",
   "execution_count": 4,
   "id": "c111a222",
   "metadata": {},
   "outputs": [],
   "source": [
    "def test(id):\n",
    "    print(\"program start %d \"% id)"
   ]
  },
  {
   "cell_type": "code",
   "execution_count": 5,
   "id": "b7945179",
   "metadata": {},
   "outputs": [
    {
     "name": "stdout",
     "output_type": "stream",
     "text": [
      "program start 45 \n"
     ]
    }
   ],
   "source": [
    "test(45)"
   ]
  },
  {
   "cell_type": "code",
   "execution_count": 6,
   "id": "ae7848a0",
   "metadata": {},
   "outputs": [],
   "source": [
    "thread = [threading.Thread(target = test, args =(i,)) for i in range(10)]"
   ]
  },
  {
   "cell_type": "code",
   "execution_count": 7,
   "id": "681929e0",
   "metadata": {},
   "outputs": [
    {
     "name": "stdout",
     "output_type": "stream",
     "text": [
      "program start 0 \n",
      "program start 1 \n",
      "program start 2 \n",
      "program start 3 \n",
      "program start 4 \n",
      "program start 5 \n",
      "program start 6 \n",
      "program start 7 \n",
      "program start 8 \n",
      "program start 9 \n"
     ]
    }
   ],
   "source": [
    "for t in thread :\n",
    "    t.start()"
   ]
  },
  {
   "cell_type": "code",
   "execution_count": 8,
   "id": "7c9fd240",
   "metadata": {},
   "outputs": [
    {
     "data": {
      "text/plain": [
       "[<Thread(Thread-5, stopped 1592)>,\n",
       " <Thread(Thread-6, stopped 7260)>,\n",
       " <Thread(Thread-7, stopped 4000)>,\n",
       " <Thread(Thread-8, stopped 11408)>,\n",
       " <Thread(Thread-9, stopped 8144)>,\n",
       " <Thread(Thread-10, stopped 5664)>,\n",
       " <Thread(Thread-11, stopped 12024)>,\n",
       " <Thread(Thread-12, stopped 1608)>,\n",
       " <Thread(Thread-13, stopped 964)>,\n",
       " <Thread(Thread-14, stopped 6952)>]"
      ]
     },
     "execution_count": 8,
     "metadata": {},
     "output_type": "execute_result"
    }
   ],
   "source": [
    "thread"
   ]
  },
  {
   "cell_type": "code",
   "execution_count": 9,
   "id": "029ef0e9",
   "metadata": {},
   "outputs": [
    {
     "data": {
      "text/plain": [
       "2821870551744"
      ]
     },
     "execution_count": 9,
     "metadata": {},
     "output_type": "execute_result"
    }
   ],
   "source": [
    "id(thread)"
   ]
  },
  {
   "cell_type": "code",
   "execution_count": 10,
   "id": "b63f6422",
   "metadata": {},
   "outputs": [],
   "source": [
    "import threading\n",
    "import urllib.request\n",
    "\n",
    "def file_download(url, filename):\n",
    "    urllib.request.urlretrieve(url, filename)"
   ]
  },
  {
   "cell_type": "code",
   "execution_count": 11,
   "id": "f72cc770",
   "metadata": {},
   "outputs": [],
   "source": [
    "file_download(\"https://raw.githubusercontent.com/Ayon-SSP/Health_Management_Systems/main/AYON_Exercise.TXT\", \"sample.txt\" )"
   ]
  },
  {
   "cell_type": "code",
   "execution_count": 12,
   "id": "0af28249",
   "metadata": {},
   "outputs": [],
   "source": [
    "url_list = [\"https://raw.githubusercontent.com/itsfoss/text-files/master/agatha.txt\", \"https://raw.githubusercontent.com/itsfoss/text-files/master/sherlock.txt\", \"https://raw.githubusercontent.com/itsfoss/text-files/master/sample_log_file.txt\"]"
   ]
  },
  {
   "cell_type": "code",
   "execution_count": 13,
   "id": "f6194d1d",
   "metadata": {},
   "outputs": [
    {
     "data": {
      "text/plain": [
       "['https://raw.githubusercontent.com/itsfoss/text-files/master/agatha.txt',\n",
       " 'https://raw.githubusercontent.com/itsfoss/text-files/master/sherlock.txt',\n",
       " 'https://raw.githubusercontent.com/itsfoss/text-files/master/sample_log_file.txt']"
      ]
     },
     "execution_count": 13,
     "metadata": {},
     "output_type": "execute_result"
    }
   ],
   "source": [
    "url_list"
   ]
  },
  {
   "cell_type": "code",
   "execution_count": 14,
   "id": "bbc579b4",
   "metadata": {},
   "outputs": [],
   "source": [
    "file_name_list = [\"data1.txt\", \"data2.txt\", \"data3.txt\"]"
   ]
  },
  {
   "cell_type": "code",
   "execution_count": 18,
   "id": "c5bfb452",
   "metadata": {
    "scrolled": true
   },
   "outputs": [],
   "source": [
    "thrd = [threading.Thread(target = file_download, args = (url_list[i], file_name_list[i])) for i in range(len(url_list))]"
   ]
  },
  {
   "cell_type": "code",
   "execution_count": 19,
   "id": "21a47a24",
   "metadata": {},
   "outputs": [
    {
     "data": {
      "text/plain": [
       "[<Thread(Thread-15, initial)>,\n",
       " <Thread(Thread-16, initial)>,\n",
       " <Thread(Thread-17, initial)>]"
      ]
     },
     "execution_count": 19,
     "metadata": {},
     "output_type": "execute_result"
    }
   ],
   "source": [
    "thrd"
   ]
  },
  {
   "cell_type": "code",
   "execution_count": 20,
   "id": "6f2402ca",
   "metadata": {},
   "outputs": [],
   "source": [
    "for t in thrd :\n",
    "    t.start()"
   ]
  },
  {
   "cell_type": "code",
   "execution_count": 21,
   "id": "068a47e8",
   "metadata": {},
   "outputs": [
    {
     "data": {
      "text/plain": [
       "[<Thread(Thread-15, stopped 656)>,\n",
       " <Thread(Thread-16, stopped 9008)>,\n",
       " <Thread(Thread-17, stopped 11228)>]"
      ]
     },
     "execution_count": 21,
     "metadata": {},
     "output_type": "execute_result"
    }
   ],
   "source": [
    "thrd"
   ]
  },
  {
   "cell_type": "code",
   "execution_count": 22,
   "id": "0482d3a7",
   "metadata": {},
   "outputs": [],
   "source": [
    "import time"
   ]
  },
  {
   "cell_type": "code",
   "execution_count": 26,
   "id": "7be50010",
   "metadata": {},
   "outputs": [],
   "source": [
    "def test0(id):\n",
    "    for i in range(10):\n",
    "        print(\"test0 %d printing %d\" %(id, i))\n",
    "        time.sleep(1)  #time is 1 ms"
   ]
  },
  {
   "cell_type": "code",
   "execution_count": 27,
   "id": "c62bbf8a",
   "metadata": {},
   "outputs": [
    {
     "name": "stdout",
     "output_type": "stream",
     "text": [
      "test0 1 printing 0\n",
      "test0 1 printing 1\n",
      "test0 1 printing 2\n",
      "test0 1 printing 3\n",
      "test0 1 printing 4\n",
      "test0 1 printing 5\n",
      "test0 1 printing 6\n",
      "test0 1 printing 7\n",
      "test0 1 printing 8\n",
      "test0 1 printing 9\n"
     ]
    }
   ],
   "source": [
    "test0(1)"
   ]
  },
  {
   "cell_type": "code",
   "execution_count": 28,
   "id": "7763dbee",
   "metadata": {},
   "outputs": [],
   "source": [
    "thread1 = [threading.Thread(target = test0, args = (i,)) for i in range(3)]"
   ]
  },
  {
   "cell_type": "code",
   "execution_count": 29,
   "id": "09fe1b39",
   "metadata": {},
   "outputs": [
    {
     "name": "stdout",
     "output_type": "stream",
     "text": [
      "test0 0 printing 0\n",
      "test0 1 printing 0\n",
      "test0 2 printing 0\n",
      "test0 0 printing 1\n",
      "test0 2 printing 1\n",
      "test0 1 printing 1\n",
      "test0 0 printing 2\n",
      "test0 2 printing 2\n",
      "test0 1 printing 2\n",
      "test0 0 printing 3\n",
      "test0 1 printing 3\n",
      "test0 2 printing 3\n",
      "test0 0 printing 4\n",
      "test0 1 printing 4\n",
      "test0 2 printing 4\n",
      "test0 0 printing 5\n",
      "test0 2 printing 5\n",
      "test0 1 printing 5\n",
      "test0 0 printing 6\n",
      "test0 1 printing 6\n",
      "test0 2 printing 6\n",
      "test0 0 printing 7\n",
      "test0 2 printing 7\n",
      "test0 1 printing 7\n",
      "test0 0 printing 8\n",
      "test0 2 printing 8\n",
      "test0 1 printing 8\n",
      "test0 0 printing 9\n",
      "test0 1 printing 9\n",
      "test0 2 printing 9\n"
     ]
    }
   ],
   "source": [
    "for t in thread1 :\n",
    "    t.start()"
   ]
  },
  {
   "cell_type": "code",
   "execution_count": 30,
   "id": "733d68ce",
   "metadata": {},
   "outputs": [],
   "source": [
    "def test0(id):\n",
    "    for i in range(10):\n",
    "-         print(\"test0 %d printing %d %s\" %(id, i, time.ctime()))\n",
    "        time.sleep(1)  #time is 1 ms"
   ]
  },
  {
   "cell_type": "code",
   "execution_count": 31,
   "id": "06b8feb6",
   "metadata": {},
   "outputs": [
    {
     "name": "stdout",
     "output_type": "stream",
     "text": [
      "test0 0 printing 0 Sat Feb 18 16:28:35 2023\n",
      "test0 0 printing 1 Sat Feb 18 16:28:36 2023\n",
      "test0 0 printing 2 Sat Feb 18 16:28:37 2023\n",
      "test0 0 printing 3 Sat Feb 18 16:28:38 2023\n",
      "test0 0 printing 4 Sat Feb 18 16:28:39 2023\n",
      "test0 0 printing 5 Sat Feb 18 16:28:40 2023\n",
      "test0 0 printing 6 Sat Feb 18 16:28:41 2023\n",
      "test0 0 printing 7 Sat Feb 18 16:28:42 2023\n",
      "test0 0 printing 8 Sat Feb 18 16:28:43 2023\n",
      "test0 0 printing 9 Sat Feb 18 16:28:44 2023\n"
     ]
    }
   ],
   "source": [
    "test0(0)"
   ]
  },
  {
   "cell_type": "code",
   "execution_count": 32,
   "id": "4ef83200",
   "metadata": {},
   "outputs": [],
   "source": [
    "shared_var = 0\n",
    "lock_var = threading.Lock()"
   ]
  },
  {
   "cell_type": "code",
   "execution_count": 33,
   "id": "d2294f30",
   "metadata": {},
   "outputs": [],
   "source": [
    "def test1(id) :\n",
    "    global shared_var\n",
    "    with lock_var : \n",
    "        shared_var = shared_var + 1\n",
    "         print(\"test1 id is %d has increased the shared variable by %d\" %(id, shared_var))"
   ]
  },
  {
   "cell_type": "code",
   "execution_count": 36,
   "id": "ba355826",
   "metadata": {},
   "outputs": [],
   "source": [
    "thread2 = [threading.Thread(target = test1, args = (id,) ) for i in range(3)]"
   ]
  },
  {
   "cell_type": "code",
   "execution_count": 37,
   "id": "2b9c2da8",
   "metadata": {},
   "outputs": [
    {
     "data": {
      "text/plain": [
       "[<Thread(Thread-21, initial)>,\n",
       " <Thread(Thread-22, initial)>,\n",
       " <Thread(Thread-23, initial)>]"
      ]
     },
     "execution_count": 37,
     "metadata": {},
     "output_type": "execute_result"
    }
   ],
   "source": [
    "thread2"
   ]
  },
  {
   "cell_type": "code",
   "execution_count": 40,
   "id": "ea690522",
   "metadata": {},
   "outputs": [
    {
     "name": "stdout",
     "output_type": "stream",
     "text": [
      "test1 id is 0 has increased the shared variable by 1\n",
      "test1 id is 1 has increased the shared variable by 2\n",
      "test1 id is 2 has increased the shared variable by 3\n"
     ]
    }
   ],
   "source": [
    "shared_var = 0\n",
    "lock_var = threading.Lock()\n",
    "\n",
    "def test1(id) :\n",
    "    global shared_var\n",
    "    with lock_var : \n",
    "        shared_var = shared_var + 1\n",
    "        print(\"test1 id is %d has increased the shared variable by %d\" %(id, shared_var))\n",
    "\n",
    "thread2 = [threading.Thread(target = test1, args = (i,) ) for i in range(3)]\n",
    "\n",
    "for t in thread2 : \n",
    "    t.start()"
   ]
  },
  {
   "cell_type": "code",
   "execution_count": null,
   "id": "a45c62a5",
   "metadata": {},
   "outputs": [],
   "source": []
  }
 ],
 "metadata": {
  "kernelspec": {
   "display_name": "Python 3 (ipykernel)",
   "language": "python",
   "name": "python3"
  },
  "language_info": {
   "codemirror_mode": {
    "name": "ipython",
    "version": 3
   },
   "file_extension": ".py",
   "mimetype": "text/x-python",
   "name": "python",
   "nbconvert_exporter": "python",
   "pygments_lexer": "ipython3",
   "version": "3.9.13"
  }
 },
 "nbformat": 4,
 "nbformat_minor": 5
}
