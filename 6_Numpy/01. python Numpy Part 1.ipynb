{
 "cells": [
  {
   "cell_type": "code",
   "execution_count": 2,
   "id": "e279d84d-b5e0-4526-91b5-72a70d70055f",
   "metadata": {},
   "outputs": [],
   "source": [
    "#Numpy : Numerical Python\n",
    "#In Numpy we see about arrays \n",
    "\n",
    "import numpy as np"
   ]
  },
  {
   "cell_type": "code",
   "execution_count": 3,
   "id": "d496dd97-36c8-4ee1-82b3-4992493b4561",
   "metadata": {},
   "outputs": [],
   "source": [
    "l = [1,2,3,4]"
   ]
  },
  {
   "cell_type": "code",
   "execution_count": 5,
   "id": "14e1f390-86fe-4a6e-a157-03adb1b6a482",
   "metadata": {},
   "outputs": [],
   "source": [
    "arr = np.array(l)"
   ]
  },
  {
   "cell_type": "code",
   "execution_count": 6,
   "id": "bf0cbb28-4e6b-4847-bd86-df3b28e4cf29",
   "metadata": {},
   "outputs": [
    {
     "data": {
      "text/plain": [
       "array([1, 2, 3, 4])"
      ]
     },
     "execution_count": 6,
     "metadata": {},
     "output_type": "execute_result"
    }
   ],
   "source": [
    "arr      #1D"
   ]
  },
  {
   "cell_type": "code",
   "execution_count": 8,
   "id": "63ad6a0e-c5d0-4aec-ae12-7d71e37ca687",
   "metadata": {},
   "outputs": [
    {
     "data": {
      "text/plain": [
       "numpy.ndarray"
      ]
     },
     "execution_count": 8,
     "metadata": {},
     "output_type": "execute_result"
    }
   ],
   "source": [
    "type(arr)"
   ]
  },
  {
   "cell_type": "code",
   "execution_count": 9,
   "id": "ca742a11-7c02-4502-94b6-cb4ad8d0b737",
   "metadata": {},
   "outputs": [
    {
     "data": {
      "text/plain": [
       "array([[1, 2],\n",
       "       [3, 4]])"
      ]
     },
     "execution_count": 9,
     "metadata": {},
     "output_type": "execute_result"
    }
   ],
   "source": [
    "np.array([[1,2], [3,4]])     #2D"
   ]
  },
  {
   "cell_type": "code",
   "execution_count": 10,
   "id": "ced7563a-813b-43bf-94a5-4178a973a580",
   "metadata": {},
   "outputs": [
    {
     "data": {
      "text/plain": [
       "array([1, 2, 3, 4])"
      ]
     },
     "execution_count": 10,
     "metadata": {},
     "output_type": "execute_result"
    }
   ],
   "source": [
    "np.asarray(l)"
   ]
  },
  {
   "cell_type": "code",
   "execution_count": 11,
   "id": "1dcda8be-d41e-45c9-b9ed-b4656fb98071",
   "metadata": {},
   "outputs": [],
   "source": [
    "a = [2,3,4]"
   ]
  },
  {
   "cell_type": "code",
   "execution_count": 13,
   "id": "d740ebd5-dfa1-49ec-8998-4fc9eba4ce55",
   "metadata": {},
   "outputs": [
    {
     "data": {
      "text/plain": [
       "array([2, 3, 4])"
      ]
     },
     "execution_count": 13,
     "metadata": {},
     "output_type": "execute_result"
    }
   ],
   "source": [
    "np.asanyarray(a)"
   ]
  },
  {
   "cell_type": "code",
   "execution_count": 14,
   "id": "c61b6893-dbfa-465f-ac98-18becdaef4e4",
   "metadata": {},
   "outputs": [],
   "source": [
    "b = np.matrix(l)    #By default matrix is 2D"
   ]
  },
  {
   "cell_type": "code",
   "execution_count": 15,
   "id": "02118365-c6e9-4123-bfd1-641b07c5ac3e",
   "metadata": {},
   "outputs": [
    {
     "data": {
      "text/plain": [
       "matrix([[1, 2, 3, 4]])"
      ]
     },
     "execution_count": 15,
     "metadata": {},
     "output_type": "execute_result"
    }
   ],
   "source": [
    "b       "
   ]
  },
  {
   "cell_type": "code",
   "execution_count": 16,
   "id": "6e47d2f6-660a-4c5f-93c8-5ceba16a8d40",
   "metadata": {},
   "outputs": [
    {
     "data": {
      "text/plain": [
       "matrix([[1, 2, 3, 4]])"
      ]
     },
     "execution_count": 16,
     "metadata": {},
     "output_type": "execute_result"
    }
   ],
   "source": [
    "np.asanyarray(b)"
   ]
  },
  {
   "cell_type": "code",
   "execution_count": 17,
   "id": "178e62a5-2085-401e-acc1-cc464c206f4e",
   "metadata": {},
   "outputs": [],
   "source": [
    "a = np.array(l)"
   ]
  },
  {
   "cell_type": "code",
   "execution_count": 18,
   "id": "830f38c3-74d9-4099-86cc-6c63e8a1ad0e",
   "metadata": {},
   "outputs": [],
   "source": [
    "c = a"
   ]
  },
  {
   "cell_type": "code",
   "execution_count": 19,
   "id": "cef9320a-5dde-4ee0-affd-c3874e92f0bc",
   "metadata": {},
   "outputs": [
    {
     "data": {
      "text/plain": [
       "array([1, 2, 3, 4])"
      ]
     },
     "execution_count": 19,
     "metadata": {},
     "output_type": "execute_result"
    }
   ],
   "source": [
    "c"
   ]
  },
  {
   "cell_type": "code",
   "execution_count": 20,
   "id": "473b4232-755a-4cd6-8769-818a1fe7bf10",
   "metadata": {},
   "outputs": [
    {
     "data": {
      "text/plain": [
       "array([1, 2, 3, 4])"
      ]
     },
     "execution_count": 20,
     "metadata": {},
     "output_type": "execute_result"
    }
   ],
   "source": [
    "a"
   ]
  },
  {
   "cell_type": "code",
   "execution_count": 21,
   "id": "42753db8-79bc-4748-8824-faa1e0977526",
   "metadata": {},
   "outputs": [
    {
     "data": {
      "text/plain": [
       "1"
      ]
     },
     "execution_count": 21,
     "metadata": {},
     "output_type": "execute_result"
    }
   ],
   "source": [
    "c[0]"
   ]
  },
  {
   "cell_type": "code",
   "execution_count": 22,
   "id": "7d40e332-b6e4-4a3c-ba00-85a2791f46ee",
   "metadata": {},
   "outputs": [],
   "source": [
    "c[0] = 100"
   ]
  },
  {
   "cell_type": "code",
   "execution_count": 23,
   "id": "7feba2dc-9902-429c-bbd8-94c818f534c0",
   "metadata": {},
   "outputs": [
    {
     "data": {
      "text/plain": [
       "array([100,   2,   3,   4])"
      ]
     },
     "execution_count": 23,
     "metadata": {},
     "output_type": "execute_result"
    }
   ],
   "source": [
    "c"
   ]
  },
  {
   "cell_type": "code",
   "execution_count": 24,
   "id": "6ad68a35-9d2b-4a61-9e06-255607dd84a3",
   "metadata": {},
   "outputs": [
    {
     "data": {
      "text/plain": [
       "array([100,   2,   3,   4])"
      ]
     },
     "execution_count": 24,
     "metadata": {},
     "output_type": "execute_result"
    }
   ],
   "source": [
    "a"
   ]
  },
  {
   "cell_type": "code",
   "execution_count": 25,
   "id": "a1f197a2-5e00-4c1c-a060-8f0210e3b52d",
   "metadata": {},
   "outputs": [],
   "source": [
    "d = np.copy(a)"
   ]
  },
  {
   "cell_type": "code",
   "execution_count": 26,
   "id": "92aa9d2e-9ad3-4e9f-abd2-d1d82541769c",
   "metadata": {},
   "outputs": [
    {
     "data": {
      "text/plain": [
       "array([100,   2,   3,   4])"
      ]
     },
     "execution_count": 26,
     "metadata": {},
     "output_type": "execute_result"
    }
   ],
   "source": [
    "d"
   ]
  },
  {
   "cell_type": "code",
   "execution_count": 27,
   "id": "283cdb0f-983a-481e-b258-a858d075925c",
   "metadata": {},
   "outputs": [
    {
     "data": {
      "text/plain": [
       "array([100,   2,   3,   4])"
      ]
     },
     "execution_count": 27,
     "metadata": {},
     "output_type": "execute_result"
    }
   ],
   "source": [
    "a"
   ]
  },
  {
   "cell_type": "code",
   "execution_count": 28,
   "id": "c4454550-e513-42fb-9364-99d42bffb883",
   "metadata": {},
   "outputs": [],
   "source": [
    "a[1] = 400"
   ]
  },
  {
   "cell_type": "code",
   "execution_count": 29,
   "id": "26d830c8-e64e-4428-81c4-faf564ea1095",
   "metadata": {},
   "outputs": [
    {
     "data": {
      "text/plain": [
       "array([100, 400,   3,   4])"
      ]
     },
     "execution_count": 29,
     "metadata": {},
     "output_type": "execute_result"
    }
   ],
   "source": [
    "a"
   ]
  },
  {
   "cell_type": "code",
   "execution_count": 30,
   "id": "ac75c2f9-8262-4189-bc9c-e33abb74ebb4",
   "metadata": {},
   "outputs": [
    {
     "data": {
      "text/plain": [
       "array([100,   2,   3,   4])"
      ]
     },
     "execution_count": 30,
     "metadata": {},
     "output_type": "execute_result"
    }
   ],
   "source": [
    "d    #New Location pe copy bana tha therefore koi changes nahi aya h d me"
   ]
  },
  {
   "cell_type": "code",
   "execution_count": null,
   "id": "c169171b-e5ae-4cf7-bda7-62fd326b0197",
   "metadata": {},
   "outputs": [],
   "source": []
  },
  {
   "cell_type": "code",
   "execution_count": 31,
   "id": "bfac26f2-4e1f-40bd-9a51-852ef052224a",
   "metadata": {},
   "outputs": [
    {
     "data": {
      "text/plain": [
       "array([[ True, False, False],\n",
       "       [False,  True, False],\n",
       "       [False, False,  True]])"
      ]
     },
     "execution_count": 31,
     "metadata": {},
     "output_type": "execute_result"
    }
   ],
   "source": [
    "np.fromfunction(lambda i, j : i == j, (3,3))"
   ]
  },
  {
   "cell_type": "code",
   "execution_count": 32,
   "id": "4ed35bb3-7f64-4e97-8b7c-4f811ffb45cd",
   "metadata": {},
   "outputs": [
    {
     "data": {
      "text/plain": [
       "array([[0., 0., 0.],\n",
       "       [0., 1., 2.],\n",
       "       [0., 2., 4.]])"
      ]
     },
     "execution_count": 32,
     "metadata": {},
     "output_type": "execute_result"
    }
   ],
   "source": [
    "np.fromfunction(lambda i, j : i*j, (3,3))"
   ]
  },
  {
   "cell_type": "code",
   "execution_count": 44,
   "id": "eb4e67bd-9dce-400f-bc22-555b04686793",
   "metadata": {},
   "outputs": [],
   "source": [
    "iterable = (i*i for i in range(5))"
   ]
  },
  {
   "cell_type": "code",
   "execution_count": 45,
   "id": "fe20071d-43f3-4a76-ab35-c545b87792cb",
   "metadata": {},
   "outputs": [
    {
     "data": {
      "text/plain": [
       "array([ 0,  1,  4,  9, 16])"
      ]
     },
     "execution_count": 45,
     "metadata": {},
     "output_type": "execute_result"
    }
   ],
   "source": [
    "np.fromiter(iterable, int)"
   ]
  },
  {
   "cell_type": "code",
   "execution_count": 46,
   "id": "8c76676d-7706-4633-b0d2-307ebef49d2f",
   "metadata": {},
   "outputs": [
    {
     "data": {
      "text/plain": [
       "array([234., 234.])"
      ]
     },
     "execution_count": 46,
     "metadata": {},
     "output_type": "execute_result"
    }
   ],
   "source": [
    "np.fromstring('234 234', sep = ' ')"
   ]
  },
  {
   "cell_type": "code",
   "execution_count": 47,
   "id": "42331f94-4828-455b-bcc8-e613ab3c27cd",
   "metadata": {},
   "outputs": [
    {
     "data": {
      "text/plain": [
       "array([4., 5.])"
      ]
     },
     "execution_count": 47,
     "metadata": {},
     "output_type": "execute_result"
    }
   ],
   "source": [
    "np.fromstring('4,5', sep = ',')"
   ]
  },
  {
   "cell_type": "code",
   "execution_count": 48,
   "id": "851aca3d-94b6-48c5-b5f2-692caf354fe9",
   "metadata": {},
   "outputs": [],
   "source": [
    "#Numpy - Data Types"
   ]
  },
  {
   "cell_type": "code",
   "execution_count": 49,
   "id": "bc821787-9644-41ce-8949-3d79c3743170",
   "metadata": {},
   "outputs": [],
   "source": [
    "l = [2, 3, 4, 5, 6]"
   ]
  },
  {
   "cell_type": "code",
   "execution_count": 53,
   "id": "6e663dd3-2d00-4c47-9cf1-d607ca519d04",
   "metadata": {},
   "outputs": [],
   "source": [
    "arr1 = np.array(l)"
   ]
  },
  {
   "cell_type": "code",
   "execution_count": 54,
   "id": "7fd3648b-9af1-4e19-883a-e160a76d8911",
   "metadata": {},
   "outputs": [
    {
     "data": {
      "text/plain": [
       "array([2, 3, 4, 5, 6])"
      ]
     },
     "execution_count": 54,
     "metadata": {},
     "output_type": "execute_result"
    }
   ],
   "source": [
    "arr1"
   ]
  },
  {
   "cell_type": "code",
   "execution_count": 55,
   "id": "677fca96-d302-4ba7-a315-d49717f0f1f7",
   "metadata": {},
   "outputs": [
    {
     "data": {
      "text/plain": [
       "1"
      ]
     },
     "execution_count": 55,
     "metadata": {},
     "output_type": "execute_result"
    }
   ],
   "source": [
    "arr1.ndim"
   ]
  },
  {
   "cell_type": "code",
   "execution_count": 56,
   "id": "c5344a14-5c48-4023-aa6c-7cf37da201fe",
   "metadata": {},
   "outputs": [],
   "source": [
    "arr2 = np.array([[1,2,3,4], [2,3,4,5]])"
   ]
  },
  {
   "cell_type": "code",
   "execution_count": 57,
   "id": "4aaa0a28-8a6f-4cc5-924a-29a9f0654d4e",
   "metadata": {},
   "outputs": [
    {
     "data": {
      "text/plain": [
       "array([[1, 2, 3, 4],\n",
       "       [2, 3, 4, 5]])"
      ]
     },
     "execution_count": 57,
     "metadata": {},
     "output_type": "execute_result"
    }
   ],
   "source": [
    "arr2"
   ]
  },
  {
   "cell_type": "code",
   "execution_count": 58,
   "id": "c9e12456-21ba-4d71-b7d3-99ad22dd9f51",
   "metadata": {},
   "outputs": [
    {
     "data": {
      "text/plain": [
       "2"
      ]
     },
     "execution_count": 58,
     "metadata": {},
     "output_type": "execute_result"
    }
   ],
   "source": [
    "arr2.ndim"
   ]
  },
  {
   "cell_type": "code",
   "execution_count": 59,
   "id": "666457c6-4129-4abb-bc0e-034540af2b8d",
   "metadata": {},
   "outputs": [
    {
     "data": {
      "text/plain": [
       "5"
      ]
     },
     "execution_count": 59,
     "metadata": {},
     "output_type": "execute_result"
    }
   ],
   "source": [
    "arr1.size"
   ]
  },
  {
   "cell_type": "code",
   "execution_count": 60,
   "id": "8cb0c4df-a5fe-47d9-b0d6-d490200c131b",
   "metadata": {},
   "outputs": [
    {
     "data": {
      "text/plain": [
       "8"
      ]
     },
     "execution_count": 60,
     "metadata": {},
     "output_type": "execute_result"
    }
   ],
   "source": [
    "arr2.size"
   ]
  },
  {
   "cell_type": "code",
   "execution_count": 61,
   "id": "0d9b9c15-a5d4-400d-a8c6-7d142a7e8c7e",
   "metadata": {},
   "outputs": [
    {
     "data": {
      "text/plain": [
       "(5,)"
      ]
     },
     "execution_count": 61,
     "metadata": {},
     "output_type": "execute_result"
    }
   ],
   "source": [
    "arr1.shape"
   ]
  },
  {
   "cell_type": "code",
   "execution_count": 62,
   "id": "14176b45-41e9-4222-8b92-a81552e19288",
   "metadata": {},
   "outputs": [
    {
     "data": {
      "text/plain": [
       "(2, 4)"
      ]
     },
     "execution_count": 62,
     "metadata": {},
     "output_type": "execute_result"
    }
   ],
   "source": [
    "arr2.shape    #2 rows, 4 col"
   ]
  },
  {
   "cell_type": "code",
   "execution_count": 63,
   "id": "13ea8859-b678-469c-936c-02e8f723409b",
   "metadata": {},
   "outputs": [
    {
     "data": {
      "text/plain": [
       "dtype('int64')"
      ]
     },
     "execution_count": 63,
     "metadata": {},
     "output_type": "execute_result"
    }
   ],
   "source": [
    "arr1.dtype"
   ]
  },
  {
   "cell_type": "code",
   "execution_count": 64,
   "id": "11088f3a-c86a-4663-8d29-10f593df6b99",
   "metadata": {},
   "outputs": [
    {
     "data": {
      "text/plain": [
       "dtype('int64')"
      ]
     },
     "execution_count": 64,
     "metadata": {},
     "output_type": "execute_result"
    }
   ],
   "source": [
    "arr2.dtype"
   ]
  },
  {
   "cell_type": "code",
   "execution_count": 66,
   "id": "38d37bd6-e8a3-457d-ba10-5bdf8464144d",
   "metadata": {},
   "outputs": [],
   "source": [
    "arr3 = np.array([(1.4, 45, 45), (23, 45, 66)])"
   ]
  },
  {
   "cell_type": "code",
   "execution_count": 67,
   "id": "10c652d3-bef5-436b-8e0e-919e6ea0a429",
   "metadata": {},
   "outputs": [
    {
     "data": {
      "text/plain": [
       "array([[ 1.4, 45. , 45. ],\n",
       "       [23. , 45. , 66. ]])"
      ]
     },
     "execution_count": 67,
     "metadata": {},
     "output_type": "execute_result"
    }
   ],
   "source": [
    "arr3"
   ]
  },
  {
   "cell_type": "code",
   "execution_count": 68,
   "id": "67266a1b-451e-452e-aa13-090571112133",
   "metadata": {},
   "outputs": [
    {
     "data": {
      "text/plain": [
       "dtype('float64')"
      ]
     },
     "execution_count": 68,
     "metadata": {},
     "output_type": "execute_result"
    }
   ],
   "source": [
    "arr3.dtype"
   ]
  },
  {
   "cell_type": "code",
   "execution_count": 69,
   "id": "41a5fbe0-fe30-4c12-8dab-dedba387b49d",
   "metadata": {},
   "outputs": [
    {
     "data": {
      "text/plain": [
       "[0, 1, 2, 3, 4]"
      ]
     },
     "execution_count": 69,
     "metadata": {},
     "output_type": "execute_result"
    }
   ],
   "source": [
    "list(range(5))   #Range always take integer value"
   ]
  },
  {
   "cell_type": "code",
   "execution_count": 70,
   "id": "6307550f-5630-4905-9b0c-8395835b73ed",
   "metadata": {},
   "outputs": [
    {
     "ename": "TypeError",
     "evalue": "'float' object cannot be interpreted as an integer",
     "output_type": "error",
     "traceback": [
      "\u001b[0;31m---------------------------------------------------------------------------\u001b[0m",
      "\u001b[0;31mTypeError\u001b[0m                                 Traceback (most recent call last)",
      "Cell \u001b[0;32mIn[70], line 1\u001b[0m\n\u001b[0;32m----> 1\u001b[0m \u001b[38;5;28mlist\u001b[39m(\u001b[38;5;28;43mrange\u001b[39;49m\u001b[43m(\u001b[49m\u001b[38;5;241;43m0.1\u001b[39;49m\u001b[43m,\u001b[49m\u001b[43m \u001b[49m\u001b[38;5;241;43m5\u001b[39;49m\u001b[43m)\u001b[49m)\n",
      "\u001b[0;31mTypeError\u001b[0m: 'float' object cannot be interpreted as an integer"
     ]
    }
   ],
   "source": [
    "list(range(0.1, 5))"
   ]
  },
  {
   "cell_type": "code",
   "execution_count": 71,
   "id": "d4655529-bf38-4c33-9526-0f8d80cb2f66",
   "metadata": {},
   "outputs": [
    {
     "data": {
      "text/plain": [
       "array([2.3, 3.3, 4.3, 5.3])"
      ]
     },
     "execution_count": 71,
     "metadata": {},
     "output_type": "execute_result"
    }
   ],
   "source": [
    "np.arange(2.3, 5.6)    #arange function can take float values"
   ]
  },
  {
   "cell_type": "code",
   "execution_count": 72,
   "id": "e054845b-5aed-4748-a01a-93ebe0c19c19",
   "metadata": {},
   "outputs": [
    {
     "data": {
      "text/plain": [
       "array([2.3, 2.6, 2.9, 3.2, 3.5, 3.8, 4.1, 4.4, 4.7, 5. , 5.3])"
      ]
     },
     "execution_count": 72,
     "metadata": {},
     "output_type": "execute_result"
    }
   ],
   "source": [
    "np.arange(2.3, 5.6, .3)"
   ]
  },
  {
   "cell_type": "code",
   "execution_count": 73,
   "id": "5b03dfd7-df82-4e98-b51f-0f4c7aa1f537",
   "metadata": {},
   "outputs": [
    {
     "data": {
      "text/plain": [
       "[2.3,\n",
       " 2.5999999999999996,\n",
       " 2.8999999999999995,\n",
       " 3.1999999999999993,\n",
       " 3.499999999999999,\n",
       " 3.799999999999999,\n",
       " 4.099999999999999,\n",
       " 4.399999999999999,\n",
       " 4.699999999999998,\n",
       " 4.999999999999998,\n",
       " 5.299999999999998]"
      ]
     },
     "execution_count": 73,
     "metadata": {},
     "output_type": "execute_result"
    }
   ],
   "source": [
    "list(np.arange(2.3, 5.6, .3))  #array to list is also possible"
   ]
  },
  {
   "cell_type": "code",
   "execution_count": 74,
   "id": "825fd5eb-e351-41ad-b287-50b6010a1be8",
   "metadata": {},
   "outputs": [
    {
     "data": {
      "text/plain": [
       "array([1.        , 1.44444444, 1.88888889, 2.33333333, 2.77777778,\n",
       "       3.22222222, 3.66666667, 4.11111111, 4.55555556, 5.        ])"
      ]
     },
     "execution_count": 74,
     "metadata": {},
     "output_type": "execute_result"
    }
   ],
   "source": [
    "np.linspace(1, 5, 10)    # 1 to 5 it will give 10 values"
   ]
  },
  {
   "cell_type": "code",
   "execution_count": 75,
   "id": "b578b1e2-567b-4f8f-9142-c64d074844bb",
   "metadata": {},
   "outputs": [
    {
     "data": {
      "text/plain": [
       "array([0., 0., 0., 0., 0.])"
      ]
     },
     "execution_count": 75,
     "metadata": {},
     "output_type": "execute_result"
    }
   ],
   "source": [
    "np.zeros(5)   #1D (1 square bracket)"
   ]
  },
  {
   "cell_type": "code",
   "execution_count": 76,
   "id": "bd6a16cb-7b54-4387-b59d-8a2b87ba1d4e",
   "metadata": {},
   "outputs": [
    {
     "data": {
      "text/plain": [
       "array([[0., 0., 0., 0.],\n",
       "       [0., 0., 0., 0.],\n",
       "       [0., 0., 0., 0.]])"
      ]
     },
     "execution_count": 76,
     "metadata": {},
     "output_type": "execute_result"
    }
   ],
   "source": [
    "np.zeros((3, 4))  #2D (2 square bracket) 3 rows, 4 col"
   ]
  },
  {
   "cell_type": "code",
   "execution_count": 77,
   "id": "e5bd9550-ee78-45d2-b214-cce700aa0aac",
   "metadata": {},
   "outputs": [
    {
     "data": {
      "text/plain": [
       "array([[[0., 0.],\n",
       "        [0., 0.],\n",
       "        [0., 0.],\n",
       "        [0., 0.]],\n",
       "\n",
       "       [[0., 0.],\n",
       "        [0., 0.],\n",
       "        [0., 0.],\n",
       "        [0., 0.]],\n",
       "\n",
       "       [[0., 0.],\n",
       "        [0., 0.],\n",
       "        [0., 0.],\n",
       "        [0., 0.]]])"
      ]
     },
     "execution_count": 77,
     "metadata": {},
     "output_type": "execute_result"
    }
   ],
   "source": [
    "np.zeros((3, 4, 2))   #3D (3 square bracket)  We have 4 cross 2 and 3 such kind of matrix"
   ]
  },
  {
   "cell_type": "code",
   "execution_count": 3,
   "id": "6ddd9be1-ea23-4159-825f-88a34b29c533",
   "metadata": {},
   "outputs": [
    {
     "data": {
      "text/plain": [
       "array([[[[0., 0., 0.],\n",
       "         [0., 0., 0.]],\n",
       "\n",
       "        [[0., 0., 0.],\n",
       "         [0., 0., 0.]],\n",
       "\n",
       "        [[0., 0., 0.],\n",
       "         [0., 0., 0.]],\n",
       "\n",
       "        [[0., 0., 0.],\n",
       "         [0., 0., 0.]]],\n",
       "\n",
       "\n",
       "       [[[0., 0., 0.],\n",
       "         [0., 0., 0.]],\n",
       "\n",
       "        [[0., 0., 0.],\n",
       "         [0., 0., 0.]],\n",
       "\n",
       "        [[0., 0., 0.],\n",
       "         [0., 0., 0.]],\n",
       "\n",
       "        [[0., 0., 0.],\n",
       "         [0., 0., 0.]]],\n",
       "\n",
       "\n",
       "       [[[0., 0., 0.],\n",
       "         [0., 0., 0.]],\n",
       "\n",
       "        [[0., 0., 0.],\n",
       "         [0., 0., 0.]],\n",
       "\n",
       "        [[0., 0., 0.],\n",
       "         [0., 0., 0.]],\n",
       "\n",
       "        [[0., 0., 0.],\n",
       "         [0., 0., 0.]]]])"
      ]
     },
     "execution_count": 3,
     "metadata": {},
     "output_type": "execute_result"
    }
   ],
   "source": [
    "np.zeros((3,4,2,3))     #4D  We have 2 cross 3, four such matrixes  "
   ]
  },
  {
   "cell_type": "code",
   "execution_count": 4,
   "id": "f6bbea01-0d8d-40aa-98f1-e71b0fdc8a51",
   "metadata": {},
   "outputs": [],
   "source": [
    "arr4 = np.zeros((3,4,2,3)) "
   ]
  },
  {
   "cell_type": "code",
   "execution_count": 5,
   "id": "dbb57293-c150-429f-9db9-ae038f9ba492",
   "metadata": {},
   "outputs": [
    {
     "data": {
      "text/plain": [
       "4"
      ]
     },
     "execution_count": 5,
     "metadata": {},
     "output_type": "execute_result"
    }
   ],
   "source": [
    "arr4.ndim"
   ]
  },
  {
   "cell_type": "code",
   "execution_count": 6,
   "id": "6db7d14d-a747-4db4-834c-0dc5feed9f34",
   "metadata": {},
   "outputs": [
    {
     "data": {
      "text/plain": [
       "array([1., 1., 1., 1.])"
      ]
     },
     "execution_count": 6,
     "metadata": {},
     "output_type": "execute_result"
    }
   ],
   "source": [
    "np.ones(4)"
   ]
  },
  {
   "cell_type": "code",
   "execution_count": 7,
   "id": "c12bdff6-bc86-491c-b008-58ab19747c9c",
   "metadata": {},
   "outputs": [
    {
     "data": {
      "text/plain": [
       "array([[1., 1., 1.],\n",
       "       [1., 1., 1.]])"
      ]
     },
     "execution_count": 7,
     "metadata": {},
     "output_type": "execute_result"
    }
   ],
   "source": [
    "np.ones((2,3))"
   ]
  },
  {
   "cell_type": "code",
   "execution_count": 9,
   "id": "e574ab3b-e730-4033-bd91-1f5efc255e19",
   "metadata": {},
   "outputs": [],
   "source": [
    "one = np.ones((2,3,2))"
   ]
  },
  {
   "cell_type": "code",
   "execution_count": 10,
   "id": "f2e8dfa3-3bd9-482c-9b8e-49c7767a284b",
   "metadata": {},
   "outputs": [
    {
     "data": {
      "text/plain": [
       "array([[[1., 1.],\n",
       "        [1., 1.],\n",
       "        [1., 1.]],\n",
       "\n",
       "       [[1., 1.],\n",
       "        [1., 1.],\n",
       "        [1., 1.]]])"
      ]
     },
     "execution_count": 10,
     "metadata": {},
     "output_type": "execute_result"
    }
   ],
   "source": [
    "one"
   ]
  },
  {
   "cell_type": "code",
   "execution_count": 11,
   "id": "5637afb4-96db-4df1-a81b-601ce6881d9d",
   "metadata": {},
   "outputs": [
    {
     "data": {
      "text/plain": [
       "array([[[6., 6.],\n",
       "        [6., 6.],\n",
       "        [6., 6.]],\n",
       "\n",
       "       [[6., 6.],\n",
       "        [6., 6.],\n",
       "        [6., 6.]]])"
      ]
     },
     "execution_count": 11,
     "metadata": {},
     "output_type": "execute_result"
    }
   ],
   "source": [
    "one + 5"
   ]
  },
  {
   "cell_type": "code",
   "execution_count": 12,
   "id": "dac6b64c-d1fa-41fb-95ad-def165ab4a6c",
   "metadata": {},
   "outputs": [
    {
     "data": {
      "text/plain": [
       "array([[[4., 4.],\n",
       "        [4., 4.],\n",
       "        [4., 4.]],\n",
       "\n",
       "       [[4., 4.],\n",
       "        [4., 4.],\n",
       "        [4., 4.]]])"
      ]
     },
     "execution_count": 12,
     "metadata": {},
     "output_type": "execute_result"
    }
   ],
   "source": [
    "one * 4"
   ]
  },
  {
   "cell_type": "code",
   "execution_count": 14,
   "id": "65577d38-db31-41b3-a2be-d5571796c8a0",
   "metadata": {},
   "outputs": [
    {
     "data": {
      "text/plain": [
       "array([[4., 4., 4., 4.],\n",
       "       [4., 4., 4., 4.],\n",
       "       [4., 4., 4., 4.]])"
      ]
     },
     "execution_count": 14,
     "metadata": {},
     "output_type": "execute_result"
    }
   ],
   "source": [
    "np.empty((3,4))"
   ]
  },
  {
   "cell_type": "code",
   "execution_count": 15,
   "id": "951130c3-1fa8-49ed-a28e-959eb58056c4",
   "metadata": {},
   "outputs": [
    {
     "data": {
      "text/plain": [
       "array([[1., 0., 0., 0.],\n",
       "       [0., 1., 0., 0.],\n",
       "       [0., 0., 1., 0.],\n",
       "       [0., 0., 0., 1.]])"
      ]
     },
     "execution_count": 15,
     "metadata": {},
     "output_type": "execute_result"
    }
   ],
   "source": [
    "np.eye(4)   #Indentity matrix"
   ]
  },
  {
   "cell_type": "code",
   "execution_count": 17,
   "id": "efcad133-28b6-4805-937f-677702c4c2a8",
   "metadata": {},
   "outputs": [
    {
     "data": {
      "text/plain": [
       "array([2.        , 2.10526316, 2.21052632, 2.31578947, 2.42105263,\n",
       "       2.52631579, 2.63157895, 2.73684211, 2.84210526, 2.94736842,\n",
       "       3.05263158, 3.15789474, 3.26315789, 3.36842105, 3.47368421,\n",
       "       3.57894737, 3.68421053, 3.78947368, 3.89473684, 4.        ])"
      ]
     },
     "execution_count": 17,
     "metadata": {},
     "output_type": "execute_result"
    }
   ],
   "source": [
    "np.linspace(2,4 , 20)"
   ]
  },
  {
   "cell_type": "code",
   "execution_count": 18,
   "id": "9b4f793d-7b76-4a81-8aa3-27bc00a3360a",
   "metadata": {},
   "outputs": [
    {
     "data": {
      "text/plain": [
       "array([   100.        ,    215.443469  ,    464.15888336,   1000.        ,\n",
       "         2154.43469003,   4641.58883361,  10000.        ,  21544.34690032,\n",
       "        46415.88833613, 100000.        ])"
      ]
     },
     "execution_count": 18,
     "metadata": {},
     "output_type": "execute_result"
    }
   ],
   "source": [
    "np.logspace(2,5 , 10)     #It will give log value between 2 to 5 \n",
    "                            #And it will give 10 values (between 2 to 5)\n",
    "                            #By default base value is 10 but we can change "
   ]
  },
  {
   "cell_type": "code",
   "execution_count": 19,
   "id": "0796f0ef-3701-409e-8597-87ff1a904c3d",
   "metadata": {},
   "outputs": [
    {
     "data": {
      "text/plain": [
       "array([ 4.        ,  5.0396842 ,  6.34960421,  8.        , 10.0793684 ,\n",
       "       12.69920842, 16.        , 20.1587368 , 25.39841683, 32.        ])"
      ]
     },
     "execution_count": 19,
     "metadata": {},
     "output_type": "execute_result"
    }
   ],
   "source": [
    "np.logspace(2,5 , 10, base = 2) "
   ]
  },
  {
   "cell_type": "code",
   "execution_count": 20,
   "id": "be4d012c-ea49-43ef-b382-eadbea956af8",
   "metadata": {},
   "outputs": [
    {
     "data": {
      "text/plain": [
       "array([[ 1.04491977,  2.09028494, -0.83177628, -0.67204363],\n",
       "       [ 0.23897063, -1.45268515,  0.67526361, -0.85396398],\n",
       "       [ 0.54003567, -0.25030009, -0.0413252 , -0.66724648]])"
      ]
     },
     "execution_count": 20,
     "metadata": {},
     "output_type": "execute_result"
    }
   ],
   "source": [
    "np.random.randn(3,4)    #It will create 3 cross 4 matrix and the data will be random"
   ]
  },
  {
   "cell_type": "code",
   "execution_count": 21,
   "id": "c9a87a55-c129-453a-88e3-eecd45269e45",
   "metadata": {},
   "outputs": [],
   "source": [
    "arr = np.random.randn(3,4)    #In case of random.randn fun mean is 0 and Standard Dev is 1(Normal Distribution)"
   ]
  },
  {
   "cell_type": "code",
   "execution_count": 22,
   "id": "4c40720a-9c1a-47df-8d5c-574c24367e4e",
   "metadata": {},
   "outputs": [],
   "source": [
    "import pandas as pd"
   ]
  },
  {
   "cell_type": "code",
   "execution_count": 23,
   "id": "dc85eacc-3c3e-4f0b-843c-d13d78f67674",
   "metadata": {},
   "outputs": [
    {
     "data": {
      "text/html": [
       "<div>\n",
       "<style scoped>\n",
       "    .dataframe tbody tr th:only-of-type {\n",
       "        vertical-align: middle;\n",
       "    }\n",
       "\n",
       "    .dataframe tbody tr th {\n",
       "        vertical-align: top;\n",
       "    }\n",
       "\n",
       "    .dataframe thead th {\n",
       "        text-align: right;\n",
       "    }\n",
       "</style>\n",
       "<table border=\"1\" class=\"dataframe\">\n",
       "  <thead>\n",
       "    <tr style=\"text-align: right;\">\n",
       "      <th></th>\n",
       "      <th>0</th>\n",
       "      <th>1</th>\n",
       "      <th>2</th>\n",
       "      <th>3</th>\n",
       "    </tr>\n",
       "  </thead>\n",
       "  <tbody>\n",
       "    <tr>\n",
       "      <th>0</th>\n",
       "      <td>-0.601628</td>\n",
       "      <td>-1.017460</td>\n",
       "      <td>-0.490750</td>\n",
       "      <td>-1.484115</td>\n",
       "    </tr>\n",
       "    <tr>\n",
       "      <th>1</th>\n",
       "      <td>-0.944845</td>\n",
       "      <td>-0.770053</td>\n",
       "      <td>-0.209418</td>\n",
       "      <td>0.882514</td>\n",
       "    </tr>\n",
       "    <tr>\n",
       "      <th>2</th>\n",
       "      <td>-0.429646</td>\n",
       "      <td>-0.723569</td>\n",
       "      <td>-0.550178</td>\n",
       "      <td>-1.078128</td>\n",
       "    </tr>\n",
       "  </tbody>\n",
       "</table>\n",
       "</div>"
      ],
      "text/plain": [
       "          0         1         2         3\n",
       "0 -0.601628 -1.017460 -0.490750 -1.484115\n",
       "1 -0.944845 -0.770053 -0.209418  0.882514\n",
       "2 -0.429646 -0.723569 -0.550178 -1.078128"
      ]
     },
     "execution_count": 23,
     "metadata": {},
     "output_type": "execute_result"
    }
   ],
   "source": [
    "pd.DataFrame(arr)"
   ]
  },
  {
   "cell_type": "code",
   "execution_count": 24,
   "id": "e7603539-6b3b-47bf-b48c-1f160ee680c2",
   "metadata": {},
   "outputs": [
    {
     "data": {
      "text/plain": [
       "array([[0.42783965, 0.02594052, 0.50533406, 0.31760328],\n",
       "       [0.43985032, 0.74770935, 0.56057641, 0.5261859 ],\n",
       "       [0.68202997, 0.8296265 , 0.29523426, 0.06650662]])"
      ]
     },
     "execution_count": 24,
     "metadata": {},
     "output_type": "execute_result"
    }
   ],
   "source": [
    "np.random.rand(3,4)      "
   ]
  },
  {
   "cell_type": "code",
   "execution_count": 25,
   "id": "db16f584-1dde-4e42-bab0-2ad6973209e4",
   "metadata": {},
   "outputs": [
    {
     "data": {
      "text/plain": [
       "array([[  4,  11,  80,  52],\n",
       "       [ 79,  19,  84, 105],\n",
       "       [ 59,  36,  44,  91]])"
      ]
     },
     "execution_count": 25,
     "metadata": {},
     "output_type": "execute_result"
    }
   ],
   "source": [
    "np.random.randint(1,110 , (3,4))   #It will generate random data between 1 to 110 (3 rows and 4 col)"
   ]
  },
  {
   "cell_type": "code",
   "execution_count": 26,
   "id": "3d48bbe3-b493-4ab8-981f-c540010d9972",
   "metadata": {},
   "outputs": [
    {
     "data": {
      "text/plain": [
       "array([[ 95,  98,   8, ...,  30,   7,  11],\n",
       "       [ 31,  57, 101, ...,  15,  21,  96],\n",
       "       [ 60,  60,  87, ..., 109,  30, 102],\n",
       "       ...,\n",
       "       [ 45, 101,  73, ...,  13,  45,  76],\n",
       "       [106,  41,  82, ...,   9,  17,  32],\n",
       "       [ 54,  29,  87, ...,  71,  20,   8]])"
      ]
     },
     "execution_count": 26,
     "metadata": {},
     "output_type": "execute_result"
    }
   ],
   "source": [
    "np.random.randint(1,110 , (300,400))"
   ]
  },
  {
   "cell_type": "code",
   "execution_count": 27,
   "id": "b7ec1558-a0aa-4f4f-86e4-094c1b11431f",
   "metadata": {},
   "outputs": [
    {
     "data": {
      "text/html": [
       "<div>\n",
       "<style scoped>\n",
       "    .dataframe tbody tr th:only-of-type {\n",
       "        vertical-align: middle;\n",
       "    }\n",
       "\n",
       "    .dataframe tbody tr th {\n",
       "        vertical-align: top;\n",
       "    }\n",
       "\n",
       "    .dataframe thead th {\n",
       "        text-align: right;\n",
       "    }\n",
       "</style>\n",
       "<table border=\"1\" class=\"dataframe\">\n",
       "  <thead>\n",
       "    <tr style=\"text-align: right;\">\n",
       "      <th></th>\n",
       "      <th>0</th>\n",
       "      <th>1</th>\n",
       "      <th>2</th>\n",
       "      <th>3</th>\n",
       "      <th>4</th>\n",
       "      <th>5</th>\n",
       "      <th>6</th>\n",
       "      <th>7</th>\n",
       "      <th>8</th>\n",
       "      <th>9</th>\n",
       "      <th>...</th>\n",
       "      <th>390</th>\n",
       "      <th>391</th>\n",
       "      <th>392</th>\n",
       "      <th>393</th>\n",
       "      <th>394</th>\n",
       "      <th>395</th>\n",
       "      <th>396</th>\n",
       "      <th>397</th>\n",
       "      <th>398</th>\n",
       "      <th>399</th>\n",
       "    </tr>\n",
       "  </thead>\n",
       "  <tbody>\n",
       "    <tr>\n",
       "      <th>0</th>\n",
       "      <td>62</td>\n",
       "      <td>57</td>\n",
       "      <td>24</td>\n",
       "      <td>73</td>\n",
       "      <td>50</td>\n",
       "      <td>8</td>\n",
       "      <td>29</td>\n",
       "      <td>2</td>\n",
       "      <td>59</td>\n",
       "      <td>53</td>\n",
       "      <td>...</td>\n",
       "      <td>23</td>\n",
       "      <td>62</td>\n",
       "      <td>61</td>\n",
       "      <td>92</td>\n",
       "      <td>14</td>\n",
       "      <td>65</td>\n",
       "      <td>100</td>\n",
       "      <td>72</td>\n",
       "      <td>34</td>\n",
       "      <td>45</td>\n",
       "    </tr>\n",
       "    <tr>\n",
       "      <th>1</th>\n",
       "      <td>70</td>\n",
       "      <td>62</td>\n",
       "      <td>61</td>\n",
       "      <td>75</td>\n",
       "      <td>83</td>\n",
       "      <td>93</td>\n",
       "      <td>13</td>\n",
       "      <td>93</td>\n",
       "      <td>104</td>\n",
       "      <td>68</td>\n",
       "      <td>...</td>\n",
       "      <td>82</td>\n",
       "      <td>96</td>\n",
       "      <td>45</td>\n",
       "      <td>58</td>\n",
       "      <td>32</td>\n",
       "      <td>41</td>\n",
       "      <td>74</td>\n",
       "      <td>72</td>\n",
       "      <td>6</td>\n",
       "      <td>31</td>\n",
       "    </tr>\n",
       "    <tr>\n",
       "      <th>2</th>\n",
       "      <td>59</td>\n",
       "      <td>16</td>\n",
       "      <td>78</td>\n",
       "      <td>52</td>\n",
       "      <td>26</td>\n",
       "      <td>11</td>\n",
       "      <td>43</td>\n",
       "      <td>37</td>\n",
       "      <td>39</td>\n",
       "      <td>109</td>\n",
       "      <td>...</td>\n",
       "      <td>8</td>\n",
       "      <td>47</td>\n",
       "      <td>100</td>\n",
       "      <td>106</td>\n",
       "      <td>76</td>\n",
       "      <td>5</td>\n",
       "      <td>71</td>\n",
       "      <td>79</td>\n",
       "      <td>68</td>\n",
       "      <td>102</td>\n",
       "    </tr>\n",
       "    <tr>\n",
       "      <th>3</th>\n",
       "      <td>108</td>\n",
       "      <td>32</td>\n",
       "      <td>50</td>\n",
       "      <td>58</td>\n",
       "      <td>18</td>\n",
       "      <td>100</td>\n",
       "      <td>103</td>\n",
       "      <td>48</td>\n",
       "      <td>73</td>\n",
       "      <td>11</td>\n",
       "      <td>...</td>\n",
       "      <td>84</td>\n",
       "      <td>21</td>\n",
       "      <td>7</td>\n",
       "      <td>61</td>\n",
       "      <td>85</td>\n",
       "      <td>102</td>\n",
       "      <td>20</td>\n",
       "      <td>66</td>\n",
       "      <td>2</td>\n",
       "      <td>87</td>\n",
       "    </tr>\n",
       "    <tr>\n",
       "      <th>4</th>\n",
       "      <td>51</td>\n",
       "      <td>51</td>\n",
       "      <td>15</td>\n",
       "      <td>80</td>\n",
       "      <td>78</td>\n",
       "      <td>78</td>\n",
       "      <td>50</td>\n",
       "      <td>19</td>\n",
       "      <td>38</td>\n",
       "      <td>23</td>\n",
       "      <td>...</td>\n",
       "      <td>77</td>\n",
       "      <td>93</td>\n",
       "      <td>99</td>\n",
       "      <td>3</td>\n",
       "      <td>74</td>\n",
       "      <td>80</td>\n",
       "      <td>21</td>\n",
       "      <td>106</td>\n",
       "      <td>8</td>\n",
       "      <td>72</td>\n",
       "    </tr>\n",
       "    <tr>\n",
       "      <th>...</th>\n",
       "      <td>...</td>\n",
       "      <td>...</td>\n",
       "      <td>...</td>\n",
       "      <td>...</td>\n",
       "      <td>...</td>\n",
       "      <td>...</td>\n",
       "      <td>...</td>\n",
       "      <td>...</td>\n",
       "      <td>...</td>\n",
       "      <td>...</td>\n",
       "      <td>...</td>\n",
       "      <td>...</td>\n",
       "      <td>...</td>\n",
       "      <td>...</td>\n",
       "      <td>...</td>\n",
       "      <td>...</td>\n",
       "      <td>...</td>\n",
       "      <td>...</td>\n",
       "      <td>...</td>\n",
       "      <td>...</td>\n",
       "      <td>...</td>\n",
       "    </tr>\n",
       "    <tr>\n",
       "      <th>295</th>\n",
       "      <td>105</td>\n",
       "      <td>67</td>\n",
       "      <td>56</td>\n",
       "      <td>43</td>\n",
       "      <td>66</td>\n",
       "      <td>53</td>\n",
       "      <td>19</td>\n",
       "      <td>101</td>\n",
       "      <td>81</td>\n",
       "      <td>93</td>\n",
       "      <td>...</td>\n",
       "      <td>91</td>\n",
       "      <td>107</td>\n",
       "      <td>89</td>\n",
       "      <td>45</td>\n",
       "      <td>76</td>\n",
       "      <td>7</td>\n",
       "      <td>9</td>\n",
       "      <td>90</td>\n",
       "      <td>55</td>\n",
       "      <td>97</td>\n",
       "    </tr>\n",
       "    <tr>\n",
       "      <th>296</th>\n",
       "      <td>107</td>\n",
       "      <td>9</td>\n",
       "      <td>56</td>\n",
       "      <td>18</td>\n",
       "      <td>104</td>\n",
       "      <td>68</td>\n",
       "      <td>65</td>\n",
       "      <td>79</td>\n",
       "      <td>92</td>\n",
       "      <td>82</td>\n",
       "      <td>...</td>\n",
       "      <td>109</td>\n",
       "      <td>90</td>\n",
       "      <td>52</td>\n",
       "      <td>108</td>\n",
       "      <td>61</td>\n",
       "      <td>40</td>\n",
       "      <td>105</td>\n",
       "      <td>73</td>\n",
       "      <td>48</td>\n",
       "      <td>24</td>\n",
       "    </tr>\n",
       "    <tr>\n",
       "      <th>297</th>\n",
       "      <td>38</td>\n",
       "      <td>102</td>\n",
       "      <td>73</td>\n",
       "      <td>6</td>\n",
       "      <td>102</td>\n",
       "      <td>1</td>\n",
       "      <td>5</td>\n",
       "      <td>9</td>\n",
       "      <td>70</td>\n",
       "      <td>80</td>\n",
       "      <td>...</td>\n",
       "      <td>36</td>\n",
       "      <td>72</td>\n",
       "      <td>16</td>\n",
       "      <td>40</td>\n",
       "      <td>72</td>\n",
       "      <td>55</td>\n",
       "      <td>53</td>\n",
       "      <td>51</td>\n",
       "      <td>44</td>\n",
       "      <td>64</td>\n",
       "    </tr>\n",
       "    <tr>\n",
       "      <th>298</th>\n",
       "      <td>90</td>\n",
       "      <td>101</td>\n",
       "      <td>32</td>\n",
       "      <td>59</td>\n",
       "      <td>31</td>\n",
       "      <td>1</td>\n",
       "      <td>65</td>\n",
       "      <td>54</td>\n",
       "      <td>22</td>\n",
       "      <td>103</td>\n",
       "      <td>...</td>\n",
       "      <td>41</td>\n",
       "      <td>62</td>\n",
       "      <td>36</td>\n",
       "      <td>107</td>\n",
       "      <td>73</td>\n",
       "      <td>6</td>\n",
       "      <td>21</td>\n",
       "      <td>53</td>\n",
       "      <td>62</td>\n",
       "      <td>2</td>\n",
       "    </tr>\n",
       "    <tr>\n",
       "      <th>299</th>\n",
       "      <td>39</td>\n",
       "      <td>48</td>\n",
       "      <td>90</td>\n",
       "      <td>71</td>\n",
       "      <td>43</td>\n",
       "      <td>107</td>\n",
       "      <td>58</td>\n",
       "      <td>37</td>\n",
       "      <td>15</td>\n",
       "      <td>56</td>\n",
       "      <td>...</td>\n",
       "      <td>75</td>\n",
       "      <td>105</td>\n",
       "      <td>69</td>\n",
       "      <td>92</td>\n",
       "      <td>73</td>\n",
       "      <td>3</td>\n",
       "      <td>10</td>\n",
       "      <td>63</td>\n",
       "      <td>68</td>\n",
       "      <td>22</td>\n",
       "    </tr>\n",
       "  </tbody>\n",
       "</table>\n",
       "<p>300 rows × 400 columns</p>\n",
       "</div>"
      ],
      "text/plain": [
       "     0    1    2    3    4    5    6    7    8    9    ...  390  391  392  \\\n",
       "0     62   57   24   73   50    8   29    2   59   53  ...   23   62   61   \n",
       "1     70   62   61   75   83   93   13   93  104   68  ...   82   96   45   \n",
       "2     59   16   78   52   26   11   43   37   39  109  ...    8   47  100   \n",
       "3    108   32   50   58   18  100  103   48   73   11  ...   84   21    7   \n",
       "4     51   51   15   80   78   78   50   19   38   23  ...   77   93   99   \n",
       "..   ...  ...  ...  ...  ...  ...  ...  ...  ...  ...  ...  ...  ...  ...   \n",
       "295  105   67   56   43   66   53   19  101   81   93  ...   91  107   89   \n",
       "296  107    9   56   18  104   68   65   79   92   82  ...  109   90   52   \n",
       "297   38  102   73    6  102    1    5    9   70   80  ...   36   72   16   \n",
       "298   90  101   32   59   31    1   65   54   22  103  ...   41   62   36   \n",
       "299   39   48   90   71   43  107   58   37   15   56  ...   75  105   69   \n",
       "\n",
       "     393  394  395  396  397  398  399  \n",
       "0     92   14   65  100   72   34   45  \n",
       "1     58   32   41   74   72    6   31  \n",
       "2    106   76    5   71   79   68  102  \n",
       "3     61   85  102   20   66    2   87  \n",
       "4      3   74   80   21  106    8   72  \n",
       "..   ...  ...  ...  ...  ...  ...  ...  \n",
       "295   45   76    7    9   90   55   97  \n",
       "296  108   61   40  105   73   48   24  \n",
       "297   40   72   55   53   51   44   64  \n",
       "298  107   73    6   21   53   62    2  \n",
       "299   92   73    3   10   63   68   22  \n",
       "\n",
       "[300 rows x 400 columns]"
      ]
     },
     "execution_count": 27,
     "metadata": {},
     "output_type": "execute_result"
    }
   ],
   "source": [
    "pd.DataFrame(np.random.randint(1,110 , (300,400)))"
   ]
  },
  {
   "cell_type": "code",
   "execution_count": 28,
   "id": "968fe91d-1e21-450a-9503-0fbe8552a16d",
   "metadata": {},
   "outputs": [],
   "source": [
    "pd.DataFrame(np.random.randint(1,110 , (300,400))).to_csv('test.csv')"
   ]
  },
  {
   "cell_type": "code",
   "execution_count": 29,
   "id": "90b53f95-bdfb-4027-be3f-ecaea8d21a53",
   "metadata": {},
   "outputs": [],
   "source": [
    "arr = np.random.rand(3,4)"
   ]
  },
  {
   "cell_type": "code",
   "execution_count": 30,
   "id": "5bab83fd-f1c0-4f5a-8f67-ded92bc2123e",
   "metadata": {},
   "outputs": [
    {
     "data": {
      "text/plain": [
       "array([[0.12482966, 0.95432498, 0.8782666 , 0.70677807],\n",
       "       [0.38084386, 0.0527954 , 0.51898532, 0.31567216],\n",
       "       [0.80602804, 0.29771452, 0.55992451, 0.91431084]])"
      ]
     },
     "execution_count": 30,
     "metadata": {},
     "output_type": "execute_result"
    }
   ],
   "source": [
    "arr"
   ]
  },
  {
   "cell_type": "code",
   "execution_count": 31,
   "id": "48a39fa7-98f1-4aa1-9450-62cd3a319cd6",
   "metadata": {},
   "outputs": [
    {
     "data": {
      "text/plain": [
       "array([[0.12482966, 0.95432498],\n",
       "       [0.8782666 , 0.70677807],\n",
       "       [0.38084386, 0.0527954 ],\n",
       "       [0.51898532, 0.31567216],\n",
       "       [0.80602804, 0.29771452],\n",
       "       [0.55992451, 0.91431084]])"
      ]
     },
     "execution_count": 31,
     "metadata": {},
     "output_type": "execute_result"
    }
   ],
   "source": [
    "arr.reshape(6,2)"
   ]
  },
  {
   "cell_type": "code",
   "execution_count": 32,
   "id": "22e910df-e09d-4ae1-86d4-9428e5dbe1dc",
   "metadata": {},
   "outputs": [
    {
     "ename": "ValueError",
     "evalue": "cannot reshape array of size 12 into shape (6,3)",
     "output_type": "error",
     "traceback": [
      "\u001b[0;31m---------------------------------------------------------------------------\u001b[0m",
      "\u001b[0;31mValueError\u001b[0m                                Traceback (most recent call last)",
      "Cell \u001b[0;32mIn[32], line 1\u001b[0m\n\u001b[0;32m----> 1\u001b[0m \u001b[43marr\u001b[49m\u001b[38;5;241;43m.\u001b[39;49m\u001b[43mreshape\u001b[49m\u001b[43m(\u001b[49m\u001b[38;5;241;43m6\u001b[39;49m\u001b[43m,\u001b[49m\u001b[38;5;241;43m3\u001b[39;49m\u001b[43m)\u001b[49m\n",
      "\u001b[0;31mValueError\u001b[0m: cannot reshape array of size 12 into shape (6,3)"
     ]
    }
   ],
   "source": [
    "arr.reshape(6,3)"
   ]
  },
  {
   "cell_type": "code",
   "execution_count": 33,
   "id": "b1525030-1cc7-4e55-9f9e-f6189f1ab2f0",
   "metadata": {},
   "outputs": [
    {
     "data": {
      "text/plain": [
       "array([[0.12482966, 0.95432498],\n",
       "       [0.8782666 , 0.70677807],\n",
       "       [0.38084386, 0.0527954 ],\n",
       "       [0.51898532, 0.31567216],\n",
       "       [0.80602804, 0.29771452],\n",
       "       [0.55992451, 0.91431084]])"
      ]
     },
     "execution_count": 33,
     "metadata": {},
     "output_type": "execute_result"
    }
   ],
   "source": [
    "arr.reshape(6,-1)"
   ]
  },
  {
   "cell_type": "raw",
   "id": "94759a3b-bb85-4adb-8c56-9cfbd3411568",
   "metadata": {},
   "source": []
  },
  {
   "cell_type": "code",
   "execution_count": 34,
   "id": "1fe1c272-2081-4700-b3f4-4a3f7a6e9217",
   "metadata": {},
   "outputs": [
    {
     "data": {
      "text/plain": [
       "array([[0.12482966, 0.95432498],\n",
       "       [0.8782666 , 0.70677807],\n",
       "       [0.38084386, 0.0527954 ],\n",
       "       [0.51898532, 0.31567216],\n",
       "       [0.80602804, 0.29771452],\n",
       "       [0.55992451, 0.91431084]])"
      ]
     },
     "execution_count": 34,
     "metadata": {},
     "output_type": "execute_result"
    }
   ],
   "source": [
    "arr.reshape(6,-437923749237)    #By default it will take 6 cross 2 because there are 12 elements"
   ]
  },
  {
   "cell_type": "code",
   "execution_count": 35,
   "id": "4dee4e15-eb0e-435e-ac6e-2747de874200",
   "metadata": {},
   "outputs": [],
   "source": [
    "arr1 = arr.reshape(6,-437923749237)"
   ]
  },
  {
   "cell_type": "code",
   "execution_count": 36,
   "id": "68dd56ad-c1a8-4063-b9c8-8e517da0cb89",
   "metadata": {},
   "outputs": [
    {
     "data": {
      "text/plain": [
       "array([[0.12482966, 0.95432498],\n",
       "       [0.8782666 , 0.70677807],\n",
       "       [0.38084386, 0.0527954 ],\n",
       "       [0.51898532, 0.31567216],\n",
       "       [0.80602804, 0.29771452],\n",
       "       [0.55992451, 0.91431084]])"
      ]
     },
     "execution_count": 36,
     "metadata": {},
     "output_type": "execute_result"
    }
   ],
   "source": [
    "arr1"
   ]
  },
  {
   "cell_type": "code",
   "execution_count": 38,
   "id": "661eaf6c-0db5-40fe-a039-1efc7dba7377",
   "metadata": {},
   "outputs": [
    {
     "data": {
      "text/plain": [
       "0.12482965815009306"
      ]
     },
     "execution_count": 38,
     "metadata": {},
     "output_type": "execute_result"
    }
   ],
   "source": [
    "arr1[0][0]"
   ]
  },
  {
   "cell_type": "code",
   "execution_count": 39,
   "id": "646cceb0-03ea-4dde-93ab-bd9fe2e847fd",
   "metadata": {},
   "outputs": [
    {
     "data": {
      "text/plain": [
       "array([0.0527954 , 0.31567216, 0.29771452])"
      ]
     },
     "execution_count": 39,
     "metadata": {},
     "output_type": "execute_result"
    }
   ],
   "source": [
    "arr1[2:5, 1]"
   ]
  },
  {
   "cell_type": "code",
   "execution_count": 40,
   "id": "59c7aadf-f757-4b2a-88d0-78edbf59104f",
   "metadata": {},
   "outputs": [],
   "source": [
    "arr = np.random.randint(1,100 , (5,5))"
   ]
  },
  {
   "cell_type": "code",
   "execution_count": 41,
   "id": "5b90d096-2075-48a1-873f-3d4d8357699d",
   "metadata": {},
   "outputs": [
    {
     "data": {
      "text/plain": [
       "array([[80, 54, 46, 10, 65],\n",
       "       [86, 16, 91, 99, 73],\n",
       "       [47, 65, 50, 31, 21],\n",
       "       [ 7, 16, 53, 23, 72],\n",
       "       [49, 51, 28, 22, 17]])"
      ]
     },
     "execution_count": 41,
     "metadata": {},
     "output_type": "execute_result"
    }
   ],
   "source": [
    "arr"
   ]
  },
  {
   "cell_type": "raw",
   "id": "ae98b592-99e1-450a-bd7d-2eef2279c1a8",
   "metadata": {},
   "source": []
  },
  {
   "cell_type": "code",
   "execution_count": 42,
   "id": "df0a7b54-9e3d-4c51-a6f1-a783e5acd33d",
   "metadata": {},
   "outputs": [
    {
     "data": {
      "text/plain": [
       "array([[ True,  True, False, False,  True],\n",
       "       [ True, False,  True,  True,  True],\n",
       "       [False,  True, False, False, False],\n",
       "       [False, False,  True, False,  True],\n",
       "       [False,  True, False, False, False]])"
      ]
     },
     "execution_count": 42,
     "metadata": {},
     "output_type": "execute_result"
    }
   ],
   "source": [
    "arr>50"
   ]
  },
  {
   "cell_type": "code",
   "execution_count": 43,
   "id": "fe25ecc8-59a0-4672-a04f-591f0f5608c7",
   "metadata": {},
   "outputs": [
    {
     "data": {
      "text/plain": [
       "array([80, 54, 65, 86, 91, 99, 73, 65, 53, 72, 51])"
      ]
     },
     "execution_count": 43,
     "metadata": {},
     "output_type": "execute_result"
    }
   ],
   "source": [
    "arr[arr>50]"
   ]
  },
  {
   "cell_type": "code",
   "execution_count": 44,
   "id": "e3c95c81-4dca-45bb-81f4-d09520674a06",
   "metadata": {},
   "outputs": [
    {
     "data": {
      "text/plain": [
       "array([[80, 54, 46, 10, 65],\n",
       "       [86, 16, 91, 99, 73],\n",
       "       [47, 65, 50, 31, 21],\n",
       "       [ 7, 16, 53, 23, 72],\n",
       "       [49, 51, 28, 22, 17]])"
      ]
     },
     "execution_count": 44,
     "metadata": {},
     "output_type": "execute_result"
    }
   ],
   "source": [
    "arr"
   ]
  },
  {
   "cell_type": "code",
   "execution_count": 45,
   "id": "0a7c81e3-43e1-40b3-9d9e-f753e2949778",
   "metadata": {},
   "outputs": [
    {
     "data": {
      "text/plain": [
       "array([[65, 50],\n",
       "       [16, 53]])"
      ]
     },
     "execution_count": 45,
     "metadata": {},
     "output_type": "execute_result"
    }
   ],
   "source": [
    "arr[2:4, [1,2]]"
   ]
  },
  {
   "cell_type": "code",
   "execution_count": 46,
   "id": "40823f6b-7258-46e1-9876-30df13b1f134",
   "metadata": {},
   "outputs": [],
   "source": [
    "arr[0][0] = 5000"
   ]
  },
  {
   "cell_type": "code",
   "execution_count": 47,
   "id": "c7f7362e-4028-4303-8476-9d2bbf732ccf",
   "metadata": {},
   "outputs": [
    {
     "data": {
      "text/plain": [
       "array([[5000,   54,   46,   10,   65],\n",
       "       [  86,   16,   91,   99,   73],\n",
       "       [  47,   65,   50,   31,   21],\n",
       "       [   7,   16,   53,   23,   72],\n",
       "       [  49,   51,   28,   22,   17]])"
      ]
     },
     "execution_count": 47,
     "metadata": {},
     "output_type": "execute_result"
    }
   ],
   "source": [
    "arr"
   ]
  },
  {
   "cell_type": "code",
   "execution_count": 48,
   "id": "d89168e1-a02a-44a8-932b-45f7a1575a97",
   "metadata": {},
   "outputs": [],
   "source": [
    "arr1 = np.random.randint(1,3 , (3,3))\n",
    "arr2 = np.random.randint(1,3 , (3,3))"
   ]
  },
  {
   "cell_type": "code",
   "execution_count": 49,
   "id": "2a99765d-8418-49b8-85dd-61c75e27273c",
   "metadata": {},
   "outputs": [
    {
     "data": {
      "text/plain": [
       "array([[2, 2, 1],\n",
       "       [2, 2, 2],\n",
       "       [1, 2, 1]])"
      ]
     },
     "execution_count": 49,
     "metadata": {},
     "output_type": "execute_result"
    }
   ],
   "source": [
    "arr1"
   ]
  },
  {
   "cell_type": "code",
   "execution_count": 50,
   "id": "2058546a-d446-49aa-9b98-7017d48032c4",
   "metadata": {},
   "outputs": [
    {
     "data": {
      "text/plain": [
       "array([[2, 1, 2],\n",
       "       [2, 2, 1],\n",
       "       [1, 1, 1]])"
      ]
     },
     "execution_count": 50,
     "metadata": {},
     "output_type": "execute_result"
    }
   ],
   "source": [
    "arr2"
   ]
  },
  {
   "cell_type": "code",
   "execution_count": 51,
   "id": "0ba7af0f-2652-4f98-b515-09c2f6f67be9",
   "metadata": {},
   "outputs": [
    {
     "data": {
      "text/plain": [
       "array([[4, 3, 3],\n",
       "       [4, 4, 3],\n",
       "       [2, 3, 2]])"
      ]
     },
     "execution_count": 51,
     "metadata": {},
     "output_type": "execute_result"
    }
   ],
   "source": [
    "arr1 + arr2"
   ]
  },
  {
   "cell_type": "code",
   "execution_count": 52,
   "id": "06bb5e8a-e4de-4dae-bbc8-dba06bf5892d",
   "metadata": {},
   "outputs": [
    {
     "data": {
      "text/plain": [
       "array([[ 0,  1, -1],\n",
       "       [ 0,  0,  1],\n",
       "       [ 0,  1,  0]])"
      ]
     },
     "execution_count": 52,
     "metadata": {},
     "output_type": "execute_result"
    }
   ],
   "source": [
    "arr1 - arr2"
   ]
  },
  {
   "cell_type": "code",
   "execution_count": 53,
   "id": "6eb1230f-db32-406a-ab5f-cdf734dac293",
   "metadata": {},
   "outputs": [
    {
     "data": {
      "text/plain": [
       "array([[1. , 2. , 0.5],\n",
       "       [1. , 1. , 2. ],\n",
       "       [1. , 2. , 1. ]])"
      ]
     },
     "execution_count": 53,
     "metadata": {},
     "output_type": "execute_result"
    }
   ],
   "source": [
    "arr1/arr2"
   ]
  },
  {
   "cell_type": "code",
   "execution_count": 54,
   "id": "79ff2200-6df5-433d-a55b-191f7c58ef64",
   "metadata": {},
   "outputs": [
    {
     "data": {
      "text/plain": [
       "array([[4, 2, 2],\n",
       "       [4, 4, 2],\n",
       "       [1, 2, 1]])"
      ]
     },
     "execution_count": 54,
     "metadata": {},
     "output_type": "execute_result"
    }
   ],
   "source": [
    "arr1*arr2   #This is not matrix multiplication"
   ]
  },
  {
   "cell_type": "code",
   "execution_count": 55,
   "id": "982c1816-7227-43cc-996b-08a1be5cf338",
   "metadata": {},
   "outputs": [
    {
     "data": {
      "text/plain": [
       "array([[2, 2, 1],\n",
       "       [2, 2, 2],\n",
       "       [1, 2, 1]])"
      ]
     },
     "execution_count": 55,
     "metadata": {},
     "output_type": "execute_result"
    }
   ],
   "source": [
    "arr1"
   ]
  },
  {
   "cell_type": "code",
   "execution_count": 56,
   "id": "e0b1fad2-f3fe-4324-8c02-c8f0eba84f0d",
   "metadata": {},
   "outputs": [
    {
     "data": {
      "text/plain": [
       "array([[2, 1, 2],\n",
       "       [2, 2, 1],\n",
       "       [1, 1, 1]])"
      ]
     },
     "execution_count": 56,
     "metadata": {},
     "output_type": "execute_result"
    }
   ],
   "source": [
    "arr2"
   ]
  },
  {
   "cell_type": "code",
   "execution_count": 57,
   "id": "b6f86474-ea15-471e-8c5d-101dc72c18cc",
   "metadata": {},
   "outputs": [
    {
     "data": {
      "text/plain": [
       "array([[ 9,  7,  7],\n",
       "       [10,  8,  8],\n",
       "       [ 7,  6,  5]])"
      ]
     },
     "execution_count": 57,
     "metadata": {},
     "output_type": "execute_result"
    }
   ],
   "source": [
    "arr1@arr2    #This is matrix multiplication"
   ]
  },
  {
   "cell_type": "code",
   "execution_count": 58,
   "id": "e284106b-2b1e-46b7-a9b1-a4611c234794",
   "metadata": {},
   "outputs": [
    {
     "name": "stderr",
     "output_type": "stream",
     "text": [
      "/tmp/ipykernel_77/1510032488.py:1: RuntimeWarning: divide by zero encountered in divide\n",
      "  arr1/0\n"
     ]
    },
    {
     "data": {
      "text/plain": [
       "array([[inf, inf, inf],\n",
       "       [inf, inf, inf],\n",
       "       [inf, inf, inf]])"
      ]
     },
     "execution_count": 58,
     "metadata": {},
     "output_type": "execute_result"
    }
   ],
   "source": [
    "arr1/0"
   ]
  },
  {
   "cell_type": "code",
   "execution_count": 59,
   "id": "584409e0-1009-4313-87f8-6ef0918cd6c0",
   "metadata": {},
   "outputs": [
    {
     "data": {
      "text/plain": [
       "array([[102, 102, 101],\n",
       "       [102, 102, 102],\n",
       "       [101, 102, 101]])"
      ]
     },
     "execution_count": 59,
     "metadata": {},
     "output_type": "execute_result"
    }
   ],
   "source": [
    "arr1 + 100"
   ]
  },
  {
   "cell_type": "code",
   "execution_count": 60,
   "id": "6ffdaf00-ff2f-4ca4-96eb-55efe6765ae9",
   "metadata": {},
   "outputs": [
    {
     "data": {
      "text/plain": [
       "array([[4, 4, 1],\n",
       "       [4, 4, 4],\n",
       "       [1, 4, 1]])"
      ]
     },
     "execution_count": 60,
     "metadata": {},
     "output_type": "execute_result"
    }
   ],
   "source": [
    "arr1**2"
   ]
  },
  {
   "cell_type": "code",
   "execution_count": 61,
   "id": "a69b7907-1c99-40d0-9572-e95f82549815",
   "metadata": {},
   "outputs": [],
   "source": [
    "#Numpy - Broadcastion"
   ]
  },
  {
   "cell_type": "code",
   "execution_count": 62,
   "id": "d36164c6-5c93-4d4e-a10c-fd197d7597f2",
   "metadata": {},
   "outputs": [],
   "source": [
    "arr = np.zeros((4,4))"
   ]
  },
  {
   "cell_type": "code",
   "execution_count": 63,
   "id": "9c52916d-4d4a-468a-a89b-3d127aab7ea2",
   "metadata": {},
   "outputs": [
    {
     "data": {
      "text/plain": [
       "array([[0., 0., 0., 0.],\n",
       "       [0., 0., 0., 0.],\n",
       "       [0., 0., 0., 0.],\n",
       "       [0., 0., 0., 0.]])"
      ]
     },
     "execution_count": 63,
     "metadata": {},
     "output_type": "execute_result"
    }
   ],
   "source": [
    "arr"
   ]
  },
  {
   "cell_type": "code",
   "execution_count": 64,
   "id": "6b2aafe2-82a1-4e51-b3a7-eeddd06d5b18",
   "metadata": {},
   "outputs": [],
   "source": [
    "row = np.array([1,2,3,4])"
   ]
  },
  {
   "cell_type": "code",
   "execution_count": 65,
   "id": "8e22ace7-cf56-4d9c-b30d-da4583a4071a",
   "metadata": {},
   "outputs": [
    {
     "data": {
      "text/plain": [
       "array([1, 2, 3, 4])"
      ]
     },
     "execution_count": 65,
     "metadata": {},
     "output_type": "execute_result"
    }
   ],
   "source": [
    "row"
   ]
  },
  {
   "cell_type": "code",
   "execution_count": 66,
   "id": "07ca9ebb-17a8-4165-ad94-7ef215d46e36",
   "metadata": {},
   "outputs": [
    {
     "data": {
      "text/plain": [
       "array([[1., 2., 3., 4.],\n",
       "       [1., 2., 3., 4.],\n",
       "       [1., 2., 3., 4.],\n",
       "       [1., 2., 3., 4.]])"
      ]
     },
     "execution_count": 66,
     "metadata": {},
     "output_type": "execute_result"
    }
   ],
   "source": [
    "arr + row    #Row-wise Broadcasting"
   ]
  },
  {
   "cell_type": "code",
   "execution_count": 67,
   "id": "5dc9c01e-f27c-4d39-8516-2408db2ba393",
   "metadata": {},
   "outputs": [
    {
     "data": {
      "text/plain": [
       "array([1, 2, 3, 4])"
      ]
     },
     "execution_count": 67,
     "metadata": {},
     "output_type": "execute_result"
    }
   ],
   "source": [
    "row.T    #We can not transpose 1D array"
   ]
  },
  {
   "cell_type": "code",
   "execution_count": 68,
   "id": "778900ff-92b2-47e1-b6d0-851b4495fc0e",
   "metadata": {},
   "outputs": [],
   "source": [
    "col = np.array([[1,2,3,4]])"
   ]
  },
  {
   "cell_type": "code",
   "execution_count": 69,
   "id": "591c2597-ded7-460d-814b-5bf2b08ca664",
   "metadata": {},
   "outputs": [
    {
     "data": {
      "text/plain": [
       "array([[1],\n",
       "       [2],\n",
       "       [3],\n",
       "       [4]])"
      ]
     },
     "execution_count": 69,
     "metadata": {},
     "output_type": "execute_result"
    }
   ],
   "source": [
    "col.T"
   ]
  },
  {
   "cell_type": "code",
   "execution_count": 70,
   "id": "3a5060bb-57f5-44f1-9104-6423477e0ee3",
   "metadata": {},
   "outputs": [
    {
     "data": {
      "text/plain": [
       "array([[1., 1., 1., 1.],\n",
       "       [2., 2., 2., 2.],\n",
       "       [3., 3., 3., 3.],\n",
       "       [4., 4., 4., 4.]])"
      ]
     },
     "execution_count": 70,
     "metadata": {},
     "output_type": "execute_result"
    }
   ],
   "source": [
    "col.T + arr   #Col-wise Broadcasting"
   ]
  },
  {
   "cell_type": "code",
   "execution_count": 71,
   "id": "7855bba5-573f-4390-b10d-9d92f8532b16",
   "metadata": {},
   "outputs": [
    {
     "data": {
      "text/plain": [
       "array([[1, 2, 3, 4]])"
      ]
     },
     "execution_count": 71,
     "metadata": {},
     "output_type": "execute_result"
    }
   ],
   "source": [
    "col"
   ]
  },
  {
   "cell_type": "code",
   "execution_count": 72,
   "id": "2758275c-10de-47cd-a77c-2ddf3b553973",
   "metadata": {},
   "outputs": [
    {
     "data": {
      "text/plain": [
       "array([[0., 0., 0., 0.],\n",
       "       [0., 0., 0., 0.],\n",
       "       [0., 0., 0., 0.],\n",
       "       [0., 0., 0., 0.]])"
      ]
     },
     "execution_count": 72,
     "metadata": {},
     "output_type": "execute_result"
    }
   ],
   "source": [
    "arr"
   ]
  },
  {
   "cell_type": "code",
   "execution_count": 73,
   "id": "b2bae3d1-39a7-49e5-82ed-df8bd7592001",
   "metadata": {},
   "outputs": [],
   "source": [
    "arr1 = np.random.randint(1,4 , (3,4))"
   ]
  },
  {
   "cell_type": "code",
   "execution_count": 74,
   "id": "9868cfa8-6392-4027-8887-fc9f70f84657",
   "metadata": {},
   "outputs": [
    {
     "data": {
      "text/plain": [
       "array([[3, 3, 1, 2],\n",
       "       [1, 2, 2, 1],\n",
       "       [1, 1, 3, 1]])"
      ]
     },
     "execution_count": 74,
     "metadata": {},
     "output_type": "execute_result"
    }
   ],
   "source": [
    "arr1"
   ]
  },
  {
   "cell_type": "code",
   "execution_count": 75,
   "id": "5143fcc5-010a-4807-94e8-58f2b502d07b",
   "metadata": {},
   "outputs": [
    {
     "data": {
      "text/plain": [
       "array([[1.73205081, 1.73205081, 1.        , 1.41421356],\n",
       "       [1.        , 1.41421356, 1.41421356, 1.        ],\n",
       "       [1.        , 1.        , 1.73205081, 1.        ]])"
      ]
     },
     "execution_count": 75,
     "metadata": {},
     "output_type": "execute_result"
    }
   ],
   "source": [
    "np.sqrt(arr1)"
   ]
  },
  {
   "cell_type": "code",
   "execution_count": 76,
   "id": "fbb4adde-9b84-4b4d-8581-0c8df2fb0c91",
   "metadata": {},
   "outputs": [
    {
     "data": {
      "text/plain": [
       "array([[20.08553692, 20.08553692,  2.71828183,  7.3890561 ],\n",
       "       [ 2.71828183,  7.3890561 ,  7.3890561 ,  2.71828183],\n",
       "       [ 2.71828183,  2.71828183, 20.08553692,  2.71828183]])"
      ]
     },
     "execution_count": 76,
     "metadata": {},
     "output_type": "execute_result"
    }
   ],
   "source": [
    "np.exp(arr1)"
   ]
  },
  {
   "cell_type": "code",
   "execution_count": 77,
   "id": "7e2d4130-e947-4ea3-b079-4731d20d7a46",
   "metadata": {},
   "outputs": [
    {
     "data": {
      "text/plain": [
       "array([[0.47712125, 0.47712125, 0.        , 0.30103   ],\n",
       "       [0.        , 0.30103   , 0.30103   , 0.        ],\n",
       "       [0.        , 0.        , 0.47712125, 0.        ]])"
      ]
     },
     "execution_count": 77,
     "metadata": {},
     "output_type": "execute_result"
    }
   ],
   "source": [
    "np.log10(arr1)"
   ]
  },
  {
   "cell_type": "code",
   "execution_count": null,
   "id": "54993baf-9bcd-4c1d-bab3-3c1f16d6aa13",
   "metadata": {},
   "outputs": [],
   "source": []
  }
 ],
 "metadata": {
  "kernelspec": {
   "display_name": "Python 3 (ipykernel)",
   "language": "python",
   "name": "python3"
  },
  "language_info": {
   "codemirror_mode": {
    "name": "ipython",
    "version": 3
   },
   "file_extension": ".py",
   "mimetype": "text/x-python",
   "name": "python",
   "nbconvert_exporter": "python",
   "pygments_lexer": "ipython3",
   "version": "3.10.8"
  }
 },
 "nbformat": 4,
 "nbformat_minor": 5
}
