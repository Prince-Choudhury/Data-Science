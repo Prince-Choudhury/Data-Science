{
 "cells": [
  {
   "cell_type": "markdown",
   "id": "f2c357af-9c5d-4756-8207-2395ae7c1015",
   "metadata": {},
   "source": [
    "Numpy Part 2"
   ]
  },
  {
   "cell_type": "code",
   "execution_count": 1,
   "id": "aa240481-7452-4740-a583-ecbe2487ec72",
   "metadata": {},
   "outputs": [],
   "source": [
    "#Numpy : Array Manipulation"
   ]
  },
  {
   "cell_type": "code",
   "execution_count": 1,
   "id": "05cead61-4f65-4522-bd1a-9ccfab91e3ed",
   "metadata": {},
   "outputs": [],
   "source": [
    "import numpy as np"
   ]
  },
  {
   "cell_type": "code",
   "execution_count": 4,
   "id": "b7d3f32e-216d-446d-b5ed-60607d954755",
   "metadata": {},
   "outputs": [],
   "source": [
    "arr = np.random.randint(1,10 , (3,4))"
   ]
  },
  {
   "cell_type": "code",
   "execution_count": 5,
   "id": "056d4bd3-fbb4-45ee-8e93-ad8cd8a4ddb2",
   "metadata": {},
   "outputs": [
    {
     "data": {
      "text/plain": [
       "array([[9, 4, 2, 1],\n",
       "       [2, 4, 5, 8],\n",
       "       [5, 2, 8, 8]])"
      ]
     },
     "execution_count": 5,
     "metadata": {},
     "output_type": "execute_result"
    }
   ],
   "source": [
    "arr"
   ]
  },
  {
   "cell_type": "code",
   "execution_count": 8,
   "id": "f913708e-3f87-4529-953a-63abb096abcb",
   "metadata": {},
   "outputs": [
    {
     "data": {
      "text/plain": [
       "array([[9, 4],\n",
       "       [2, 1],\n",
       "       [2, 4],\n",
       "       [5, 8],\n",
       "       [5, 2],\n",
       "       [8, 8]])"
      ]
     },
     "execution_count": 8,
     "metadata": {},
     "output_type": "execute_result"
    }
   ],
   "source": [
    "arr.reshape(6,2)"
   ]
  },
  {
   "cell_type": "code",
   "execution_count": 9,
   "id": "79edb35e-d187-4b07-9f07-5c4514e4468c",
   "metadata": {},
   "outputs": [
    {
     "data": {
      "text/plain": [
       "array([[9, 4, 2, 1, 2, 4],\n",
       "       [5, 8, 5, 2, 8, 8]])"
      ]
     },
     "execution_count": 9,
     "metadata": {},
     "output_type": "execute_result"
    }
   ],
   "source": [
    "arr.reshape(2,6)"
   ]
  },
  {
   "cell_type": "code",
   "execution_count": 10,
   "id": "31e35d48-204b-4506-b341-32754696c840",
   "metadata": {},
   "outputs": [
    {
     "ename": "ValueError",
     "evalue": "cannot reshape array of size 12 into shape (2,7)",
     "output_type": "error",
     "traceback": [
      "\u001b[0;31m---------------------------------------------------------------------------\u001b[0m",
      "\u001b[0;31mValueError\u001b[0m                                Traceback (most recent call last)",
      "Cell \u001b[0;32mIn[10], line 1\u001b[0m\n\u001b[0;32m----> 1\u001b[0m \u001b[43marr\u001b[49m\u001b[38;5;241;43m.\u001b[39;49m\u001b[43mreshape\u001b[49m\u001b[43m(\u001b[49m\u001b[38;5;241;43m2\u001b[39;49m\u001b[43m,\u001b[49m\u001b[38;5;241;43m7\u001b[39;49m\u001b[43m)\u001b[49m\n",
      "\u001b[0;31mValueError\u001b[0m: cannot reshape array of size 12 into shape (2,7)"
     ]
    }
   ],
   "source": [
    "arr.reshape(2,7)"
   ]
  },
  {
   "cell_type": "code",
   "execution_count": 11,
   "id": "d828b1a5-41d1-4ce1-813c-c707fe1adbd8",
   "metadata": {},
   "outputs": [
    {
     "data": {
      "text/plain": [
       "array([[9, 4],\n",
       "       [2, 1],\n",
       "       [2, 4],\n",
       "       [5, 8],\n",
       "       [5, 2],\n",
       "       [8, 8]])"
      ]
     },
     "execution_count": 11,
     "metadata": {},
     "output_type": "execute_result"
    }
   ],
   "source": [
    "arr.reshape(6,-7)"
   ]
  },
  {
   "cell_type": "code",
   "execution_count": 12,
   "id": "1cff0b3e-7c9e-46af-8dbf-11084aa1060b",
   "metadata": {},
   "outputs": [
    {
     "data": {
      "text/plain": [
       "array([[9, 2, 5],\n",
       "       [4, 4, 2],\n",
       "       [2, 5, 8],\n",
       "       [1, 8, 8]])"
      ]
     },
     "execution_count": 12,
     "metadata": {},
     "output_type": "execute_result"
    }
   ],
   "source": [
    "arr.T"
   ]
  },
  {
   "cell_type": "code",
   "execution_count": 13,
   "id": "b933b9fa-92dd-46a6-bf74-46a5e501575e",
   "metadata": {},
   "outputs": [
    {
     "data": {
      "text/plain": [
       "array([[9, 4, 2, 1],\n",
       "       [2, 4, 5, 8],\n",
       "       [5, 2, 8, 8]])"
      ]
     },
     "execution_count": 13,
     "metadata": {},
     "output_type": "execute_result"
    }
   ],
   "source": [
    "arr"
   ]
  },
  {
   "cell_type": "code",
   "execution_count": 14,
   "id": "3860f457-2a0f-450f-9d75-5116157d6183",
   "metadata": {},
   "outputs": [
    {
     "data": {
      "text/plain": [
       "array([9, 4, 2, 1, 2, 4, 5, 8, 5, 2, 8, 8])"
      ]
     },
     "execution_count": 14,
     "metadata": {},
     "output_type": "execute_result"
    }
   ],
   "source": [
    "arr.flatten()   #It will convert into 1D array"
   ]
  },
  {
   "cell_type": "code",
   "execution_count": 15,
   "id": "38110106-d416-44ed-ae40-3206f3050b52",
   "metadata": {},
   "outputs": [],
   "source": [
    "arr1 = np.array([1,2,3,3,4])"
   ]
  },
  {
   "cell_type": "code",
   "execution_count": 16,
   "id": "812cf108-5eb5-4159-8beb-5590d796368d",
   "metadata": {},
   "outputs": [
    {
     "data": {
      "text/plain": [
       "1"
      ]
     },
     "execution_count": 16,
     "metadata": {},
     "output_type": "execute_result"
    }
   ],
   "source": [
    "arr1.ndim   #It gives dimension of the array"
   ]
  },
  {
   "cell_type": "code",
   "execution_count": null,
   "id": "d86eac8d-6c4b-4238-bd0b-b1fce0a0a5e9",
   "metadata": {},
   "outputs": [
    {
     "data": {
      "text/plain": [
       "array([[1],\n",
       "       [2],\n",
       "       [3],\n",
       "       [3],\n",
       "       [4]])"
      ]
     },
     "execution_count": 17,
     "metadata": {},
     "output_type": "execute_result"
    }
   ],
   "source": [
    "np.expand_dims(arr1, axis = 1)  #axis = 0 : row, axis = 1 : col\n",
    "\n",
    "#It converts into 2D array across col because axis = 1"
   ]
  },
  {
   "cell_type": "code",
   "execution_count": 18,
   "id": "f322174d-a092-482c-b9db-2f01f373f005",
   "metadata": {},
   "outputs": [
    {
     "data": {
      "text/plain": [
       "array([[1, 2, 3, 3, 4]])"
      ]
     },
     "execution_count": 18,
     "metadata": {},
     "output_type": "execute_result"
    }
   ],
   "source": [
    "np.expand_dims(arr1, axis = 0)        #It converts into 2D array across col because axis = 1"
   ]
  },
  {
   "cell_type": "code",
   "execution_count": 19,
   "id": "adb621c5-aefd-4a2a-9d7e-dddb83c61203",
   "metadata": {},
   "outputs": [
    {
     "data": {
      "text/plain": [
       "array([[9, 4, 2, 1],\n",
       "       [2, 4, 5, 8],\n",
       "       [5, 2, 8, 8]])"
      ]
     },
     "execution_count": 19,
     "metadata": {},
     "output_type": "execute_result"
    }
   ],
   "source": [
    "arr"
   ]
  },
  {
   "cell_type": "code",
   "execution_count": 20,
   "id": "e6fc65e6-0038-4c78-85ef-51e9a19dd2fe",
   "metadata": {},
   "outputs": [
    {
     "data": {
      "text/plain": [
       "array([[9, 4, 2, 1],\n",
       "       [2, 4, 5, 8],\n",
       "       [5, 2, 8, 8]])"
      ]
     },
     "execution_count": 20,
     "metadata": {},
     "output_type": "execute_result"
    }
   ],
   "source": [
    "np.squeeze(arr)"
   ]
  },
  {
   "cell_type": "code",
   "execution_count": 21,
   "id": "b0bbff9d-344e-4b67-9807-2c33e5804eee",
   "metadata": {},
   "outputs": [],
   "source": [
    "data = np.array([[1], [2], [3]])"
   ]
  },
  {
   "cell_type": "code",
   "execution_count": 22,
   "id": "ebbf6640-9231-4536-b9cd-09e265a8b379",
   "metadata": {},
   "outputs": [
    {
     "data": {
      "text/plain": [
       "array([[1],\n",
       "       [2],\n",
       "       [3]])"
      ]
     },
     "execution_count": 22,
     "metadata": {},
     "output_type": "execute_result"
    }
   ],
   "source": [
    "data"
   ]
  },
  {
   "cell_type": "code",
   "execution_count": 23,
   "id": "ff3ad770-fc34-4098-b7d4-c6c92683da7d",
   "metadata": {},
   "outputs": [
    {
     "data": {
      "text/plain": [
       "array([1, 2, 3])"
      ]
     },
     "execution_count": 23,
     "metadata": {},
     "output_type": "execute_result"
    }
   ],
   "source": [
    "np.squeeze(data)  #It converts into single dim array "
   ]
  },
  {
   "cell_type": "code",
   "execution_count": 24,
   "id": "1253090e-ecd5-44a4-aee6-259c5ce53150",
   "metadata": {},
   "outputs": [
    {
     "data": {
      "text/plain": [
       "array([1, 2, 3, 3, 4])"
      ]
     },
     "execution_count": 24,
     "metadata": {},
     "output_type": "execute_result"
    }
   ],
   "source": [
    "arr1"
   ]
  },
  {
   "cell_type": "code",
   "execution_count": 25,
   "id": "eb7785bd-04ad-42e5-b7ea-04f289fd8edb",
   "metadata": {},
   "outputs": [
    {
     "data": {
      "text/plain": [
       "array([1, 1, 1, 2, 2, 2, 3, 3, 3, 3, 3, 3, 4, 4, 4])"
      ]
     },
     "execution_count": 25,
     "metadata": {},
     "output_type": "execute_result"
    }
   ],
   "source": [
    "np.repeat(arr1, 3)"
   ]
  },
  {
   "cell_type": "code",
   "execution_count": 26,
   "id": "e8517f11-3652-4b2f-bc2f-ada045974659",
   "metadata": {},
   "outputs": [
    {
     "data": {
      "text/plain": [
       "array([3, 4, 1, 2, 3])"
      ]
     },
     "execution_count": 26,
     "metadata": {},
     "output_type": "execute_result"
    }
   ],
   "source": [
    "np.roll(arr1, 2)   #shift = 2"
   ]
  },
  {
   "cell_type": "code",
   "execution_count": 27,
   "id": "afb04705-29f7-4de5-b04f-18454631f771",
   "metadata": {},
   "outputs": [
    {
     "data": {
      "text/plain": [
       "array([1, 2, 3, 3, 4])"
      ]
     },
     "execution_count": 27,
     "metadata": {},
     "output_type": "execute_result"
    }
   ],
   "source": [
    "arr1"
   ]
  },
  {
   "cell_type": "code",
   "execution_count": 28,
   "id": "cbad41ef-f479-4e0b-b164-0e496029f27e",
   "metadata": {},
   "outputs": [
    {
     "data": {
      "text/plain": [
       "array([[1, 0, 0, 0, 0],\n",
       "       [0, 2, 0, 0, 0],\n",
       "       [0, 0, 3, 0, 0],\n",
       "       [0, 0, 0, 3, 0],\n",
       "       [0, 0, 0, 0, 4]])"
      ]
     },
     "execution_count": 28,
     "metadata": {},
     "output_type": "execute_result"
    }
   ],
   "source": [
    "np.diag(arr1)"
   ]
  },
  {
   "cell_type": "code",
   "execution_count": 30,
   "id": "a0015ef0-0a2f-47f2-a525-8495594c241b",
   "metadata": {},
   "outputs": [],
   "source": [
    "arr1 = np.random.randint(1,10 , (3,4))   #It generates data between 1 to 10 and the matrix will be 3 cross 4"
   ]
  },
  {
   "cell_type": "code",
   "execution_count": 31,
   "id": "cc4a27b5-20fc-4fb4-be1b-7ee0bb3b8566",
   "metadata": {},
   "outputs": [],
   "source": [
    "arr2 = np.random.randint(1,10 , (3,4))"
   ]
  },
  {
   "cell_type": "code",
   "execution_count": 32,
   "id": "e7230e78-c7e4-4b46-b660-9c32f353d9d6",
   "metadata": {},
   "outputs": [
    {
     "data": {
      "text/plain": [
       "array([[1, 3, 8, 8],\n",
       "       [4, 3, 5, 8],\n",
       "       [7, 5, 5, 3]])"
      ]
     },
     "execution_count": 32,
     "metadata": {},
     "output_type": "execute_result"
    }
   ],
   "source": [
    "arr1"
   ]
  },
  {
   "cell_type": "code",
   "execution_count": 33,
   "id": "00cc72a2-6cf6-41a6-8c90-eea44b9326ab",
   "metadata": {},
   "outputs": [
    {
     "data": {
      "text/plain": [
       "array([[5, 7, 7, 5],\n",
       "       [2, 6, 2, 5],\n",
       "       [3, 2, 8, 8]])"
      ]
     },
     "execution_count": 33,
     "metadata": {},
     "output_type": "execute_result"
    }
   ],
   "source": [
    "arr2"
   ]
  },
  {
   "cell_type": "code",
   "execution_count": 34,
   "id": "3cdee426-62a9-48c0-b95b-ebe3073af092",
   "metadata": {},
   "outputs": [
    {
     "data": {
      "text/plain": [
       "array([[ 6, 10, 15, 13],\n",
       "       [ 6,  9,  7, 13],\n",
       "       [10,  7, 13, 11]])"
      ]
     },
     "execution_count": 34,
     "metadata": {},
     "output_type": "execute_result"
    }
   ],
   "source": [
    "arr1 + arr2"
   ]
  },
  {
   "cell_type": "code",
   "execution_count": 35,
   "id": "3aa3fe69-730a-4eb6-b1d3-8d43c4f3c774",
   "metadata": {},
   "outputs": [
    {
     "data": {
      "text/plain": [
       "array([[ 5, 21, 56, 40],\n",
       "       [ 8, 18, 10, 40],\n",
       "       [21, 10, 40, 24]])"
      ]
     },
     "execution_count": 35,
     "metadata": {},
     "output_type": "execute_result"
    }
   ],
   "source": [
    "arr1 * arr2"
   ]
  },
  {
   "cell_type": "code",
   "execution_count": 36,
   "id": "1158fd14-0c94-4b35-9cca-bea1da38d052",
   "metadata": {},
   "outputs": [
    {
     "data": {
      "text/plain": [
       "array([[0.2       , 0.42857143, 1.14285714, 1.6       ],\n",
       "       [2.        , 0.5       , 2.5       , 1.6       ],\n",
       "       [2.33333333, 2.5       , 0.625     , 0.375     ]])"
      ]
     },
     "execution_count": 36,
     "metadata": {},
     "output_type": "execute_result"
    }
   ],
   "source": [
    "arr1/arr2"
   ]
  },
  {
   "cell_type": "code",
   "execution_count": 37,
   "id": "b4dfa8ec-8bc2-4ddc-b3d1-8b75a98e43c9",
   "metadata": {},
   "outputs": [
    {
     "data": {
      "text/plain": [
       "array([[-4, -4,  1,  3],\n",
       "       [ 2, -3,  3,  3],\n",
       "       [ 4,  3, -3, -5]])"
      ]
     },
     "execution_count": 37,
     "metadata": {},
     "output_type": "execute_result"
    }
   ],
   "source": [
    "arr1-arr2"
   ]
  },
  {
   "cell_type": "code",
   "execution_count": 38,
   "id": "72bf3363-5312-4f23-9c4e-2b08462b11ff",
   "metadata": {},
   "outputs": [
    {
     "data": {
      "text/plain": [
       "array([[1, 3, 1, 3],\n",
       "       [0, 3, 1, 3],\n",
       "       [1, 1, 5, 3]])"
      ]
     },
     "execution_count": 38,
     "metadata": {},
     "output_type": "execute_result"
    }
   ],
   "source": [
    "arr1%arr2"
   ]
  },
  {
   "cell_type": "code",
   "execution_count": 39,
   "id": "7f7c4236-1442-4ec5-9eec-7235038be5cb",
   "metadata": {},
   "outputs": [
    {
     "data": {
      "text/plain": [
       "array([[      1,    2187, 2097152,   32768],\n",
       "       [     16,     729,      25,   32768],\n",
       "       [    343,      25,  390625,    6561]])"
      ]
     },
     "execution_count": 39,
     "metadata": {},
     "output_type": "execute_result"
    }
   ],
   "source": [
    "arr1 ** arr2"
   ]
  },
  {
   "cell_type": "code",
   "execution_count": 40,
   "id": "c6ab0bd9-790b-4557-b65a-42d01142c607",
   "metadata": {},
   "outputs": [
    {
     "data": {
      "text/plain": [
       "array([[1, 3, 0, 0],\n",
       "       [0, 2, 0, 0],\n",
       "       [3, 0, 0, 0]])"
      ]
     },
     "execution_count": 40,
     "metadata": {},
     "output_type": "execute_result"
    }
   ],
   "source": [
    "arr1 & arr2"
   ]
  },
  {
   "cell_type": "code",
   "execution_count": 41,
   "id": "c101e4ef-3a15-4730-b257-5815402bbe9b",
   "metadata": {},
   "outputs": [
    {
     "data": {
      "text/plain": [
       "array([[1, 3, 8, 8],\n",
       "       [4, 3, 5, 8],\n",
       "       [7, 5, 5, 3]])"
      ]
     },
     "execution_count": 41,
     "metadata": {},
     "output_type": "execute_result"
    }
   ],
   "source": [
    "arr1"
   ]
  },
  {
   "cell_type": "code",
   "execution_count": 42,
   "id": "8ef9ff7b-ca13-4c51-8aec-8f28019fe3c3",
   "metadata": {},
   "outputs": [
    {
     "data": {
      "text/plain": [
       "array([[5, 7, 7, 5],\n",
       "       [2, 6, 2, 5],\n",
       "       [3, 2, 8, 8]])"
      ]
     },
     "execution_count": 42,
     "metadata": {},
     "output_type": "execute_result"
    }
   ],
   "source": [
    "arr2"
   ]
  },
  {
   "cell_type": "code",
   "execution_count": 44,
   "id": "7f57e0cc-f796-45b4-a9ff-8821adac1a50",
   "metadata": {},
   "outputs": [
    {
     "data": {
      "text/plain": [
       "array([[-2, -4, -9, -9],\n",
       "       [-5, -4, -6, -9],\n",
       "       [-8, -6, -6, -4]])"
      ]
     },
     "execution_count": 44,
     "metadata": {},
     "output_type": "execute_result"
    }
   ],
   "source": [
    "~arr1   #Negation"
   ]
  },
  {
   "cell_type": "code",
   "execution_count": 45,
   "id": "21a5dcba-938b-4c88-bade-95e208c6cd1d",
   "metadata": {},
   "outputs": [
    {
     "data": {
      "text/plain": [
       "array([[ 5,  7, 15, 13],\n",
       "       [ 6,  7,  7, 13],\n",
       "       [ 7,  7, 13, 11]])"
      ]
     },
     "execution_count": 45,
     "metadata": {},
     "output_type": "execute_result"
    }
   ],
   "source": [
    "arr1 | arr2"
   ]
  },
  {
   "cell_type": "code",
   "execution_count": 46,
   "id": "bf7c0f6b-2bb4-415d-98ae-20152b1e73c0",
   "metadata": {},
   "outputs": [
    {
     "data": {
      "text/plain": [
       "array([[False, False,  True,  True],\n",
       "       [ True, False,  True,  True],\n",
       "       [ True,  True, False, False]])"
      ]
     },
     "execution_count": 46,
     "metadata": {},
     "output_type": "execute_result"
    }
   ],
   "source": [
    "arr1>arr2"
   ]
  },
  {
   "cell_type": "code",
   "execution_count": 52,
   "id": "c00826b4-a433-4fd0-8bde-e8b1202bfeba",
   "metadata": {},
   "outputs": [],
   "source": [
    "#String Function\n",
    "\n",
    "arr = np.array(['prince', 'choudhury'])"
   ]
  },
  {
   "cell_type": "code",
   "execution_count": 53,
   "id": "5f98328e-30c7-4f4f-b7ce-ec4e3193b13e",
   "metadata": {},
   "outputs": [
    {
     "data": {
      "text/plain": [
       "array(['prince', 'choudhury'], dtype='<U9')"
      ]
     },
     "execution_count": 53,
     "metadata": {},
     "output_type": "execute_result"
    }
   ],
   "source": [
    "arr"
   ]
  },
  {
   "cell_type": "code",
   "execution_count": 54,
   "id": "890ef7a2-8987-4a97-8940-de1619c34a37",
   "metadata": {},
   "outputs": [
    {
     "data": {
      "text/plain": [
       "array(['PRINCE', 'CHOUDHURY'], dtype='<U9')"
      ]
     },
     "execution_count": 54,
     "metadata": {},
     "output_type": "execute_result"
    }
   ],
   "source": [
    "np.char.upper(arr)"
   ]
  },
  {
   "cell_type": "code",
   "execution_count": 55,
   "id": "804be017-acb1-4e78-b095-773176efa722",
   "metadata": {},
   "outputs": [
    {
     "data": {
      "text/plain": [
       "array(['Prince', 'Choudhury'], dtype='<U9')"
      ]
     },
     "execution_count": 55,
     "metadata": {},
     "output_type": "execute_result"
    }
   ],
   "source": [
    "np.char.title(arr)"
   ]
  },
  {
   "cell_type": "code",
   "execution_count": 56,
   "id": "773274dc-4b5e-4213-94bc-2303d7076884",
   "metadata": {},
   "outputs": [
    {
     "data": {
      "text/plain": [
       "array(['Prince', 'Choudhury'], dtype='<U9')"
      ]
     },
     "execution_count": 56,
     "metadata": {},
     "output_type": "execute_result"
    }
   ],
   "source": [
    "np.char.capitalize(arr)"
   ]
  },
  {
   "cell_type": "code",
   "execution_count": 57,
   "id": "b1f1a759-11b4-4482-ba8a-ed41287db736",
   "metadata": {},
   "outputs": [],
   "source": [
    "#Numpy - Mathematical Fuctions."
   ]
  },
  {
   "cell_type": "code",
   "execution_count": 58,
   "id": "2a5b792f-d62c-48bf-b319-cf3f99002b6f",
   "metadata": {},
   "outputs": [
    {
     "data": {
      "text/plain": [
       "array([[1, 3, 8, 8],\n",
       "       [4, 3, 5, 8],\n",
       "       [7, 5, 5, 3]])"
      ]
     },
     "execution_count": 58,
     "metadata": {},
     "output_type": "execute_result"
    }
   ],
   "source": [
    "arr1"
   ]
  },
  {
   "cell_type": "code",
   "execution_count": 59,
   "id": "dd3da47a-17d9-4a3d-8212-b15cb67de49f",
   "metadata": {},
   "outputs": [
    {
     "data": {
      "text/plain": [
       "array([[ 0.84147098,  0.14112001,  0.98935825,  0.98935825],\n",
       "       [-0.7568025 ,  0.14112001, -0.95892427,  0.98935825],\n",
       "       [ 0.6569866 , -0.95892427, -0.95892427,  0.14112001]])"
      ]
     },
     "execution_count": 59,
     "metadata": {},
     "output_type": "execute_result"
    }
   ],
   "source": [
    "np.sin(arr1)"
   ]
  },
  {
   "cell_type": "code",
   "execution_count": 60,
   "id": "3c3e2e8d-51cb-4fc5-8b07-dcb2cc56c4d4",
   "metadata": {},
   "outputs": [
    {
     "data": {
      "text/plain": [
       "array([[ 0.54030231, -0.9899925 , -0.14550003, -0.14550003],\n",
       "       [-0.65364362, -0.9899925 ,  0.28366219, -0.14550003],\n",
       "       [ 0.75390225,  0.28366219,  0.28366219, -0.9899925 ]])"
      ]
     },
     "execution_count": 60,
     "metadata": {},
     "output_type": "execute_result"
    }
   ],
   "source": [
    "np.cos(arr1)"
   ]
  },
  {
   "cell_type": "code",
   "execution_count": 61,
   "id": "192aa4de-7e84-4c82-9ad7-8513ee2601f7",
   "metadata": {},
   "outputs": [
    {
     "data": {
      "text/plain": [
       "array([[0.76159416, 0.99505475, 0.99999977, 0.99999977],\n",
       "       [0.9993293 , 0.99505475, 0.9999092 , 0.99999977],\n",
       "       [0.99999834, 0.9999092 , 0.9999092 , 0.99505475]])"
      ]
     },
     "execution_count": 61,
     "metadata": {},
     "output_type": "execute_result"
    }
   ],
   "source": [
    "np.tanh(arr1)"
   ]
  },
  {
   "cell_type": "code",
   "execution_count": 62,
   "id": "c04a81b9-b9ef-4d48-94f7-74abb851308a",
   "metadata": {},
   "outputs": [
    {
     "data": {
      "text/plain": [
       "array([[0.        , 0.47712125, 0.90308999, 0.90308999],\n",
       "       [0.60205999, 0.47712125, 0.69897   , 0.90308999],\n",
       "       [0.84509804, 0.69897   , 0.69897   , 0.47712125]])"
      ]
     },
     "execution_count": 62,
     "metadata": {},
     "output_type": "execute_result"
    }
   ],
   "source": [
    "np.log10(arr1)"
   ]
  },
  {
   "cell_type": "code",
   "execution_count": 63,
   "id": "6405f6a0-0e6c-4cea-bc4a-9a9efa734c41",
   "metadata": {},
   "outputs": [
    {
     "data": {
      "text/plain": [
       "array([[2.71828183e+00, 2.00855369e+01, 2.98095799e+03, 2.98095799e+03],\n",
       "       [5.45981500e+01, 2.00855369e+01, 1.48413159e+02, 2.98095799e+03],\n",
       "       [1.09663316e+03, 1.48413159e+02, 1.48413159e+02, 2.00855369e+01]])"
      ]
     },
     "execution_count": 63,
     "metadata": {},
     "output_type": "execute_result"
    }
   ],
   "source": [
    "np.exp(arr1)"
   ]
  },
  {
   "cell_type": "code",
   "execution_count": 64,
   "id": "f141a41a-4032-42f4-9c8c-7bbb23563d04",
   "metadata": {},
   "outputs": [
    {
     "data": {
      "text/plain": [
       "array([[1.        , 1.73205081, 2.82842712, 2.82842712],\n",
       "       [2.        , 1.73205081, 2.23606798, 2.82842712],\n",
       "       [2.64575131, 2.23606798, 2.23606798, 1.73205081]])"
      ]
     },
     "execution_count": 64,
     "metadata": {},
     "output_type": "execute_result"
    }
   ],
   "source": [
    "np.sqrt(arr1)"
   ]
  },
  {
   "cell_type": "code",
   "execution_count": 65,
   "id": "38103ef6-1793-4045-8186-625a19d7c391",
   "metadata": {},
   "outputs": [
    {
     "data": {
      "text/plain": [
       "array([[ 1,  9, 64, 64],\n",
       "       [16,  9, 25, 64],\n",
       "       [49, 25, 25,  9]])"
      ]
     },
     "execution_count": 65,
     "metadata": {},
     "output_type": "execute_result"
    }
   ],
   "source": [
    "np.power(arr1, 2)"
   ]
  },
  {
   "cell_type": "code",
   "execution_count": 66,
   "id": "3b3213d6-c624-4f55-b9b6-8e023a2b1481",
   "metadata": {},
   "outputs": [
    {
     "data": {
      "text/plain": [
       "5.0"
      ]
     },
     "execution_count": 66,
     "metadata": {},
     "output_type": "execute_result"
    }
   ],
   "source": [
    "np.mean(arr1)"
   ]
  },
  {
   "cell_type": "code",
   "execution_count": 69,
   "id": "853cf7e2-e7ed-46df-85b6-df8c23100105",
   "metadata": {},
   "outputs": [
    {
     "data": {
      "text/plain": [
       "5.0"
      ]
     },
     "execution_count": 69,
     "metadata": {},
     "output_type": "execute_result"
    }
   ],
   "source": [
    "np.median(arr1)"
   ]
  },
  {
   "cell_type": "code",
   "execution_count": 70,
   "id": "a39c3196-b8ca-4cc4-9066-8bae18b747e7",
   "metadata": {},
   "outputs": [
    {
     "data": {
      "text/plain": [
       "2.23606797749979"
      ]
     },
     "execution_count": 70,
     "metadata": {},
     "output_type": "execute_result"
    }
   ],
   "source": [
    "np.std(arr1)"
   ]
  },
  {
   "cell_type": "code",
   "execution_count": 71,
   "id": "dcc509b5-0059-409d-8d67-7e8b2dfc13f6",
   "metadata": {},
   "outputs": [
    {
     "data": {
      "text/plain": [
       "5.0"
      ]
     },
     "execution_count": 71,
     "metadata": {},
     "output_type": "execute_result"
    }
   ],
   "source": [
    "np.var(arr1)"
   ]
  },
  {
   "cell_type": "code",
   "execution_count": null,
   "id": "20ccb103-15aa-49ab-b300-1f4a041d0235",
   "metadata": {},
   "outputs": [],
   "source": [
    "np.min(arr1)"
   ]
  },
  {
   "cell_type": "code",
   "execution_count": 72,
   "id": "9c8584d6-b3fc-4f7c-93ab-53ccaa04c254",
   "metadata": {},
   "outputs": [
    {
     "data": {
      "text/plain": [
       "8"
      ]
     },
     "execution_count": 72,
     "metadata": {},
     "output_type": "execute_result"
    }
   ],
   "source": [
    "np.max(arr1)"
   ]
  },
  {
   "cell_type": "code",
   "execution_count": null,
   "id": "91da7c31-b5cc-408c-8422-de18e0a3a5ce",
   "metadata": {},
   "outputs": [],
   "source": []
  },
  {
   "cell_type": "code",
   "execution_count": null,
   "id": "d708ba89-6951-4b51-a856-a3bf2fed1961",
   "metadata": {},
   "outputs": [],
   "source": []
  },
  {
   "cell_type": "markdown",
   "id": "ef08a962-e18b-46d4-a997-44096955ed3d",
   "metadata": {},
   "source": [
    "Numpy Part 3"
   ]
  },
  {
   "cell_type": "code",
   "execution_count": 73,
   "id": "9c9ce0a2-d0dd-48f3-ae55-ae1e35413ba8",
   "metadata": {},
   "outputs": [],
   "source": [
    "#Sort, Search & Counting Function"
   ]
  },
  {
   "cell_type": "code",
   "execution_count": 5,
   "id": "c29dcec5-c89c-4f67-9d10-fd6a8f9c0aa3",
   "metadata": {},
   "outputs": [],
   "source": [
    "import numpy as np"
   ]
  },
  {
   "cell_type": "code",
   "execution_count": 6,
   "id": "4d271c80-ad5e-494c-9e79-6d06383311fb",
   "metadata": {},
   "outputs": [],
   "source": [
    "arr = np.array([1,2,5,7,4,36,7,2,3,4,6,64,33])"
   ]
  },
  {
   "cell_type": "code",
   "execution_count": 7,
   "id": "2b0748d3-8159-4845-ab7d-1cfb38a39748",
   "metadata": {},
   "outputs": [
    {
     "data": {
      "text/plain": [
       "array([ 1,  2,  5,  7,  4, 36,  7,  2,  3,  4,  6, 64, 33])"
      ]
     },
     "execution_count": 7,
     "metadata": {},
     "output_type": "execute_result"
    }
   ],
   "source": [
    "arr"
   ]
  },
  {
   "cell_type": "code",
   "execution_count": 8,
   "id": "bd014b41-6d09-44c2-9c6c-3050e1ead512",
   "metadata": {},
   "outputs": [
    {
     "data": {
      "text/plain": [
       "array([ 1,  2,  2,  3,  4,  4,  5,  6,  7,  7, 33, 36, 64])"
      ]
     },
     "execution_count": 8,
     "metadata": {},
     "output_type": "execute_result"
    }
   ],
   "source": [
    "np.sort(arr)"
   ]
  },
  {
   "cell_type": "code",
   "execution_count": 9,
   "id": "46144b39-e269-425f-9506-bc3f7409109a",
   "metadata": {},
   "outputs": [
    {
     "data": {
      "text/plain": [
       "13"
      ]
     },
     "execution_count": 9,
     "metadata": {},
     "output_type": "execute_result"
    }
   ],
   "source": [
    "np.searchsorted(arr, 34)"
   ]
  },
  {
   "cell_type": "code",
   "execution_count": 10,
   "id": "2a348d65-dbbb-43b7-8281-40efaf5bb7db",
   "metadata": {},
   "outputs": [],
   "source": [
    "arr1 = np.array([534,0,343,0,0,0,43,0,0,0])"
   ]
  },
  {
   "cell_type": "code",
   "execution_count": 11,
   "id": "a0e6af03-eec0-4edc-817e-a162514167c2",
   "metadata": {},
   "outputs": [
    {
     "data": {
      "text/plain": [
       "array([534,   0, 343,   0,   0,   0,  43,   0,   0,   0])"
      ]
     },
     "execution_count": 11,
     "metadata": {},
     "output_type": "execute_result"
    }
   ],
   "source": [
    "arr1"
   ]
  },
  {
   "cell_type": "code",
   "execution_count": 12,
   "id": "70b98c34-2b7d-4ce9-88f7-ae89a7dd446c",
   "metadata": {},
   "outputs": [
    {
     "data": {
      "text/plain": [
       "3"
      ]
     },
     "execution_count": 12,
     "metadata": {},
     "output_type": "execute_result"
    }
   ],
   "source": [
    "np.count_nonzero(arr1)"
   ]
  },
  {
   "cell_type": "code",
   "execution_count": 13,
   "id": "c3b1c889-5ecb-41a3-9949-d93417def02f",
   "metadata": {},
   "outputs": [
    {
     "data": {
      "text/plain": [
       "array([ 1,  2,  5,  7,  4, 36,  7,  2,  3,  4,  6, 64, 33])"
      ]
     },
     "execution_count": 13,
     "metadata": {},
     "output_type": "execute_result"
    }
   ],
   "source": [
    "arr"
   ]
  },
  {
   "cell_type": "code",
   "execution_count": 16,
   "id": "b8cad5f4-d66b-4dd7-960e-a343023c536a",
   "metadata": {},
   "outputs": [
    {
     "data": {
      "text/plain": [
       "(array([ 3,  5,  6, 11, 12]),)"
      ]
     },
     "execution_count": 16,
     "metadata": {},
     "output_type": "execute_result"
    }
   ],
   "source": [
    "np.where(arr > 6)   #It will give index"
   ]
  },
  {
   "cell_type": "code",
   "execution_count": 17,
   "id": "3759c655-8eb5-4f32-a840-ad4f954781d1",
   "metadata": {},
   "outputs": [
    {
     "data": {
      "text/plain": [
       "array([ 7, 36,  7, 64, 33])"
      ]
     },
     "execution_count": 17,
     "metadata": {},
     "output_type": "execute_result"
    }
   ],
   "source": [
    "np.extract(arr > 6, arr)   #It will give greater than 6 data"
   ]
  },
  {
   "cell_type": "code",
   "execution_count": null,
   "id": "73468271-bb78-423e-92f0-7224100d999b",
   "metadata": {},
   "outputs": [],
   "source": [
    "#Numpy - Byte Swapping"
   ]
  },
  {
   "cell_type": "code",
   "execution_count": 18,
   "id": "d9131e52-17a8-48b2-8a14-dd4ce8264dc0",
   "metadata": {},
   "outputs": [
    {
     "data": {
      "text/plain": [
       "array([ 1,  2,  5,  7,  4, 36,  7,  2,  3,  4,  6, 64, 33])"
      ]
     },
     "execution_count": 18,
     "metadata": {},
     "output_type": "execute_result"
    }
   ],
   "source": [
    "arr"
   ]
  },
  {
   "cell_type": "code",
   "execution_count": 19,
   "id": "94b19859-b471-4574-a847-ff00c82d90ee",
   "metadata": {},
   "outputs": [
    {
     "data": {
      "text/plain": [
       "array([  72057594037927936,  144115188075855872,  360287970189639680,\n",
       "        504403158265495552,  288230376151711744, 2594073385365405696,\n",
       "        504403158265495552,  144115188075855872,  216172782113783808,\n",
       "        288230376151711744,  432345564227567616, 4611686018427387904,\n",
       "       2377900603251621888])"
      ]
     },
     "execution_count": 19,
     "metadata": {},
     "output_type": "execute_result"
    }
   ],
   "source": [
    "arr.byteswap()"
   ]
  },
  {
   "cell_type": "code",
   "execution_count": 20,
   "id": "a83e2e5b-d588-4347-972c-e6a2ecc855fe",
   "metadata": {},
   "outputs": [],
   "source": [
    "a = np.copy(arr)    #deep copy  : It will not effect original array(Becasue dusre location pe copy banti h)"
   ]
  },
  {
   "cell_type": "code",
   "execution_count": 21,
   "id": "0a4dce1d-d9dd-4d3c-b859-64b9914324a1",
   "metadata": {},
   "outputs": [],
   "source": [
    "b = arr.view()      #Shallow copy  : But it will effect original array(Ye kisi dusre location pe copy nahi karta, ye sirf reference add copy karta h)"
   ]
  },
  {
   "cell_type": "code",
   "execution_count": 22,
   "id": "8c596d8a-941a-4981-9f95-ef78cca966c7",
   "metadata": {},
   "outputs": [
    {
     "data": {
      "text/plain": [
       "array([ 1,  2,  5,  7,  4, 36,  7,  2,  3,  4,  6, 64, 33])"
      ]
     },
     "execution_count": 22,
     "metadata": {},
     "output_type": "execute_result"
    }
   ],
   "source": [
    "b"
   ]
  },
  {
   "cell_type": "code",
   "execution_count": 23,
   "id": "1e6b51e9-a7f6-4c41-9b67-bac1a45f745e",
   "metadata": {},
   "outputs": [
    {
     "data": {
      "text/plain": [
       "array([ 1,  2,  5,  7,  4, 36,  7,  2,  3,  4,  6, 64, 33])"
      ]
     },
     "execution_count": 23,
     "metadata": {},
     "output_type": "execute_result"
    }
   ],
   "source": [
    "arr"
   ]
  },
  {
   "cell_type": "code",
   "execution_count": 24,
   "id": "675d80d0-b44c-41db-9c11-a65ae03fae21",
   "metadata": {},
   "outputs": [],
   "source": [
    "b[0] = 67"
   ]
  },
  {
   "cell_type": "code",
   "execution_count": 25,
   "id": "9a9d9ec1-1f32-498d-be19-64350f628732",
   "metadata": {},
   "outputs": [
    {
     "data": {
      "text/plain": [
       "array([67,  2,  5,  7,  4, 36,  7,  2,  3,  4,  6, 64, 33])"
      ]
     },
     "execution_count": 25,
     "metadata": {},
     "output_type": "execute_result"
    }
   ],
   "source": [
    "b       #Shallow copy"
   ]
  },
  {
   "cell_type": "code",
   "execution_count": 26,
   "id": "14743af5-238e-41ee-8070-adbe0fb13107",
   "metadata": {},
   "outputs": [
    {
     "data": {
      "text/plain": [
       "array([67,  2,  5,  7,  4, 36,  7,  2,  3,  4,  6, 64, 33])"
      ]
     },
     "execution_count": 26,
     "metadata": {},
     "output_type": "execute_result"
    }
   ],
   "source": [
    "arr"
   ]
  },
  {
   "cell_type": "code",
   "execution_count": 27,
   "id": "83eda20c-f1be-4dc9-a719-279f1c44e792",
   "metadata": {},
   "outputs": [],
   "source": [
    "#Numpy - Matrix Library"
   ]
  },
  {
   "cell_type": "code",
   "execution_count": 28,
   "id": "09b7e8db-97db-4ad4-b26c-e3807ea778bd",
   "metadata": {},
   "outputs": [],
   "source": [
    "import numpy.matlib as nm"
   ]
  },
  {
   "cell_type": "code",
   "execution_count": 29,
   "id": "c4e11b23-9a94-417d-9d82-0f2b7cbca8de",
   "metadata": {},
   "outputs": [
    {
     "data": {
      "text/plain": [
       "matrix([[0., 0., 0., 0., 0.]])"
      ]
     },
     "execution_count": 29,
     "metadata": {},
     "output_type": "execute_result"
    }
   ],
   "source": [
    "nm.zeros(5)"
   ]
  },
  {
   "cell_type": "code",
   "execution_count": 30,
   "id": "532641f8-6f4d-4bf4-b192-46fd614905da",
   "metadata": {},
   "outputs": [
    {
     "data": {
      "text/plain": [
       "matrix([[1., 1., 1., 1.],\n",
       "        [1., 1., 1., 1.],\n",
       "        [1., 1., 1., 1.]])"
      ]
     },
     "execution_count": 30,
     "metadata": {},
     "output_type": "execute_result"
    }
   ],
   "source": [
    "nm.ones((3,4))"
   ]
  },
  {
   "cell_type": "code",
   "execution_count": 31,
   "id": "94c8c407-eeb6-471a-99bd-c1a8d26d649a",
   "metadata": {},
   "outputs": [
    {
     "data": {
      "text/plain": [
       "matrix([[1., 0., 0., 0., 0.],\n",
       "        [0., 1., 0., 0., 0.],\n",
       "        [0., 0., 1., 0., 0.],\n",
       "        [0., 0., 0., 1., 0.],\n",
       "        [0., 0., 0., 0., 1.]])"
      ]
     },
     "execution_count": 31,
     "metadata": {},
     "output_type": "execute_result"
    }
   ],
   "source": [
    "nm.eye(5)   #Identity matrix"
   ]
  },
  {
   "cell_type": "code",
   "execution_count": 32,
   "id": "b3d68343-9715-4b98-a0cb-f81c33595f46",
   "metadata": {},
   "outputs": [],
   "source": [
    "#Numpy - Linear Algebra"
   ]
  },
  {
   "cell_type": "code",
   "execution_count": 35,
   "id": "4c47358d-238f-4396-a0d1-1015fa6cfe64",
   "metadata": {},
   "outputs": [],
   "source": [
    "arr1 = np.random.randint([[2,3], [4,5]])"
   ]
  },
  {
   "cell_type": "code",
   "execution_count": 36,
   "id": "9a9fc8f6-6b1c-4c19-86ca-74d2b752683b",
   "metadata": {},
   "outputs": [],
   "source": [
    "arr2 = np.random.randint([[5,3], [2,5]])"
   ]
  },
  {
   "cell_type": "code",
   "execution_count": 37,
   "id": "ddcae8ee-01b3-4c0e-b89b-58e8afa9720d",
   "metadata": {},
   "outputs": [
    {
     "data": {
      "text/plain": [
       "array([[0, 4],\n",
       "       [3, 7]])"
      ]
     },
     "execution_count": 37,
     "metadata": {},
     "output_type": "execute_result"
    }
   ],
   "source": [
    "np.dot(arr1, arr2)"
   ]
  },
  {
   "cell_type": "code",
   "execution_count": 38,
   "id": "eae6ad59-bd42-45d0-a497-3d0462270778",
   "metadata": {},
   "outputs": [
    {
     "data": {
      "text/plain": [
       "array([[0, 4],\n",
       "       [3, 7]])"
      ]
     },
     "execution_count": 38,
     "metadata": {},
     "output_type": "execute_result"
    }
   ],
   "source": [
    "arr1@arr2"
   ]
  },
  {
   "cell_type": "code",
   "execution_count": null,
   "id": "998dec43-a59c-4376-947f-d72c5fc8fb4c",
   "metadata": {},
   "outputs": [],
   "source": []
  }
 ],
 "metadata": {
  "kernelspec": {
   "display_name": "Python 3 (ipykernel)",
   "language": "python",
   "name": "python3"
  },
  "language_info": {
   "codemirror_mode": {
    "name": "ipython",
    "version": 3
   },
   "file_extension": ".py",
   "mimetype": "text/x-python",
   "name": "python",
   "nbconvert_exporter": "python",
   "pygments_lexer": "ipython3",
   "version": "3.10.8"
  }
 },
 "nbformat": 4,
 "nbformat_minor": 5
}
