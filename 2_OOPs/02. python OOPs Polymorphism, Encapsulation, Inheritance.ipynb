{
 "cells": [
  {
   "cell_type": "markdown",
   "id": "d7d24624",
   "metadata": {},
   "source": [
    "# Polymorphism"
   ]
  },
  {
   "cell_type": "code",
   "execution_count": 1,
   "id": "e041eed4",
   "metadata": {},
   "outputs": [],
   "source": [
    "def test(a, b):\n",
    "    return a+b"
   ]
  },
  {
   "cell_type": "code",
   "execution_count": 2,
   "id": "5b543d8d",
   "metadata": {},
   "outputs": [
    {
     "data": {
      "text/plain": [
       "7"
      ]
     },
     "execution_count": 2,
     "metadata": {},
     "output_type": "execute_result"
    }
   ],
   "source": [
    "test(3,4)"
   ]
  },
  {
   "cell_type": "code",
   "execution_count": 4,
   "id": "67300b57",
   "metadata": {},
   "outputs": [
    {
     "data": {
      "text/plain": [
       "'Prince Choudhury'"
      ]
     },
     "execution_count": 4,
     "metadata": {},
     "output_type": "execute_result"
    }
   ],
   "source": [
    "test(\"Prince \", \"Choudhury\")"
   ]
  },
  {
   "cell_type": "code",
   "execution_count": 5,
   "id": "23a0738f",
   "metadata": {},
   "outputs": [
    {
     "data": {
      "text/plain": [
       "[4, 6, 6, 3, 3, 6, 8, 4, 3]"
      ]
     },
     "execution_count": 5,
     "metadata": {},
     "output_type": "execute_result"
    }
   ],
   "source": [
    "test([4,6,6,3,3], [6,8,4,3])"
   ]
  },
  {
   "cell_type": "code",
   "execution_count": null,
   "id": "6b0b00c7",
   "metadata": {},
   "outputs": [],
   "source": [
    "#Polymorphism : Multiple behaviour show karne wala entity"
   ]
  },
  {
   "cell_type": "code",
   "execution_count": 1,
   "id": "f0dd9e26",
   "metadata": {},
   "outputs": [],
   "source": [
    "class data_science:\n",
    "    \n",
    "    def syllabus(self):  #self is used to point to a class\n",
    "        print(\"This is my syllabus for data science masters\")\n",
    "    "
   ]
  },
  {
   "cell_type": "code",
   "execution_count": 2,
   "id": "b9f102a6",
   "metadata": {},
   "outputs": [],
   "source": [
    "class web_dev:\n",
    "    \n",
    "    def syllabus(self):\n",
    "        print(\"This is my syllabus for web dev\")"
   ]
  },
  {
   "cell_type": "code",
   "execution_count": 3,
   "id": "56349638",
   "metadata": {},
   "outputs": [],
   "source": [
    "def class_parcer(class_obj):\n",
    "    for i in class_obj:\n",
    "        i.syllabus()"
   ]
  },
  {
   "cell_type": "code",
   "execution_count": 4,
   "id": "7ff33f61",
   "metadata": {},
   "outputs": [],
   "source": [
    "data_science = data_science()"
   ]
  },
  {
   "cell_type": "code",
   "execution_count": 5,
   "id": "bced772c",
   "metadata": {},
   "outputs": [],
   "source": [
    "web_dev = web_dev()"
   ]
  },
  {
   "cell_type": "code",
   "execution_count": 6,
   "id": "88f52cd9",
   "metadata": {},
   "outputs": [],
   "source": [
    "class_obj = [data_science, web_dev]"
   ]
  },
  {
   "cell_type": "code",
   "execution_count": 8,
   "id": "dc4b98db",
   "metadata": {},
   "outputs": [
    {
     "name": "stdout",
     "output_type": "stream",
     "text": [
      "This is my syllabus for data science masters\n",
      "This is my syllabus for web dev\n"
     ]
    }
   ],
   "source": [
    "class_parcer(class_obj)"
   ]
  },
  {
   "cell_type": "code",
   "execution_count": null,
   "id": "946c9583",
   "metadata": {},
   "outputs": [],
   "source": []
  },
  {
   "cell_type": "code",
   "execution_count": null,
   "id": "64f61abf",
   "metadata": {},
   "outputs": [],
   "source": []
  },
  {
   "cell_type": "markdown",
   "id": "0843a0a2",
   "metadata": {},
   "source": [
    "# Encapsulation"
   ]
  },
  {
   "cell_type": "code",
   "execution_count": 10,
   "id": "daf25c33",
   "metadata": {},
   "outputs": [],
   "source": [
    "class test:\n",
    "    \n",
    "    def __init__(self, a, b):\n",
    "        self.a = a\n",
    "        self.b = b"
   ]
  },
  {
   "cell_type": "code",
   "execution_count": 11,
   "id": "25b5843d",
   "metadata": {},
   "outputs": [],
   "source": [
    "t = test(23, 34)"
   ]
  },
  {
   "cell_type": "code",
   "execution_count": 12,
   "id": "4060a472",
   "metadata": {},
   "outputs": [],
   "source": [
    "t.a = 2345345"
   ]
  },
  {
   "cell_type": "code",
   "execution_count": 13,
   "id": "df7e546c",
   "metadata": {},
   "outputs": [
    {
     "data": {
      "text/plain": [
       "2345345"
      ]
     },
     "execution_count": 13,
     "metadata": {},
     "output_type": "execute_result"
    }
   ],
   "source": [
    "t.a"
   ]
  },
  {
   "cell_type": "code",
   "execution_count": 36,
   "id": "8990f7e7",
   "metadata": {},
   "outputs": [],
   "source": [
    "class car :\n",
    "    \n",
    "    def __init__(self, year, make, model, speed):\n",
    "        \n",
    "        self.__year = year     #Agar ham double under score use karte h \n",
    "                                #to wo data user se hide ho jata h\n",
    "                                #Ye private variable ban chuka h ham isse direct access nahi kar sakte\n",
    "        self.__make = make\n",
    "        self.__model = model\n",
    "        self.__speed = 0\n",
    "        \n",
    "    def set_speed(self, speed) :\n",
    "        self.__speed = 0 if speed < 0 else speed\n",
    "        \n",
    "    def get_speed(self):\n",
    "        return self.__speed\n",
    "        "
   ]
  },
  {
   "cell_type": "code",
   "execution_count": 37,
   "id": "d00c97b6",
   "metadata": {},
   "outputs": [],
   "source": [
    "c = car(2021, \"toyata\", \"innova\", 12)"
   ]
  },
  {
   "cell_type": "code",
   "execution_count": 38,
   "id": "5860602b",
   "metadata": {},
   "outputs": [
    {
     "ename": "AttributeError",
     "evalue": "'car' object has no attribute 'year'",
     "output_type": "error",
     "traceback": [
      "\u001b[1;31m---------------------------------------------------------------------------\u001b[0m",
      "\u001b[1;31mAttributeError\u001b[0m                            Traceback (most recent call last)",
      "\u001b[1;32m~\\AppData\\Local\\Temp\\ipykernel_13036\\4006134625.py\u001b[0m in \u001b[0;36m<module>\u001b[1;34m\u001b[0m\n\u001b[1;32m----> 1\u001b[1;33m \u001b[0mc\u001b[0m\u001b[1;33m.\u001b[0m\u001b[0myear\u001b[0m\u001b[1;33m\u001b[0m\u001b[1;33m\u001b[0m\u001b[0m\n\u001b[0m",
      "\u001b[1;31mAttributeError\u001b[0m: 'car' object has no attribute 'year'"
     ]
    }
   ],
   "source": [
    "c.year"
   ]
  },
  {
   "cell_type": "code",
   "execution_count": 39,
   "id": "81d99044",
   "metadata": {},
   "outputs": [
    {
     "ename": "AttributeError",
     "evalue": "'car' object has no attribute '__year'",
     "output_type": "error",
     "traceback": [
      "\u001b[1;31m---------------------------------------------------------------------------\u001b[0m",
      "\u001b[1;31mAttributeError\u001b[0m                            Traceback (most recent call last)",
      "\u001b[1;32m~\\AppData\\Local\\Temp\\ipykernel_13036\\164851956.py\u001b[0m in \u001b[0;36m<module>\u001b[1;34m\u001b[0m\n\u001b[1;32m----> 1\u001b[1;33m \u001b[0mc\u001b[0m\u001b[1;33m.\u001b[0m\u001b[0m__year\u001b[0m\u001b[1;33m\u001b[0m\u001b[1;33m\u001b[0m\u001b[0m\n\u001b[0m",
      "\u001b[1;31mAttributeError\u001b[0m: 'car' object has no attribute '__year'"
     ]
    }
   ],
   "source": [
    "c.__year"
   ]
  },
  {
   "cell_type": "code",
   "execution_count": 40,
   "id": "7fdf0346",
   "metadata": {},
   "outputs": [
    {
     "data": {
      "text/plain": [
       "2021"
      ]
     },
     "execution_count": 40,
     "metadata": {},
     "output_type": "execute_result"
    }
   ],
   "source": [
    "c._car__year"
   ]
  },
  {
   "cell_type": "code",
   "execution_count": 41,
   "id": "2b6c7feb",
   "metadata": {},
   "outputs": [],
   "source": [
    "c.set_speed(-3534)"
   ]
  },
  {
   "cell_type": "code",
   "execution_count": 42,
   "id": "fc177502",
   "metadata": {},
   "outputs": [
    {
     "data": {
      "text/plain": [
       "0"
      ]
     },
     "execution_count": 42,
     "metadata": {},
     "output_type": "execute_result"
    }
   ],
   "source": [
    "c.get_speed()"
   ]
  },
  {
   "cell_type": "code",
   "execution_count": 43,
   "id": "a3fe362f",
   "metadata": {},
   "outputs": [],
   "source": [
    "c.set_speed(344)"
   ]
  },
  {
   "cell_type": "code",
   "execution_count": 44,
   "id": "320ca2b4",
   "metadata": {},
   "outputs": [
    {
     "data": {
      "text/plain": [
       "344"
      ]
     },
     "execution_count": 44,
     "metadata": {},
     "output_type": "execute_result"
    }
   ],
   "source": [
    "c.get_speed()"
   ]
  },
  {
   "cell_type": "code",
   "execution_count": 58,
   "id": "f90d3010",
   "metadata": {},
   "outputs": [],
   "source": [
    "class bank_account :\n",
    "    def __init__(self, balance):\n",
    "        self.__balance = balance\n",
    "        \n",
    "    def deposite(self, amount):\n",
    "        self.__balance = self.__balance + amount\n",
    "        \n",
    "    def withdraw(self, amount):\n",
    "        if self.__balance >= amount:\n",
    "            self.__balance = self.__balance - amount\n",
    "            return True\n",
    "        else:\n",
    "            False\n",
    "            \n",
    "    def get_balance(self):\n",
    "        return self.__balance\n",
    "    "
   ]
  },
  {
   "cell_type": "code",
   "execution_count": 59,
   "id": "bd72edf9",
   "metadata": {},
   "outputs": [],
   "source": [
    "prince = bank_account(1000)"
   ]
  },
  {
   "cell_type": "code",
   "execution_count": 60,
   "id": "55e35448",
   "metadata": {},
   "outputs": [
    {
     "data": {
      "text/plain": [
       "1000"
      ]
     },
     "execution_count": 60,
     "metadata": {},
     "output_type": "execute_result"
    }
   ],
   "source": [
    "prince.get_balance()"
   ]
  },
  {
   "cell_type": "code",
   "execution_count": 61,
   "id": "f97840c9",
   "metadata": {},
   "outputs": [],
   "source": [
    "prince.deposite(5000)"
   ]
  },
  {
   "cell_type": "code",
   "execution_count": 62,
   "id": "3bd9b482",
   "metadata": {},
   "outputs": [
    {
     "data": {
      "text/plain": [
       "6000"
      ]
     },
     "execution_count": 62,
     "metadata": {},
     "output_type": "execute_result"
    }
   ],
   "source": [
    "prince.get_balance()"
   ]
  },
  {
   "cell_type": "code",
   "execution_count": 63,
   "id": "6b83c03e",
   "metadata": {},
   "outputs": [],
   "source": [
    "prince.deposite(1000)"
   ]
  },
  {
   "cell_type": "code",
   "execution_count": 64,
   "id": "d28a5db2",
   "metadata": {},
   "outputs": [
    {
     "data": {
      "text/plain": [
       "7000"
      ]
     },
     "execution_count": 64,
     "metadata": {},
     "output_type": "execute_result"
    }
   ],
   "source": [
    "prince.get_balance()"
   ]
  },
  {
   "cell_type": "code",
   "execution_count": 65,
   "id": "9fe65c9c",
   "metadata": {},
   "outputs": [],
   "source": [
    "prince.withdraw(9000)"
   ]
  },
  {
   "cell_type": "code",
   "execution_count": 66,
   "id": "66f603b9",
   "metadata": {},
   "outputs": [
    {
     "data": {
      "text/plain": [
       "7000"
      ]
     },
     "execution_count": 66,
     "metadata": {},
     "output_type": "execute_result"
    }
   ],
   "source": [
    "prince.get_balance()"
   ]
  },
  {
   "cell_type": "code",
   "execution_count": 68,
   "id": "e751c317",
   "metadata": {},
   "outputs": [],
   "source": [
    "prince.withdraw(9000)"
   ]
  },
  {
   "cell_type": "code",
   "execution_count": null,
   "id": "10c26b94",
   "metadata": {},
   "outputs": [],
   "source": []
  },
  {
   "cell_type": "markdown",
   "id": "7aa5ecbb",
   "metadata": {},
   "source": [
    "# Inheritance"
   ]
  },
  {
   "cell_type": "code",
   "execution_count": 69,
   "id": "6fae3044",
   "metadata": {},
   "outputs": [],
   "source": [
    "class test:     #Parent class\n",
    "    \n",
    "    def test_meth(self):\n",
    "        return \"This is my first class\""
   ]
  },
  {
   "cell_type": "code",
   "execution_count": 70,
   "id": "419284a3",
   "metadata": {},
   "outputs": [],
   "source": [
    "class child_test(test):    #child class\n",
    "    pass"
   ]
  },
  {
   "cell_type": "code",
   "execution_count": 71,
   "id": "73b95119",
   "metadata": {},
   "outputs": [],
   "source": [
    "child_test_obj = child_test()"
   ]
  },
  {
   "cell_type": "code",
   "execution_count": 72,
   "id": "fd1a4451",
   "metadata": {},
   "outputs": [
    {
     "data": {
      "text/plain": [
       "'This is my first class'"
      ]
     },
     "execution_count": 72,
     "metadata": {},
     "output_type": "execute_result"
    }
   ],
   "source": [
    "child_test_obj.test_meth()"
   ]
  },
  {
   "cell_type": "code",
   "execution_count": null,
   "id": "fac1235a",
   "metadata": {},
   "outputs": [],
   "source": [
    "#Multi-level Inheritance"
   ]
  },
  {
   "cell_type": "code",
   "execution_count": 73,
   "id": "c54e28e6",
   "metadata": {},
   "outputs": [],
   "source": [
    "class class1:\n",
    "    \n",
    "    def test_class1(self):\n",
    "        return \"This is a method from class1\""
   ]
  },
  {
   "cell_type": "code",
   "execution_count": 85,
   "id": "1d992dd9",
   "metadata": {},
   "outputs": [],
   "source": [
    "class class2(class1):\n",
    "    \n",
    "    def test_class2(self):\n",
    "        return \"This is a method from class 2\""
   ]
  },
  {
   "cell_type": "code",
   "execution_count": 86,
   "id": "c04bccbd",
   "metadata": {},
   "outputs": [],
   "source": [
    "class class3(class2):\n",
    "    pass"
   ]
  },
  {
   "cell_type": "code",
   "execution_count": 87,
   "id": "be0ffc57",
   "metadata": {},
   "outputs": [],
   "source": [
    "obj_class3 = class3()   #obj_class3 class3 ka object h"
   ]
  },
  {
   "cell_type": "code",
   "execution_count": 88,
   "id": "69e6f5b1",
   "metadata": {},
   "outputs": [
    {
     "data": {
      "text/plain": [
       "'This is a method from class1'"
      ]
     },
     "execution_count": 88,
     "metadata": {},
     "output_type": "execute_result"
    }
   ],
   "source": [
    "obj_class3.test_class1()"
   ]
  },
  {
   "cell_type": "code",
   "execution_count": 89,
   "id": "3777ce2e",
   "metadata": {},
   "outputs": [
    {
     "data": {
      "text/plain": [
       "'This is a method from class 2'"
      ]
     },
     "execution_count": 89,
     "metadata": {},
     "output_type": "execute_result"
    }
   ],
   "source": [
    "obj_class3.test_class2()"
   ]
  },
  {
   "cell_type": "code",
   "execution_count": null,
   "id": "5ffc9dad",
   "metadata": {},
   "outputs": [],
   "source": [
    "#Inheritance ke under ham ek class\n",
    "#ko dusre class me use kar rahe hote h aur kuch bhi nahi"
   ]
  },
  {
   "cell_type": "code",
   "execution_count": null,
   "id": "92ada950",
   "metadata": {},
   "outputs": [],
   "source": [
    "#Multiple Inheritance\n",
    "#class3, class1 and class2 dono ke property \n",
    "#ko inherite karna chahiye together"
   ]
  },
  {
   "cell_type": "code",
   "execution_count": 98,
   "id": "8333ae7f",
   "metadata": {},
   "outputs": [],
   "source": [
    "class class1:        #papa class\n",
    "    \n",
    "    def test_class1(self):\n",
    "        return \"This is a class 1\""
   ]
  },
  {
   "cell_type": "code",
   "execution_count": 99,
   "id": "8eba82d5",
   "metadata": {},
   "outputs": [],
   "source": [
    "class class2:       #mummy class\n",
    "    \n",
    "    def test_class2(self):\n",
    "        return \"This is a class 2\""
   ]
  },
  {
   "cell_type": "code",
   "execution_count": 100,
   "id": "6839cd2b",
   "metadata": {},
   "outputs": [],
   "source": [
    "class class3(class1, class2):\n",
    "    pass"
   ]
  },
  {
   "cell_type": "code",
   "execution_count": 101,
   "id": "edae3b94",
   "metadata": {},
   "outputs": [],
   "source": [
    "obj_class3 = class3()"
   ]
  },
  {
   "cell_type": "code",
   "execution_count": 102,
   "id": "fb5af417",
   "metadata": {},
   "outputs": [
    {
     "data": {
      "text/plain": [
       "'This is a class 1'"
      ]
     },
     "execution_count": 102,
     "metadata": {},
     "output_type": "execute_result"
    }
   ],
   "source": [
    "obj_class3.test_class1()"
   ]
  },
  {
   "cell_type": "code",
   "execution_count": 103,
   "id": "9e40c095",
   "metadata": {},
   "outputs": [
    {
     "data": {
      "text/plain": [
       "'This is a class 2'"
      ]
     },
     "execution_count": 103,
     "metadata": {},
     "output_type": "execute_result"
    }
   ],
   "source": [
    "obj_class3.test_class2()"
   ]
  },
  {
   "cell_type": "code",
   "execution_count": null,
   "id": "b6f21de3",
   "metadata": {},
   "outputs": [],
   "source": []
  },
  {
   "cell_type": "code",
   "execution_count": null,
   "id": "dbf69187",
   "metadata": {},
   "outputs": [],
   "source": []
  }
 ],
 "metadata": {
  "kernelspec": {
   "display_name": "Python 3 (ipykernel)",
   "language": "python",
   "name": "python3"
  },
  "language_info": {
   "codemirror_mode": {
    "name": "ipython",
    "version": 3
   },
   "file_extension": ".py",
   "mimetype": "text/x-python",
   "name": "python",
   "nbconvert_exporter": "python",
   "pygments_lexer": "ipython3",
   "version": "3.9.13"
  }
 },
 "nbformat": 4,
 "nbformat_minor": 5
}
