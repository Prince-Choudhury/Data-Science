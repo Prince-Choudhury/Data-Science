{
 "cells": [
  {
   "cell_type": "code",
   "execution_count": 1,
   "id": "acc2cbe5",
   "metadata": {},
   "outputs": [],
   "source": [
    "a = 1"
   ]
  },
  {
   "cell_type": "code",
   "execution_count": 2,
   "id": "0a633251",
   "metadata": {},
   "outputs": [
    {
     "name": "stdout",
     "output_type": "stream",
     "text": [
      "<class 'int'>\n"
     ]
    }
   ],
   "source": [
    "print(type(a))"
   ]
  },
  {
   "cell_type": "code",
   "execution_count": 3,
   "id": "5e0c9dea",
   "metadata": {},
   "outputs": [
    {
     "name": "stdout",
     "output_type": "stream",
     "text": [
      "<class 'str'>\n"
     ]
    }
   ],
   "source": [
    "print(type(\"prince\"))"
   ]
  },
  {
   "cell_type": "code",
   "execution_count": 4,
   "id": "9f0910e9",
   "metadata": {},
   "outputs": [
    {
     "ename": "IndentationError",
     "evalue": "expected an indented block (625349465.py, line 1)",
     "output_type": "error",
     "traceback": [
      "\u001b[1;36m  File \u001b[1;32m\"C:\\Users\\Prince\\AppData\\Local\\Temp\\ipykernel_3576\\625349465.py\"\u001b[1;36m, line \u001b[1;32m1\u001b[0m\n\u001b[1;33m    class test :\u001b[0m\n\u001b[1;37m                ^\u001b[0m\n\u001b[1;31mIndentationError\u001b[0m\u001b[1;31m:\u001b[0m expected an indented block\n"
     ]
    }
   ],
   "source": [
    "class test :"
   ]
  },
  {
   "cell_type": "code",
   "execution_count": 5,
   "id": "d8c9afd1",
   "metadata": {},
   "outputs": [],
   "source": [
    "class test :\n",
    "    pass"
   ]
  },
  {
   "cell_type": "code",
   "execution_count": 6,
   "id": "5ac7af09",
   "metadata": {},
   "outputs": [],
   "source": [
    "a = test()"
   ]
  },
  {
   "cell_type": "code",
   "execution_count": 7,
   "id": "755e7a2c",
   "metadata": {},
   "outputs": [
    {
     "data": {
      "text/plain": [
       "__main__.test"
      ]
     },
     "execution_count": 7,
     "metadata": {},
     "output_type": "execute_result"
    }
   ],
   "source": [
    "type(a)"
   ]
  },
  {
   "cell_type": "code",
   "execution_count": 8,
   "id": "abf5185a",
   "metadata": {},
   "outputs": [
    {
     "name": "stdout",
     "output_type": "stream",
     "text": [
      "<class '__main__.test'>\n"
     ]
    }
   ],
   "source": [
    "print(type(a))"
   ]
  },
  {
   "cell_type": "code",
   "execution_count": 13,
   "id": "a3d607ba",
   "metadata": {},
   "outputs": [],
   "source": [
    "class pwskills:\n",
    "    \n",
    "    def welcome_msg(self):\n",
    "        print(\"Welcome to pwskills\")"
   ]
  },
  {
   "cell_type": "code",
   "execution_count": 14,
   "id": "a5972968",
   "metadata": {},
   "outputs": [],
   "source": [
    "Rohan = pwskills()"
   ]
  },
  {
   "cell_type": "code",
   "execution_count": 15,
   "id": "0a8c5c73",
   "metadata": {},
   "outputs": [
    {
     "name": "stdout",
     "output_type": "stream",
     "text": [
      "<class '__main__.pwskills'>\n"
     ]
    }
   ],
   "source": [
    "print(type(Rohan))"
   ]
  },
  {
   "cell_type": "code",
   "execution_count": 16,
   "id": "0671a8e4",
   "metadata": {},
   "outputs": [
    {
     "name": "stdout",
     "output_type": "stream",
     "text": [
      "Welcome to pwskills\n"
     ]
    }
   ],
   "source": [
    "Rohan.welcome_msg()"
   ]
  },
  {
   "cell_type": "code",
   "execution_count": 17,
   "id": "45fed7f5",
   "metadata": {},
   "outputs": [],
   "source": [
    "Gaurav = pwskills()"
   ]
  },
  {
   "cell_type": "code",
   "execution_count": 18,
   "id": "06237cfa",
   "metadata": {},
   "outputs": [
    {
     "name": "stdout",
     "output_type": "stream",
     "text": [
      "Welcome to pwskills\n"
     ]
    }
   ],
   "source": [
    "Gaurav.welcome_msg()"
   ]
  },
  {
   "cell_type": "code",
   "execution_count": 19,
   "id": "57c74a89",
   "metadata": {},
   "outputs": [],
   "source": [
    "class pwskills1 :     #self is used to bind with class\n",
    "    \n",
    "    def __init__(self, phone_number, email_id, student_id):\n",
    "        self.phone_number = phone_number\n",
    "        self.email_id = email_id\n",
    "        self.student_id = student_id\n",
    "        \n",
    "    def return_student_details(self):\n",
    "        return self.student_id, self.phone_number, self.email_id\n",
    "    "
   ]
  },
  {
   "cell_type": "code",
   "execution_count": 20,
   "id": "beaadef0",
   "metadata": {},
   "outputs": [
    {
     "ename": "TypeError",
     "evalue": "__init__() missing 3 required positional arguments: 'phone_number', 'email_id', and 'student_id'",
     "output_type": "error",
     "traceback": [
      "\u001b[1;31m---------------------------------------------------------------------------\u001b[0m",
      "\u001b[1;31mTypeError\u001b[0m                                 Traceback (most recent call last)",
      "\u001b[1;32m~\\AppData\\Local\\Temp\\ipykernel_3576\\3615617012.py\u001b[0m in \u001b[0;36m<module>\u001b[1;34m\u001b[0m\n\u001b[1;32m----> 1\u001b[1;33m \u001b[0mRohan\u001b[0m \u001b[1;33m=\u001b[0m \u001b[0mpwskills1\u001b[0m\u001b[1;33m(\u001b[0m\u001b[1;33m)\u001b[0m\u001b[1;33m\u001b[0m\u001b[1;33m\u001b[0m\u001b[0m\n\u001b[0m",
      "\u001b[1;31mTypeError\u001b[0m: __init__() missing 3 required positional arguments: 'phone_number', 'email_id', and 'student_id'"
     ]
    }
   ],
   "source": [
    "Rohan = pwskills1()"
   ]
  },
  {
   "cell_type": "code",
   "execution_count": 21,
   "id": "021a397a",
   "metadata": {},
   "outputs": [],
   "source": [
    "Rohan = pwskills1(1342443525, \"rohan@gmail.com\", 501)"
   ]
  },
  {
   "cell_type": "code",
   "execution_count": 22,
   "id": "16eba12c",
   "metadata": {},
   "outputs": [
    {
     "data": {
      "text/plain": [
       "(501, 1342443525, 'rohan@gmail.com')"
      ]
     },
     "execution_count": 22,
     "metadata": {},
     "output_type": "execute_result"
    }
   ],
   "source": [
    "Rohan.return_student_details()"
   ]
  },
  {
   "cell_type": "code",
   "execution_count": 30,
   "id": "752c3dba",
   "metadata": {},
   "outputs": [
    {
     "data": {
      "text/plain": [
       "1342443525"
      ]
     },
     "execution_count": 30,
     "metadata": {},
     "output_type": "execute_result"
    }
   ],
   "source": [
    "Rohan.phone_number"
   ]
  },
  {
   "cell_type": "code",
   "execution_count": 31,
   "id": "51aa5d04",
   "metadata": {},
   "outputs": [
    {
     "data": {
      "text/plain": [
       "'rohan@gmail.com'"
      ]
     },
     "execution_count": 31,
     "metadata": {},
     "output_type": "execute_result"
    }
   ],
   "source": [
    "Rohan.email_id"
   ]
  },
  {
   "cell_type": "code",
   "execution_count": 23,
   "id": "65037da8",
   "metadata": {},
   "outputs": [],
   "source": [
    "Gaurav = pwskills1(45366346345, \"gaurav@gmail.com\", 502)"
   ]
  },
  {
   "cell_type": "code",
   "execution_count": 24,
   "id": "d5ba8c4c",
   "metadata": {},
   "outputs": [
    {
     "data": {
      "text/plain": [
       "(502, 45366346345, 'gaurav@gmail.com')"
      ]
     },
     "execution_count": 24,
     "metadata": {},
     "output_type": "execute_result"
    }
   ],
   "source": [
    "Gaurav.return_student_details()"
   ]
  },
  {
   "cell_type": "code",
   "execution_count": 51,
   "id": "1cb61880",
   "metadata": {},
   "outputs": [],
   "source": [
    "class pwskills2 :     #self is used to bind with class\n",
    "    \n",
    "    def __init__(self, phone_number, email_id, student_id):    #init : constructor\n",
    "        self.phone_number1 = phone_number\n",
    "        self.email_id1 = email_id\n",
    "        self.student_id1 = student_id\n",
    "        \n",
    "    def return_student_details(self):\n",
    "        return self.student_id1, self.phone_number1, self.email_id1\n",
    "    "
   ]
  },
  {
   "cell_type": "code",
   "execution_count": 52,
   "id": "4e3c23d9",
   "metadata": {},
   "outputs": [],
   "source": [
    "prince = pwskills2(4543625325, \"prince@gmail.com\", 5001)"
   ]
  },
  {
   "cell_type": "code",
   "execution_count": 53,
   "id": "5c431e72",
   "metadata": {},
   "outputs": [
    {
     "data": {
      "text/plain": [
       "4543625325"
      ]
     },
     "execution_count": 53,
     "metadata": {},
     "output_type": "execute_result"
    }
   ],
   "source": [
    "prince.phone_number1"
   ]
  },
  {
   "cell_type": "code",
   "execution_count": 54,
   "id": "7a9a0297",
   "metadata": {},
   "outputs": [
    {
     "data": {
      "text/plain": [
       "'prince@gmail.com'"
      ]
     },
     "execution_count": 54,
     "metadata": {},
     "output_type": "execute_result"
    }
   ],
   "source": [
    "prince.email_id1"
   ]
  },
  {
   "cell_type": "code",
   "execution_count": 55,
   "id": "90f36ba9",
   "metadata": {},
   "outputs": [
    {
     "data": {
      "text/plain": [
       "(5001, 4543625325, 'prince@gmail.com')"
      ]
     },
     "execution_count": 55,
     "metadata": {},
     "output_type": "execute_result"
    }
   ],
   "source": [
    "prince.return_student_details()"
   ]
  },
  {
   "cell_type": "code",
   "execution_count": 56,
   "id": "a4814482",
   "metadata": {},
   "outputs": [],
   "source": [
    "class pwskills3 :     #self is used to bind with class\n",
    "                    #self is not a reserve keywork we can use any name\n",
    "                    #self is used as a pointer\n",
    "    \n",
    "    def __init__(prince, phone_number, email_id, student_id):    #init : constructor\n",
    "        prince.phone_number1 = phone_number\n",
    "        prince.email_id1 = email_id\n",
    "        prince.student_id1 = student_id\n",
    "        \n",
    "    def return_student_details(prince):\n",
    "        return prince.student_id1, prince.phone_number1, prince.email_id1\n",
    "    "
   ]
  },
  {
   "cell_type": "code",
   "execution_count": 57,
   "id": "9d0f8a21",
   "metadata": {},
   "outputs": [],
   "source": [
    "Sai = pwskills3(3947395792747, \"Sai@gmail.com\", 5002)"
   ]
  },
  {
   "cell_type": "code",
   "execution_count": 58,
   "id": "54c1a667",
   "metadata": {},
   "outputs": [
    {
     "data": {
      "text/plain": [
       "3947395792747"
      ]
     },
     "execution_count": 58,
     "metadata": {},
     "output_type": "execute_result"
    }
   ],
   "source": [
    "Sai.phone_number1"
   ]
  },
  {
   "cell_type": "code",
   "execution_count": null,
   "id": "f7b4139d",
   "metadata": {},
   "outputs": [],
   "source": []
  }
 ],
 "metadata": {
  "kernelspec": {
   "display_name": "Python 3 (ipykernel)",
   "language": "python",
   "name": "python3"
  },
  "language_info": {
   "codemirror_mode": {
    "name": "ipython",
    "version": 3
   },
   "file_extension": ".py",
   "mimetype": "text/x-python",
   "name": "python",
   "nbconvert_exporter": "python",
   "pygments_lexer": "ipython3",
   "version": "3.9.13"
  }
 },
 "nbformat": 4,
 "nbformat_minor": 5
}
