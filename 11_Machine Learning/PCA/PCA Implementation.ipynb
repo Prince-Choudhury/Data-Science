{
 "cells": [
  {
   "cell_type": "markdown",
   "id": "5e3f3bb6-7f7b-41ce-a512-ebdc70d0b0ed",
   "metadata": {},
   "source": [
    "## PCA Implementation With Python"
   ]
  },
  {
   "cell_type": "code",
   "execution_count": 1,
   "id": "9aca5abc-7aea-4a1d-82af-317cb62eb465",
   "metadata": {},
   "outputs": [],
   "source": [
    "import numpy as np\n",
    "import matplotlib.pyplot as plt\n",
    "\n",
    "\n",
    "from sklearn.decomposition import PCA\n",
    "from sklearn import datasets\n"
   ]
  },
  {
   "cell_type": "code",
   "execution_count": 2,
   "id": "952dda69-43a4-4545-a3cb-bad9ff29e7b4",
   "metadata": {},
   "outputs": [],
   "source": [
    "dataset=datasets.load_iris()"
   ]
  },
  {
   "cell_type": "code",
   "execution_count": 3,
   "id": "c0cd8501-558f-44c3-b335-ebf09f97e9c9",
   "metadata": {},
   "outputs": [],
   "source": [
    "X=dataset['data']\n",
    "y=dataset['target']"
   ]
  },
  {
   "cell_type": "code",
   "execution_count": 4,
   "id": "959d2c7f-9dfa-429d-ad96-1ba464305e5c",
   "metadata": {},
   "outputs": [],
   "source": [
    "from sklearn.model_selection import train_test_split\n",
    "\n",
    "X_train, X_test, y_train, y_test = train_test_split(X, y, test_size=0.33, random_state=42)"
   ]
  },
  {
   "cell_type": "code",
   "execution_count": 5,
   "id": "214169be-2375-472f-a97b-6a2a86567f7f",
   "metadata": {},
   "outputs": [
    {
     "data": {
      "text/plain": [
       "array([[5.7, 2.9, 4.2, 1.3],\n",
       "       [7.6, 3. , 6.6, 2.1],\n",
       "       [5.6, 3. , 4.5, 1.5],\n",
       "       [5.1, 3.5, 1.4, 0.2],\n",
       "       [7.7, 2.8, 6.7, 2. ],\n",
       "       [5.8, 2.7, 4.1, 1. ],\n",
       "       [5.2, 3.4, 1.4, 0.2],\n",
       "       [5. , 3.5, 1.3, 0.3],\n",
       "       [5.1, 3.8, 1.9, 0.4],\n",
       "       [5. , 2. , 3.5, 1. ],\n",
       "       [6.3, 2.7, 4.9, 1.8],\n",
       "       [4.8, 3.4, 1.9, 0.2],\n",
       "       [5. , 3. , 1.6, 0.2],\n",
       "       [5.1, 3.3, 1.7, 0.5],\n",
       "       [5.6, 2.7, 4.2, 1.3],\n",
       "       [5.1, 3.4, 1.5, 0.2],\n",
       "       [5.7, 3. , 4.2, 1.2],\n",
       "       [7.7, 3.8, 6.7, 2.2],\n",
       "       [4.6, 3.2, 1.4, 0.2],\n",
       "       [6.2, 2.9, 4.3, 1.3],\n",
       "       [5.7, 2.5, 5. , 2. ],\n",
       "       [5.5, 4.2, 1.4, 0.2],\n",
       "       [6. , 3. , 4.8, 1.8],\n",
       "       [5.8, 2.7, 5.1, 1.9],\n",
       "       [6. , 2.2, 4. , 1. ],\n",
       "       [5.4, 3. , 4.5, 1.5],\n",
       "       [6.2, 3.4, 5.4, 2.3],\n",
       "       [5.5, 2.3, 4. , 1.3],\n",
       "       [5.4, 3.9, 1.7, 0.4],\n",
       "       [5. , 2.3, 3.3, 1. ],\n",
       "       [6.4, 2.7, 5.3, 1.9],\n",
       "       [5. , 3.3, 1.4, 0.2],\n",
       "       [5. , 3.2, 1.2, 0.2],\n",
       "       [5.5, 2.4, 3.8, 1.1],\n",
       "       [6.7, 3. , 5. , 1.7],\n",
       "       [4.9, 3.1, 1.5, 0.2],\n",
       "       [5.8, 2.8, 5.1, 2.4],\n",
       "       [5. , 3.4, 1.5, 0.2],\n",
       "       [5. , 3.5, 1.6, 0.6],\n",
       "       [5.9, 3.2, 4.8, 1.8],\n",
       "       [5.1, 2.5, 3. , 1.1],\n",
       "       [6.9, 3.2, 5.7, 2.3],\n",
       "       [6. , 2.7, 5.1, 1.6],\n",
       "       [6.1, 2.6, 5.6, 1.4],\n",
       "       [7.7, 3. , 6.1, 2.3],\n",
       "       [5.5, 2.5, 4. , 1.3],\n",
       "       [4.4, 2.9, 1.4, 0.2],\n",
       "       [4.3, 3. , 1.1, 0.1],\n",
       "       [6. , 2.2, 5. , 1.5],\n",
       "       [7.2, 3.2, 6. , 1.8],\n",
       "       [4.6, 3.1, 1.5, 0.2],\n",
       "       [5.1, 3.5, 1.4, 0.3],\n",
       "       [4.4, 3. , 1.3, 0.2],\n",
       "       [6.3, 2.5, 4.9, 1.5],\n",
       "       [6.3, 3.4, 5.6, 2.4],\n",
       "       [4.6, 3.4, 1.4, 0.3],\n",
       "       [6.8, 3. , 5.5, 2.1],\n",
       "       [6.3, 3.3, 6. , 2.5],\n",
       "       [4.7, 3.2, 1.3, 0.2],\n",
       "       [6.1, 2.9, 4.7, 1.4],\n",
       "       [6.5, 2.8, 4.6, 1.5],\n",
       "       [6.2, 2.8, 4.8, 1.8],\n",
       "       [7. , 3.2, 4.7, 1.4],\n",
       "       [6.4, 3.2, 5.3, 2.3],\n",
       "       [5.1, 3.8, 1.6, 0.2],\n",
       "       [6.9, 3.1, 5.4, 2.1],\n",
       "       [5.9, 3. , 4.2, 1.5],\n",
       "       [6.5, 3. , 5.2, 2. ],\n",
       "       [5.7, 2.6, 3.5, 1. ],\n",
       "       [5.2, 2.7, 3.9, 1.4],\n",
       "       [6.1, 3. , 4.6, 1.4],\n",
       "       [4.5, 2.3, 1.3, 0.3],\n",
       "       [6.6, 2.9, 4.6, 1.3],\n",
       "       [5.5, 2.6, 4.4, 1.2],\n",
       "       [5.3, 3.7, 1.5, 0.2],\n",
       "       [5.6, 3. , 4.1, 1.3],\n",
       "       [7.3, 2.9, 6.3, 1.8],\n",
       "       [6.7, 3.3, 5.7, 2.1],\n",
       "       [5.1, 3.7, 1.5, 0.4],\n",
       "       [4.9, 2.4, 3.3, 1. ],\n",
       "       [6.7, 3.3, 5.7, 2.5],\n",
       "       [7.2, 3. , 5.8, 1.6],\n",
       "       [4.9, 3.6, 1.4, 0.1],\n",
       "       [6.7, 3.1, 5.6, 2.4],\n",
       "       [4.9, 3. , 1.4, 0.2],\n",
       "       [6.9, 3.1, 4.9, 1.5],\n",
       "       [7.4, 2.8, 6.1, 1.9],\n",
       "       [6.3, 2.9, 5.6, 1.8],\n",
       "       [5.7, 2.8, 4.1, 1.3],\n",
       "       [6.5, 3. , 5.5, 1.8],\n",
       "       [6.3, 2.3, 4.4, 1.3],\n",
       "       [6.4, 2.9, 4.3, 1.3],\n",
       "       [5.6, 2.8, 4.9, 2. ],\n",
       "       [5.9, 3. , 5.1, 1.8],\n",
       "       [5.4, 3.4, 1.7, 0.2],\n",
       "       [6.1, 2.8, 4. , 1.3],\n",
       "       [4.9, 2.5, 4.5, 1.7],\n",
       "       [5.8, 4. , 1.2, 0.2],\n",
       "       [5.8, 2.6, 4. , 1.2],\n",
       "       [7.1, 3. , 5.9, 2.1]])"
      ]
     },
     "execution_count": 5,
     "metadata": {},
     "output_type": "execute_result"
    }
   ],
   "source": [
    "X_train"
   ]
  },
  {
   "cell_type": "code",
   "execution_count": 6,
   "id": "66c53b14-9d12-4bf0-87ff-ba88ca8420f3",
   "metadata": {},
   "outputs": [
    {
     "data": {
      "text/html": [
       "<style>#sk-container-id-1 {color: black;background-color: white;}#sk-container-id-1 pre{padding: 0;}#sk-container-id-1 div.sk-toggleable {background-color: white;}#sk-container-id-1 label.sk-toggleable__label {cursor: pointer;display: block;width: 100%;margin-bottom: 0;padding: 0.3em;box-sizing: border-box;text-align: center;}#sk-container-id-1 label.sk-toggleable__label-arrow:before {content: \"▸\";float: left;margin-right: 0.25em;color: #696969;}#sk-container-id-1 label.sk-toggleable__label-arrow:hover:before {color: black;}#sk-container-id-1 div.sk-estimator:hover label.sk-toggleable__label-arrow:before {color: black;}#sk-container-id-1 div.sk-toggleable__content {max-height: 0;max-width: 0;overflow: hidden;text-align: left;background-color: #f0f8ff;}#sk-container-id-1 div.sk-toggleable__content pre {margin: 0.2em;color: black;border-radius: 0.25em;background-color: #f0f8ff;}#sk-container-id-1 input.sk-toggleable__control:checked~div.sk-toggleable__content {max-height: 200px;max-width: 100%;overflow: auto;}#sk-container-id-1 input.sk-toggleable__control:checked~label.sk-toggleable__label-arrow:before {content: \"▾\";}#sk-container-id-1 div.sk-estimator input.sk-toggleable__control:checked~label.sk-toggleable__label {background-color: #d4ebff;}#sk-container-id-1 div.sk-label input.sk-toggleable__control:checked~label.sk-toggleable__label {background-color: #d4ebff;}#sk-container-id-1 input.sk-hidden--visually {border: 0;clip: rect(1px 1px 1px 1px);clip: rect(1px, 1px, 1px, 1px);height: 1px;margin: -1px;overflow: hidden;padding: 0;position: absolute;width: 1px;}#sk-container-id-1 div.sk-estimator {font-family: monospace;background-color: #f0f8ff;border: 1px dotted black;border-radius: 0.25em;box-sizing: border-box;margin-bottom: 0.5em;}#sk-container-id-1 div.sk-estimator:hover {background-color: #d4ebff;}#sk-container-id-1 div.sk-parallel-item::after {content: \"\";width: 100%;border-bottom: 1px solid gray;flex-grow: 1;}#sk-container-id-1 div.sk-label:hover label.sk-toggleable__label {background-color: #d4ebff;}#sk-container-id-1 div.sk-serial::before {content: \"\";position: absolute;border-left: 1px solid gray;box-sizing: border-box;top: 0;bottom: 0;left: 50%;z-index: 0;}#sk-container-id-1 div.sk-serial {display: flex;flex-direction: column;align-items: center;background-color: white;padding-right: 0.2em;padding-left: 0.2em;position: relative;}#sk-container-id-1 div.sk-item {position: relative;z-index: 1;}#sk-container-id-1 div.sk-parallel {display: flex;align-items: stretch;justify-content: center;background-color: white;position: relative;}#sk-container-id-1 div.sk-item::before, #sk-container-id-1 div.sk-parallel-item::before {content: \"\";position: absolute;border-left: 1px solid gray;box-sizing: border-box;top: 0;bottom: 0;left: 50%;z-index: -1;}#sk-container-id-1 div.sk-parallel-item {display: flex;flex-direction: column;z-index: 1;position: relative;background-color: white;}#sk-container-id-1 div.sk-parallel-item:first-child::after {align-self: flex-end;width: 50%;}#sk-container-id-1 div.sk-parallel-item:last-child::after {align-self: flex-start;width: 50%;}#sk-container-id-1 div.sk-parallel-item:only-child::after {width: 0;}#sk-container-id-1 div.sk-dashed-wrapped {border: 1px dashed gray;margin: 0 0.4em 0.5em 0.4em;box-sizing: border-box;padding-bottom: 0.4em;background-color: white;}#sk-container-id-1 div.sk-label label {font-family: monospace;font-weight: bold;display: inline-block;line-height: 1.2em;}#sk-container-id-1 div.sk-label-container {text-align: center;}#sk-container-id-1 div.sk-container {/* jupyter's `normalize.less` sets `[hidden] { display: none; }` but bootstrap.min.css set `[hidden] { display: none !important; }` so we also need the `!important` here to be able to override the default hidden behavior on the sphinx rendered scikit-learn.org. See: https://github.com/scikit-learn/scikit-learn/issues/21755 */display: inline-block !important;position: relative;}#sk-container-id-1 div.sk-text-repr-fallback {display: none;}</style><div id=\"sk-container-id-1\" class=\"sk-top-container\"><div class=\"sk-text-repr-fallback\"><pre>PCA(n_components=3)</pre><b>In a Jupyter environment, please rerun this cell to show the HTML representation or trust the notebook. <br />On GitHub, the HTML representation is unable to render, please try loading this page with nbviewer.org.</b></div><div class=\"sk-container\" hidden><div class=\"sk-item\"><div class=\"sk-estimator sk-toggleable\"><input class=\"sk-toggleable__control sk-hidden--visually\" id=\"sk-estimator-id-1\" type=\"checkbox\" checked><label for=\"sk-estimator-id-1\" class=\"sk-toggleable__label sk-toggleable__label-arrow\">PCA</label><div class=\"sk-toggleable__content\"><pre>PCA(n_components=3)</pre></div></div></div></div></div>"
      ],
      "text/plain": [
       "PCA(n_components=3)"
      ]
     },
     "execution_count": 6,
     "metadata": {},
     "output_type": "execute_result"
    }
   ],
   "source": [
    "## PCA- Transformation\n",
    "pca=PCA(n_components=3)\n",
    "pca"
   ]
  },
  {
   "cell_type": "code",
   "execution_count": 7,
   "id": "fba8cb78-660a-4689-b0d8-220257f68754",
   "metadata": {},
   "outputs": [
    {
     "data": {
      "text/plain": [
       "array([[ 3.22902397e-01, -2.37270677e-01,  5.67385995e-02],\n",
       "       [ 3.35552035e+00,  5.83049683e-01, -3.28026023e-01],\n",
       "       [ 6.06909989e-01, -3.15971948e-01,  3.00676488e-01],\n",
       "       [-2.72817511e+00,  4.27577132e-01,  1.15313718e-03],\n",
       "       [ 3.45649511e+00,  5.05276379e-01, -5.58623842e-01],\n",
       "       [ 1.81648425e-01, -2.53524117e-01, -2.95111131e-01],\n",
       "       [-2.68432386e+00,  4.26081277e-01, -1.16106065e-01],\n",
       "       [-2.81519461e+00,  3.65984714e-01,  1.04618538e-01],\n",
       "       [-2.24998893e+00,  5.19074070e-01,  3.29384000e-01],\n",
       "       [-5.78277826e-01, -1.17473663e+00, -3.43091299e-01],\n",
       "       [ 1.33493144e+00, -1.58668543e-01, -7.85684488e-02],\n",
       "       [-2.40366776e+00,  5.99469498e-02,  1.25799777e-01],\n",
       "       [-2.55890034e+00, -2.63787007e-02, -2.52131368e-01],\n",
       "       [-2.35087676e+00,  1.95931613e-01,  5.58985862e-02],\n",
       "       [ 2.99984039e-01, -4.44823406e-01, -1.67008263e-02],\n",
       "       [-2.63556736e+00,  3.39217011e-01, -5.69862980e-02],\n",
       "       [ 2.80440519e-01, -1.55505144e-01,  6.51056271e-02],\n",
       "       [ 3.45768728e+00,  1.17793965e+00,  1.87436615e-01],\n",
       "       [-2.89161032e+00, -1.22406484e-01,  7.89194737e-02],\n",
       "       [ 5.92900620e-01,  8.49870947e-02, -2.06299591e-01],\n",
       "       [ 1.28424359e+00, -7.49998908e-01,  2.32282228e-01],\n",
       "       [-2.62952405e+00,  1.18810519e+00,  2.31344631e-01],\n",
       "       [ 1.11774756e+00, -1.35503719e-01,  2.67782384e-01],\n",
       "       [ 1.35730781e+00, -5.49040768e-01,  2.55949246e-01],\n",
       "       [ 2.04653708e-01, -4.46887149e-01, -7.25754938e-01],\n",
       "       [ 5.33162747e-01, -4.52345961e-01,  4.08062474e-01],\n",
       "       [ 1.85478621e+00,  1.07124817e-01,  7.23217789e-01],\n",
       "       [ 1.19760710e-01, -7.54387336e-01, -2.28126219e-01],\n",
       "       [-2.31760593e+00,  8.30672471e-01,  2.21017682e-01],\n",
       "       [-7.70470956e-01, -9.28333530e-01, -1.63246219e-01],\n",
       "       [ 1.74980978e+00, -1.77273250e-01, -5.53551633e-02],\n",
       "       [-2.75109347e+00,  2.20024403e-01, -7.22862886e-02],\n",
       "       [-2.91537607e+00,  1.87696063e-01, -1.46706046e-01],\n",
       "       [-1.29445649e-01, -6.23184610e-01, -2.85811922e-01],\n",
       "       [ 1.51163890e+00,  3.16533478e-01, -1.52414200e-01],\n",
       "       [-2.68838171e+00, -6.20558575e-03, -1.40298940e-01],\n",
       "       [ 1.52775141e+00, -5.39771267e-01,  5.95511364e-01],\n",
       "       [-2.67244099e+00,  2.71030004e-01, -3.29330507e-03],\n",
       "       [-2.45185151e+00,  2.73704917e-01,  2.86496405e-01],\n",
       "       [ 1.06691868e+00, -6.43250030e-02,  4.48607795e-01],\n",
       "       [-9.68958704e-01, -6.76831693e-01, -5.08879339e-02],\n",
       "       [ 2.38374718e+00,  3.89036359e-01,  2.36514742e-01],\n",
       "       [ 1.32460232e+00, -3.76418739e-01, -1.70342852e-02],\n",
       "       [ 1.72563567e+00, -4.47135551e-01, -2.17557980e-01],\n",
       "       [ 3.03521188e+00,  7.20457647e-01, -2.98454523e-01],\n",
       "       [ 1.05805447e-01, -6.15021614e-01, -1.00993800e-01],\n",
       "       [-2.94442467e+00, -4.67829080e-01, -4.39316847e-03],\n",
       "       [-3.28065052e+00, -3.98218772e-01,  4.13865295e-02],\n",
       "       [ 1.23837611e+00, -6.94073112e-01, -3.95491288e-01],\n",
       "       [ 2.57383716e+00,  5.97978957e-01, -1.84279822e-01],\n",
       "       [-2.79900257e+00, -2.10766605e-01,  2.07800386e-02],\n",
       "       [-2.69269087e+00,  4.15494460e-01,  5.63523189e-02],\n",
       "       [-3.03703242e+00, -3.79468959e-01,  5.37462667e-02],\n",
       "       [ 1.24243396e+00, -2.61786249e-01, -3.71298413e-01],\n",
       "       [ 2.09840432e+00,  1.25874630e-01,  7.35577526e-01],\n",
       "       [-2.87008134e+00,  4.87656651e-03,  2.61251074e-01],\n",
       "       [ 2.11860009e+00,  2.43003495e-01,  4.18234049e-02],\n",
       "       [ 2.48338666e+00, -3.05999441e-02,  7.48917595e-01],\n",
       "       [-2.94036682e+00, -3.55422169e-02,  1.97997066e-02],\n",
       "       [ 9.34031714e-01, -6.99916251e-02, -7.57003195e-02],\n",
       "       [ 1.03835796e+00,  1.39668128e-01, -3.04266093e-01],\n",
       "       [ 1.20545007e+00, -1.38495428e-01,  3.32639793e-02],\n",
       "       [ 1.24496141e+00,  7.52740016e-01, -3.68238628e-01],\n",
       "       [ 1.85685860e+00,  1.22810368e-01,  4.83272610e-01],\n",
       "       [-2.57784777e+00,  5.99271195e-01,  2.02705314e-01],\n",
       "       [ 2.06286596e+00,  3.99550623e-01,  4.62698471e-02],\n",
       "       [ 4.60640500e-01, -5.53791472e-02,  1.23317186e-01],\n",
       "       [ 1.71560463e+00,  1.06556928e-01,  1.31422879e-01],\n",
       "       [-3.62028268e-01, -2.79330422e-01, -3.37544993e-01],\n",
       "       [-6.89165509e-02, -6.73622323e-01,  2.36990005e-01],\n",
       "       [ 8.41423965e-01,  1.83684964e-02, -1.75608844e-02],\n",
       "       [-2.91583113e+00, -8.11144652e-01, -3.89711010e-01],\n",
       "       [ 9.97285456e-01,  3.01703340e-01, -4.04791240e-01],\n",
       "       [ 4.05864038e-01, -6.07965122e-01, -7.09196760e-02],\n",
       "       [-2.58275302e+00,  6.84639607e-01,  2.63263442e-02],\n",
       "       [ 1.93421027e-01, -2.17097562e-01,  1.68571028e-01],\n",
       "       [ 2.88853403e+00,  4.01085599e-01, -4.12391121e-01],\n",
       "       [ 2.23205381e+00,  3.46510551e-01,  2.97068574e-01],\n",
       "       [-2.58553177e+00,  5.24100250e-01,  2.44110693e-01],\n",
       "       [-8.14322208e-01, -9.26837676e-01, -4.59870166e-02],\n",
       "       [ 2.37399080e+00,  2.98179863e-01,  5.17865301e-01],\n",
       "       [ 2.34556370e+00,  5.20133100e-01, -4.32664153e-01],\n",
       "       [-2.84438423e+00,  3.72968652e-01,  1.16906151e-01],\n",
       "       [ 2.26683170e+00,  1.89574073e-01,  3.30106926e-01],\n",
       "       [-2.76703420e+00, -5.72111865e-02, -2.09291924e-01],\n",
       "       [ 1.42180990e+00,  5.65432956e-01, -3.12059114e-01],\n",
       "       [ 2.79660929e+00,  4.24861593e-01, -4.85304690e-01],\n",
       "       [ 1.92038700e+00, -1.50043643e-01,  8.65513891e-02],\n",
       "       [ 2.44249911e-01, -2.88276278e-01, -1.22543840e-02],\n",
       "       [ 1.90152649e+00,  7.46904912e-02,  3.73048384e-02],\n",
       "       [ 7.57270148e-01, -2.83600326e-01, -6.35963066e-01],\n",
       "       [ 6.66647862e-01,  2.21361108e-01, -3.13685577e-01],\n",
       "       [ 1.14080695e+00, -5.90460071e-01,  4.71247074e-01],\n",
       "       [ 1.33776429e+00, -2.59722506e-01,  3.37755699e-01],\n",
       "       [-2.35368627e+00,  5.06423509e-01, -2.07211728e-01],\n",
       "       [ 3.06114278e-01,  3.14900815e-03, -2.32453130e-01],\n",
       "       [ 4.54651292e-01, -1.16586064e+00,  4.69094755e-01],\n",
       "       [-2.67620816e+00,  1.29065500e+00, -6.77203149e-02],\n",
       "       [ 1.73964432e-01, -3.28695061e-01, -2.53705752e-01],\n",
       "       [ 2.57174142e+00,  3.72855473e-01, -9.75484772e-02]])"
      ]
     },
     "execution_count": 7,
     "metadata": {},
     "output_type": "execute_result"
    }
   ],
   "source": [
    "X_train=pca.fit_transform(X_train)\n",
    "X_train"
   ]
  },
  {
   "cell_type": "code",
   "execution_count": 8,
   "id": "1feac174-02a1-4695-a46a-b19725363f05",
   "metadata": {},
   "outputs": [
    {
     "data": {
      "text/plain": [
       "array([[ 8.70040853e-01, -1.15509142e-01, -2.49664892e-01],\n",
       "       [-2.23549168e+00,  9.77633301e-01, -5.88266880e-02],\n",
       "       [ 3.74816334e+00,  2.92308120e-01, -5.09305167e-01],\n",
       "       [ 7.61382105e-01, -1.12906783e-01,  2.23383067e-02],\n",
       "       [ 1.28475481e+00,  3.18957299e-01, -5.09690705e-01],\n",
       "       [-2.45397801e+00,  5.19612686e-01, -1.07666913e-01],\n",
       "       [-2.27751928e-01, -1.93394122e-01,  7.78709474e-02],\n",
       "       [ 1.87694410e+00,  4.31417060e-01,  1.40387888e-01],\n",
       "       [ 8.83972768e-01, -4.64312798e-01, -5.30011145e-01],\n",
       "       [ 8.13566829e-02, -2.40334940e-01, -1.95566316e-01],\n",
       "       [ 1.61601925e+00,  2.64599911e-01,  2.53128524e-01],\n",
       "       [-2.83939206e+00, -1.13315521e-01, -2.10798113e-01],\n",
       "       [-2.66631075e+00,  7.19002418e-01, -2.19045609e-01],\n",
       "       [-2.72386596e+00,  5.87708626e-03, -1.95498122e-01],\n",
       "       [-2.62799364e+00,  6.05865783e-01,  2.52477721e-01],\n",
       "       [ 1.05083692e+00,  3.20948488e-01,  1.81576895e-01],\n",
       "       [ 2.30035383e+00, -2.96719778e-02,  2.74381888e-01],\n",
       "       [-1.39195422e-02, -5.03992003e-01, -2.70511931e-01],\n",
       "       [ 5.86770381e-01, -3.62985319e-01,  9.45271271e-03],\n",
       "       [ 2.10617523e+00, -1.99870186e-01,  1.90088914e-01],\n",
       "       [-2.68347647e+00, -9.15739979e-02,  3.60800292e-02],\n",
       "       [ 1.24025130e+00, -8.59939727e-02,  2.19516165e-01],\n",
       "       [-2.51584238e+00,  2.28187400e-01,  1.12531833e-01],\n",
       "       [ 2.07069099e+00, -1.87787514e-01,  1.34889732e-01],\n",
       "       [ 3.20357568e+00,  1.39451078e+00, -4.66280566e-02],\n",
       "       [ 1.89580461e+00,  2.06682925e-01,  1.89634439e-01],\n",
       "       [ 2.26705224e+00, -1.93381582e-01, -3.71631872e-01],\n",
       "       [ 2.51813379e+00,  2.83494831e-01,  3.01061284e-01],\n",
       "       [-2.76842357e+00, -1.37480865e-01, -1.00399749e-01],\n",
       "       [-2.63962522e+00, -9.30698525e-02, -8.11791731e-02],\n",
       "       [-3.26204132e+00,  2.31034002e-01,  3.11477214e-01],\n",
       "       [-2.41313346e+00,  1.42100232e+00,  3.66916201e-01],\n",
       "       [ 8.84427825e-01,  5.34527917e-01, -2.87006181e-01],\n",
       "       [-2.66055811e+00,  1.15978731e-01,  1.09519455e-01],\n",
       "       [-3.05098768e+00, -2.40103236e-01,  1.80878685e-01],\n",
       "       [ 1.47000107e+00, -3.28794198e-01, -1.45074912e-01],\n",
       "       [ 8.87943694e-01,  3.68889826e-01, -1.73503689e-03],\n",
       "       [-2.60567137e+00,  4.77086878e-01, -4.71130816e-02],\n",
       "       [-2.77202637e+00,  4.29072987e-01,  1.18412339e-01],\n",
       "       [-2.68302141e+00,  9.07266717e-01,  2.79084993e-01],\n",
       "       [ 1.35730781e+00, -5.49040768e-01,  2.55949246e-01],\n",
       "       [ 7.61978193e-01,  2.23424851e-01,  3.95368535e-01],\n",
       "       [ 1.17680242e+00,  4.66413464e-01, -2.15526677e-01],\n",
       "       [-2.66012640e+00,  9.05381512e-01,  1.99310585e-01],\n",
       "       [-2.54587940e+00,  7.52826613e-01, -2.73666487e-02],\n",
       "       [-2.50560013e-01, -5.92424678e-01, -3.46437877e-01],\n",
       "       [ 1.39276130e+00, -9.00921866e-02, -1.69746236e-01],\n",
       "       [ 1.85767524e+00,  7.61863459e-02,  1.54564041e-01],\n",
       "       [ 8.54531836e-01,  3.96658049e-01, -2.96879397e-01],\n",
       "       [ 2.87994648e+00,  7.73454437e-01,  4.61806061e-01]])"
      ]
     },
     "execution_count": 8,
     "metadata": {},
     "output_type": "execute_result"
    }
   ],
   "source": [
    "X_test=pca.transform(X_test)\n",
    "X_test"
   ]
  },
  {
   "cell_type": "code",
   "execution_count": 9,
   "id": "7b3f179a-49cd-4961-8702-3c70faa0794b",
   "metadata": {},
   "outputs": [
    {
     "data": {
      "text/plain": [
       "array([[ 0.36873621, -0.06977632,  0.85630117,  0.35484246],\n",
       "       [ 0.68187006,  0.69682861, -0.1867726 , -0.12082672],\n",
       "       [-0.53692993,  0.63566209,  0.05426774,  0.55199182]])"
      ]
     },
     "execution_count": 9,
     "metadata": {},
     "output_type": "execute_result"
    }
   ],
   "source": [
    "pca.components_"
   ]
  },
  {
   "cell_type": "code",
   "execution_count": 10,
   "id": "adf69877-6665-474b-ad53-f07fedbaadd3",
   "metadata": {},
   "outputs": [
    {
     "data": {
      "text/plain": [
       "array([0.9201008 , 0.05494812, 0.01978256])"
      ]
     },
     "execution_count": 10,
     "metadata": {},
     "output_type": "execute_result"
    }
   ],
   "source": [
    "pca.explained_variance_ratio_"
   ]
  },
  {
   "cell_type": "code",
   "execution_count": 11,
   "id": "759da7e4-7b7d-4180-bd9d-f49f84553bae",
   "metadata": {},
   "outputs": [
    {
     "data": {
      "image/png": "[encoded data removed]",
      "text/plain": [
       "<Figure size 400x300 with 1 Axes>"
      ]
     },
     "metadata": {},
     "output_type": "display_data"
    }
   ],
   "source": [
    "# Code source: Gaël Varoquaux\n",
    "# License: BSD 3 clause\n",
    "\n",
    "import numpy as np\n",
    "import matplotlib.pyplot as plt\n",
    "\n",
    "\n",
    "from sklearn import decomposition\n",
    "from sklearn import datasets\n",
    "\n",
    "# unused but required import for doing 3d projections with matplotlib < 3.2\n",
    "import mpl_toolkits.mplot3d  # noqa: F401\n",
    "\n",
    "np.random.seed(5)\n",
    "\n",
    "iris = datasets.load_iris()\n",
    "X = iris.data\n",
    "y = iris.target\n",
    "\n",
    "fig = plt.figure(1, figsize=(4, 3))\n",
    "plt.clf()\n",
    "\n",
    "ax = fig.add_subplot(111, projection=\"3d\", elev=48, azim=134)\n",
    "ax.set_position([0, 0, 0.95, 1])\n",
    "\n",
    "\n",
    "plt.cla()\n",
    "pca = decomposition.PCA(n_components=3)\n",
    "pca.fit(X)\n",
    "X = pca.transform(X)\n",
    "\n",
    "for name, label in [(\"Setosa\", 0), (\"Versicolour\", 1), (\"Virginica\", 2)]:\n",
    "    ax.text3D(\n",
    "        X[y == label, 0].mean(),\n",
    "        X[y == label, 1].mean() + 1.5,\n",
    "        X[y == label, 2].mean(),\n",
    "        name,\n",
    "        horizontalalignment=\"center\",\n",
    "        bbox=dict(alpha=0.5, edgecolor=\"w\", facecolor=\"w\"),\n",
    "    )\n",
    "# Reorder the labels to have colors matching the cluster results\n",
    "y = np.choose(y, [1, 2, 0]).astype(float)\n",
    "ax.scatter(X[:, 0], X[:, 1], X[:, 2], c=y, cmap=plt.cm.nipy_spectral, edgecolor=\"k\")\n",
    "\n",
    "ax.xaxis.set_ticklabels([])\n",
    "ax.yaxis.set_ticklabels([])\n",
    "ax.zaxis.set_ticklabels([])\n",
    "\n",
    "plt.show()"
   ]
  },
  {
   "cell_type": "code",
   "execution_count": null,
   "id": "12239600-84cc-4a4e-934d-bf9f67ed9c2d",
   "metadata": {},
   "outputs": [],
   "source": []
  },
  {
   "cell_type": "code",
   "execution_count": null,
   "id": "9a34fc8b-8899-4843-8cbf-cb7108815bbf",
   "metadata": {},
   "outputs": [],
   "source": []
  },
  {
   "cell_type": "code",
   "execution_count": null,
   "id": "cc844ab7-2718-4f52-9fb1-81c81f2c0cc6",
   "metadata": {},
   "outputs": [],
   "source": []
  },
  {
   "cell_type": "code",
   "execution_count": null,
   "id": "7f50be9d-f29a-4265-aa12-f8e64b060f60",
   "metadata": {},
   "outputs": [],
   "source": []
  },
  {
   "cell_type": "code",
   "execution_count": null,
   "id": "64757b7c-0a12-4c9a-84ac-f9f17759d9c6",
   "metadata": {},
   "outputs": [],
   "source": []
  },
  {
   "cell_type": "code",
   "execution_count": null,
   "id": "4563271f-9013-46ad-be8f-1d62b3f47fb6",
   "metadata": {},
   "outputs": [],
   "source": []
  },
  {
   "cell_type": "code",
   "execution_count": null,
   "id": "28438849-ff48-4815-84e6-ce62268c8de0",
   "metadata": {},
   "outputs": [],
   "source": []
  }
 ],
 "metadata": {
  "kernelspec": {
   "display_name": "Python 3 (ipykernel)",
   "language": "python",
   "name": "python3"
  },
  "language_info": {
   "codemirror_mode": {
    "name": "ipython",
    "version": 3
   },
   "file_extension": ".py",
   "mimetype": "text/x-python",
   "name": "python",
   "nbconvert_exporter": "python",
   "pygments_lexer": "ipython3",
   "version": "3.10.8"
  }
 },
 "nbformat": 4,
 "nbformat_minor": 5
}
